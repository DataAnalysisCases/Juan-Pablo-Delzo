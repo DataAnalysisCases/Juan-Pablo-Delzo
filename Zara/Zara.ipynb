{
 "cells": [
  {
   "cell_type": "markdown",
   "metadata": {},
   "source": [
    "![](https://encrypted-tbn0.gstatic.com/images?q=tbn%3AANd9GcSSKP4m1vpP6cQpUQ3Ci8rYNQomSSN9OTPR3w&usqp=CAU)\n",
    "\n",
    "<br>\n",
    "\n",
    "# Ejercicio práctico\n",
    "Una persona recibe su nómina **el último jueves de cada mes**. Desde el primer día que $Inditex$ cotiza en bolsa (*el 23-may-2001*), él ha decidido invertir al día siguiente de haber cobrado su nómima (o si ese día no hubo cotización, el siguiente día que la haya), la cantidad de **50€** en acciones del grupo.\n",
    "\n",
    "La compra de las acciones la realiza al precio de **apertura de ese día de compra**. Esta persona utiliza un broker que le permite comprar acciones parciales de forma que pueda invertir siempre los 50€, pero este broker se queda en el momento de la compra con un **2%** del importe invertido.\n",
    "\n",
    "Calcule usted el capital final obtenido si la persona realiza la venta total de sus acciones el día *28-dic-2017* al valor del cierre de la cotización.\n",
    "\n",
    ">**NOTA:** *Descargue el histórico de cotización de acciones de ITX llamado* `stocks-ITX.csv` *para la realización de los cálculos* \n",
    "\n",
    "## Solución\n",
    "\n",
    "Se va a trabajar con las librerias *Pandas, Numpy y Matplotlib*"
   ]
  },
  {
   "cell_type": "code",
   "execution_count": 1,
   "metadata": {},
   "outputs": [],
   "source": [
    "import pandas as pd\n",
    "import datetime as dt\n",
    "import matplotlib.pyplot as plt\n",
    "plt.style.use('dark_background')\n",
    "import numpy as np"
   ]
  },
  {
   "cell_type": "code",
   "execution_count": 2,
   "metadata": {},
   "outputs": [
    {
     "data": {
      "text/html": [
       "<div>\n",
       "<style scoped>\n",
       "    .dataframe tbody tr th:only-of-type {\n",
       "        vertical-align: middle;\n",
       "    }\n",
       "\n",
       "    .dataframe tbody tr th {\n",
       "        vertical-align: top;\n",
       "    }\n",
       "\n",
       "    .dataframe thead th {\n",
       "        text-align: right;\n",
       "    }\n",
       "</style>\n",
       "<table border=\"1\" class=\"dataframe\">\n",
       "  <thead>\n",
       "    <tr style=\"text-align: right;\">\n",
       "      <th></th>\n",
       "      <th>Fecha</th>\n",
       "      <th>Cierre</th>\n",
       "      <th>Apertura</th>\n",
       "    </tr>\n",
       "  </thead>\n",
       "  <tbody>\n",
       "    <tr>\n",
       "      <th>0</th>\n",
       "      <td>28-dic-2017</td>\n",
       "      <td>29.170</td>\n",
       "      <td>29.600</td>\n",
       "    </tr>\n",
       "    <tr>\n",
       "      <th>1</th>\n",
       "      <td>27-dic-2017</td>\n",
       "      <td>29.580</td>\n",
       "      <td>29.705</td>\n",
       "    </tr>\n",
       "    <tr>\n",
       "      <th>2</th>\n",
       "      <td>22-dic-2017</td>\n",
       "      <td>29.615</td>\n",
       "      <td>29.660</td>\n",
       "    </tr>\n",
       "    <tr>\n",
       "      <th>3</th>\n",
       "      <td>21-dic-2017</td>\n",
       "      <td>29.930</td>\n",
       "      <td>29.540</td>\n",
       "    </tr>\n",
       "    <tr>\n",
       "      <th>4</th>\n",
       "      <td>20-dic-2017</td>\n",
       "      <td>29.530</td>\n",
       "      <td>29.860</td>\n",
       "    </tr>\n",
       "    <tr>\n",
       "      <th>5</th>\n",
       "      <td>19-dic-2017</td>\n",
       "      <td>29.805</td>\n",
       "      <td>29.955</td>\n",
       "    </tr>\n",
       "    <tr>\n",
       "      <th>6</th>\n",
       "      <td>18-dic-2017</td>\n",
       "      <td>30.010</td>\n",
       "      <td>30.225</td>\n",
       "    </tr>\n",
       "    <tr>\n",
       "      <th>7</th>\n",
       "      <td>14-dic-2017</td>\n",
       "      <td>30.720</td>\n",
       "      <td>31.400</td>\n",
       "    </tr>\n",
       "    <tr>\n",
       "      <th>8</th>\n",
       "      <td>13-dic-2017</td>\n",
       "      <td>31.295</td>\n",
       "      <td>32.000</td>\n",
       "    </tr>\n",
       "    <tr>\n",
       "      <th>9</th>\n",
       "      <td>12-dic-2017</td>\n",
       "      <td>30.765</td>\n",
       "      <td>31.230</td>\n",
       "    </tr>\n",
       "  </tbody>\n",
       "</table>\n",
       "</div>"
      ],
      "text/plain": [
       "         Fecha  Cierre  Apertura\n",
       "0  28-dic-2017  29.170    29.600\n",
       "1  27-dic-2017  29.580    29.705\n",
       "2  22-dic-2017  29.615    29.660\n",
       "3  21-dic-2017  29.930    29.540\n",
       "4  20-dic-2017  29.530    29.860\n",
       "5  19-dic-2017  29.805    29.955\n",
       "6  18-dic-2017  30.010    30.225\n",
       "7  14-dic-2017  30.720    31.400\n",
       "8  13-dic-2017  31.295    32.000\n",
       "9  12-dic-2017  30.765    31.230"
      ]
     },
     "execution_count": 2,
     "metadata": {},
     "output_type": "execute_result"
    }
   ],
   "source": [
    "data = pd.read_csv('stocks-ITX.csv',sep=';')\n",
    "data.head(10)"
   ]
  },
  {
   "cell_type": "code",
   "execution_count": 3,
   "metadata": {},
   "outputs": [
    {
     "data": {
      "text/plain": [
       "Fecha        object\n",
       "Cierre      float64\n",
       "Apertura    float64\n",
       "dtype: object"
      ]
     },
     "execution_count": 3,
     "metadata": {},
     "output_type": "execute_result"
    }
   ],
   "source": [
    "data.dtypes"
   ]
  },
  {
   "cell_type": "markdown",
   "metadata": {},
   "source": [
    "Averiguando si hay valores nulos"
   ]
  },
  {
   "cell_type": "code",
   "execution_count": 4,
   "metadata": {},
   "outputs": [
    {
     "data": {
      "text/plain": [
       "Fecha       False\n",
       "Cierre      False\n",
       "Apertura    False\n",
       "dtype: bool"
      ]
     },
     "execution_count": 4,
     "metadata": {},
     "output_type": "execute_result"
    }
   ],
   "source": [
    "data.isnull().any()"
   ]
  },
  {
   "cell_type": "markdown",
   "metadata": {},
   "source": [
    "*No existen valores nulos*\n",
    "<br>\n",
    "<br>\n",
    "Invirtiendo el orden: "
   ]
  },
  {
   "cell_type": "code",
   "execution_count": 5,
   "metadata": {},
   "outputs": [
    {
     "data": {
      "text/html": [
       "<div>\n",
       "<style scoped>\n",
       "    .dataframe tbody tr th:only-of-type {\n",
       "        vertical-align: middle;\n",
       "    }\n",
       "\n",
       "    .dataframe tbody tr th {\n",
       "        vertical-align: top;\n",
       "    }\n",
       "\n",
       "    .dataframe thead th {\n",
       "        text-align: right;\n",
       "    }\n",
       "</style>\n",
       "<table border=\"1\" class=\"dataframe\">\n",
       "  <thead>\n",
       "    <tr style=\"text-align: right;\">\n",
       "      <th></th>\n",
       "      <th>Fecha</th>\n",
       "      <th>Cierre</th>\n",
       "      <th>Apertura</th>\n",
       "    </tr>\n",
       "  </thead>\n",
       "  <tbody>\n",
       "    <tr>\n",
       "      <th>0</th>\n",
       "      <td>23-may-2001</td>\n",
       "      <td>3.600</td>\n",
       "      <td>3.704</td>\n",
       "    </tr>\n",
       "    <tr>\n",
       "      <th>1</th>\n",
       "      <td>24-may-2001</td>\n",
       "      <td>3.608</td>\n",
       "      <td>3.600</td>\n",
       "    </tr>\n",
       "    <tr>\n",
       "      <th>2</th>\n",
       "      <td>25-may-2001</td>\n",
       "      <td>3.602</td>\n",
       "      <td>3.600</td>\n",
       "    </tr>\n",
       "    <tr>\n",
       "      <th>3</th>\n",
       "      <td>28-may-2001</td>\n",
       "      <td>3.580</td>\n",
       "      <td>3.560</td>\n",
       "    </tr>\n",
       "    <tr>\n",
       "      <th>4</th>\n",
       "      <td>29-may-2001</td>\n",
       "      <td>3.614</td>\n",
       "      <td>3.562</td>\n",
       "    </tr>\n",
       "  </tbody>\n",
       "</table>\n",
       "</div>"
      ],
      "text/plain": [
       "         Fecha  Cierre  Apertura\n",
       "0  23-may-2001   3.600     3.704\n",
       "1  24-may-2001   3.608     3.600\n",
       "2  25-may-2001   3.602     3.600\n",
       "3  28-may-2001   3.580     3.560\n",
       "4  29-may-2001   3.614     3.562"
      ]
     },
     "execution_count": 5,
     "metadata": {},
     "output_type": "execute_result"
    }
   ],
   "source": [
    "data = data.iloc[::-1,:].reset_index(drop= True)\n",
    "data.head()"
   ]
  },
  {
   "cell_type": "markdown",
   "metadata": {},
   "source": [
    "Tranformando los meses en español abreviado a números con dos dígitos para que la columna fecha sea variables *datetime*"
   ]
  },
  {
   "cell_type": "code",
   "execution_count": 6,
   "metadata": {},
   "outputs": [],
   "source": [
    "meses_en_esp=['ene','feb','mar','abr','may','jun','jul','ago','set','oct','nov','dic']\n",
    "for index, mes in enumerate(meses_en_esp):\n",
    "    data['Fecha']=data['Fecha'].str.replace(mes,str(index+1).zfill(2),regex=False)    "
   ]
  },
  {
   "cell_type": "code",
   "execution_count": 7,
   "metadata": {},
   "outputs": [
    {
     "data": {
      "text/html": [
       "<div>\n",
       "<style scoped>\n",
       "    .dataframe tbody tr th:only-of-type {\n",
       "        vertical-align: middle;\n",
       "    }\n",
       "\n",
       "    .dataframe tbody tr th {\n",
       "        vertical-align: top;\n",
       "    }\n",
       "\n",
       "    .dataframe thead th {\n",
       "        text-align: right;\n",
       "    }\n",
       "</style>\n",
       "<table border=\"1\" class=\"dataframe\">\n",
       "  <thead>\n",
       "    <tr style=\"text-align: right;\">\n",
       "      <th></th>\n",
       "      <th>Fecha</th>\n",
       "      <th>Cierre</th>\n",
       "      <th>Apertura</th>\n",
       "    </tr>\n",
       "  </thead>\n",
       "  <tbody>\n",
       "    <tr>\n",
       "      <th>0</th>\n",
       "      <td>23-05-2001</td>\n",
       "      <td>3.600</td>\n",
       "      <td>3.704</td>\n",
       "    </tr>\n",
       "    <tr>\n",
       "      <th>1</th>\n",
       "      <td>24-05-2001</td>\n",
       "      <td>3.608</td>\n",
       "      <td>3.600</td>\n",
       "    </tr>\n",
       "    <tr>\n",
       "      <th>2</th>\n",
       "      <td>25-05-2001</td>\n",
       "      <td>3.602</td>\n",
       "      <td>3.600</td>\n",
       "    </tr>\n",
       "    <tr>\n",
       "      <th>3</th>\n",
       "      <td>28-05-2001</td>\n",
       "      <td>3.580</td>\n",
       "      <td>3.560</td>\n",
       "    </tr>\n",
       "    <tr>\n",
       "      <th>4</th>\n",
       "      <td>29-05-2001</td>\n",
       "      <td>3.614</td>\n",
       "      <td>3.562</td>\n",
       "    </tr>\n",
       "  </tbody>\n",
       "</table>\n",
       "</div>"
      ],
      "text/plain": [
       "        Fecha  Cierre  Apertura\n",
       "0  23-05-2001   3.600     3.704\n",
       "1  24-05-2001   3.608     3.600\n",
       "2  25-05-2001   3.602     3.600\n",
       "3  28-05-2001   3.580     3.560\n",
       "4  29-05-2001   3.614     3.562"
      ]
     },
     "execution_count": 7,
     "metadata": {},
     "output_type": "execute_result"
    }
   ],
   "source": [
    "data.head()"
   ]
  },
  {
   "cell_type": "code",
   "execution_count": 8,
   "metadata": {},
   "outputs": [],
   "source": [
    "data['Fecha']= pd.to_datetime(data['Fecha'])"
   ]
  },
  {
   "cell_type": "code",
   "execution_count": 9,
   "metadata": {},
   "outputs": [
    {
     "data": {
      "text/plain": [
       "Fecha       datetime64[ns]\n",
       "Cierre             float64\n",
       "Apertura           float64\n",
       "dtype: object"
      ]
     },
     "execution_count": 9,
     "metadata": {},
     "output_type": "execute_result"
    }
   ],
   "source": [
    "data.dtypes"
   ]
  },
  {
   "cell_type": "markdown",
   "metadata": {},
   "source": [
    "Añadiendo las columnas Mes y Año  "
   ]
  },
  {
   "cell_type": "code",
   "execution_count": 10,
   "metadata": {},
   "outputs": [],
   "source": [
    "data['Dia_semana']= data['Fecha'].dt.day_name()\n",
    "data['Mes']= data['Fecha'].dt.month\n",
    "data['Año']= data['Fecha'].dt.year"
   ]
  },
  {
   "cell_type": "code",
   "execution_count": 11,
   "metadata": {},
   "outputs": [
    {
     "data": {
      "text/html": [
       "<div>\n",
       "<style scoped>\n",
       "    .dataframe tbody tr th:only-of-type {\n",
       "        vertical-align: middle;\n",
       "    }\n",
       "\n",
       "    .dataframe tbody tr th {\n",
       "        vertical-align: top;\n",
       "    }\n",
       "\n",
       "    .dataframe thead th {\n",
       "        text-align: right;\n",
       "    }\n",
       "</style>\n",
       "<table border=\"1\" class=\"dataframe\">\n",
       "  <thead>\n",
       "    <tr style=\"text-align: right;\">\n",
       "      <th></th>\n",
       "      <th>Fecha</th>\n",
       "      <th>Cierre</th>\n",
       "      <th>Apertura</th>\n",
       "      <th>Dia_semana</th>\n",
       "      <th>Mes</th>\n",
       "      <th>Año</th>\n",
       "    </tr>\n",
       "  </thead>\n",
       "  <tbody>\n",
       "    <tr>\n",
       "      <th>0</th>\n",
       "      <td>2001-05-23</td>\n",
       "      <td>3.600</td>\n",
       "      <td>3.704</td>\n",
       "      <td>Wednesday</td>\n",
       "      <td>5</td>\n",
       "      <td>2001</td>\n",
       "    </tr>\n",
       "    <tr>\n",
       "      <th>1</th>\n",
       "      <td>2001-05-24</td>\n",
       "      <td>3.608</td>\n",
       "      <td>3.600</td>\n",
       "      <td>Thursday</td>\n",
       "      <td>5</td>\n",
       "      <td>2001</td>\n",
       "    </tr>\n",
       "    <tr>\n",
       "      <th>2</th>\n",
       "      <td>2001-05-25</td>\n",
       "      <td>3.602</td>\n",
       "      <td>3.600</td>\n",
       "      <td>Friday</td>\n",
       "      <td>5</td>\n",
       "      <td>2001</td>\n",
       "    </tr>\n",
       "    <tr>\n",
       "      <th>3</th>\n",
       "      <td>2001-05-28</td>\n",
       "      <td>3.580</td>\n",
       "      <td>3.560</td>\n",
       "      <td>Monday</td>\n",
       "      <td>5</td>\n",
       "      <td>2001</td>\n",
       "    </tr>\n",
       "    <tr>\n",
       "      <th>4</th>\n",
       "      <td>2001-05-29</td>\n",
       "      <td>3.614</td>\n",
       "      <td>3.562</td>\n",
       "      <td>Tuesday</td>\n",
       "      <td>5</td>\n",
       "      <td>2001</td>\n",
       "    </tr>\n",
       "  </tbody>\n",
       "</table>\n",
       "</div>"
      ],
      "text/plain": [
       "       Fecha  Cierre  Apertura Dia_semana  Mes   Año\n",
       "0 2001-05-23   3.600     3.704  Wednesday    5  2001\n",
       "1 2001-05-24   3.608     3.600   Thursday    5  2001\n",
       "2 2001-05-25   3.602     3.600     Friday    5  2001\n",
       "3 2001-05-28   3.580     3.560     Monday    5  2001\n",
       "4 2001-05-29   3.614     3.562    Tuesday    5  2001"
      ]
     },
     "execution_count": 11,
     "metadata": {},
     "output_type": "execute_result"
    }
   ],
   "source": [
    "data.head()"
   ]
  },
  {
   "cell_type": "code",
   "execution_count": 12,
   "metadata": {},
   "outputs": [
    {
     "data": {
      "text/html": [
       "<div>\n",
       "<style scoped>\n",
       "    .dataframe tbody tr th:only-of-type {\n",
       "        vertical-align: middle;\n",
       "    }\n",
       "\n",
       "    .dataframe tbody tr th {\n",
       "        vertical-align: top;\n",
       "    }\n",
       "\n",
       "    .dataframe thead th {\n",
       "        text-align: right;\n",
       "    }\n",
       "</style>\n",
       "<table border=\"1\" class=\"dataframe\">\n",
       "  <thead>\n",
       "    <tr style=\"text-align: right;\">\n",
       "      <th></th>\n",
       "      <th>Fecha</th>\n",
       "      <th>Cierre</th>\n",
       "      <th>Apertura</th>\n",
       "      <th>Dia_semana</th>\n",
       "      <th>Mes</th>\n",
       "      <th>Año</th>\n",
       "    </tr>\n",
       "  </thead>\n",
       "  <tbody>\n",
       "    <tr>\n",
       "      <th>4213</th>\n",
       "      <td>2017-12-20</td>\n",
       "      <td>29.530</td>\n",
       "      <td>29.860</td>\n",
       "      <td>Wednesday</td>\n",
       "      <td>12</td>\n",
       "      <td>2017</td>\n",
       "    </tr>\n",
       "    <tr>\n",
       "      <th>4214</th>\n",
       "      <td>2017-12-21</td>\n",
       "      <td>29.930</td>\n",
       "      <td>29.540</td>\n",
       "      <td>Thursday</td>\n",
       "      <td>12</td>\n",
       "      <td>2017</td>\n",
       "    </tr>\n",
       "    <tr>\n",
       "      <th>4215</th>\n",
       "      <td>2017-12-22</td>\n",
       "      <td>29.615</td>\n",
       "      <td>29.660</td>\n",
       "      <td>Friday</td>\n",
       "      <td>12</td>\n",
       "      <td>2017</td>\n",
       "    </tr>\n",
       "    <tr>\n",
       "      <th>4216</th>\n",
       "      <td>2017-12-27</td>\n",
       "      <td>29.580</td>\n",
       "      <td>29.705</td>\n",
       "      <td>Wednesday</td>\n",
       "      <td>12</td>\n",
       "      <td>2017</td>\n",
       "    </tr>\n",
       "    <tr>\n",
       "      <th>4217</th>\n",
       "      <td>2017-12-28</td>\n",
       "      <td>29.170</td>\n",
       "      <td>29.600</td>\n",
       "      <td>Thursday</td>\n",
       "      <td>12</td>\n",
       "      <td>2017</td>\n",
       "    </tr>\n",
       "  </tbody>\n",
       "</table>\n",
       "</div>"
      ],
      "text/plain": [
       "          Fecha  Cierre  Apertura Dia_semana  Mes   Año\n",
       "4213 2017-12-20  29.530    29.860  Wednesday   12  2017\n",
       "4214 2017-12-21  29.930    29.540   Thursday   12  2017\n",
       "4215 2017-12-22  29.615    29.660     Friday   12  2017\n",
       "4216 2017-12-27  29.580    29.705  Wednesday   12  2017\n",
       "4217 2017-12-28  29.170    29.600   Thursday   12  2017"
      ]
     },
     "execution_count": 12,
     "metadata": {},
     "output_type": "execute_result"
    }
   ],
   "source": [
    "data.tail()"
   ]
  },
  {
   "cell_type": "markdown",
   "metadata": {},
   "source": [
    "Queremos añadir una columna donde indique si en aquel día la acción **se devaluó o se revalorizó**.\n",
    "\n",
    "Existen dos caminos:\n",
    "\n",
    "1. El primero es usando la función `where` de $numpy$:\n",
    "\n",
    "```python\n",
    " import numpy as np\n",
    " data['Valor_acción']= np.where(data.Cierre > data.Apertura, 'revalorizó','devaluó')\n",
    "\n",
    "```\n",
    "2. El segundo es usando la función `apply` de $pandas$ pero primero se debe definir un sub programa tal y como sigue:"
   ]
  },
  {
   "cell_type": "code",
   "execution_count": 13,
   "metadata": {},
   "outputs": [],
   "source": [
    "def sentencia_accion(df):\n",
    "    if df.Cierre > df.Apertura:\n",
    "        sentencia = 'revalorizó'\n",
    "    else:\n",
    "        sentencia = 'devaluó'\n",
    "    return sentencia"
   ]
  },
  {
   "cell_type": "code",
   "execution_count": 14,
   "metadata": {},
   "outputs": [],
   "source": [
    "data['Valor_accion']= data.apply(sentencia_accion, axis=1)"
   ]
  },
  {
   "cell_type": "code",
   "execution_count": 15,
   "metadata": {},
   "outputs": [
    {
     "data": {
      "text/plain": [
       "devaluó       2132\n",
       "revalorizó    2086\n",
       "Name: Valor_accion, dtype: int64"
      ]
     },
     "execution_count": 15,
     "metadata": {},
     "output_type": "execute_result"
    }
   ],
   "source": [
    "data.Valor_accion.value_counts()"
   ]
  },
  {
   "cell_type": "markdown",
   "metadata": {},
   "source": [
    "Creando la tabla **calendario** donde se muestre las fechas desde *2001-05-23* hasta *2017-12-28* con sus respectivos dias de semana, mes y año"
   ]
  },
  {
   "cell_type": "code",
   "execution_count": 16,
   "metadata": {},
   "outputs": [],
   "source": [
    "fecha_ini= data.Fecha[0]\n",
    "fecha_fin= data.Fecha[data.shape[0]-1]\n",
    "dias= fecha_fin - fecha_ini\n",
    "n_dias = dias.days + 1\n",
    "Fechas=[fecha_ini] \n",
    "for i in range(1,n_dias):\n",
    "    Fechas.append(Fechas[i-1]+ dt.timedelta(days=1))    "
   ]
  },
  {
   "cell_type": "code",
   "execution_count": 17,
   "metadata": {},
   "outputs": [],
   "source": [
    "calendario=pd.DataFrame({'Fecha':Fechas})\n",
    "calendario['Dia_semana']= calendario['Fecha'].dt.day_name()\n",
    "calendario['Mes']= calendario['Fecha'].dt.month\n",
    "calendario['Año']= calendario['Fecha'].dt.year"
   ]
  },
  {
   "cell_type": "code",
   "execution_count": 18,
   "metadata": {},
   "outputs": [
    {
     "data": {
      "text/html": [
       "<div>\n",
       "<style scoped>\n",
       "    .dataframe tbody tr th:only-of-type {\n",
       "        vertical-align: middle;\n",
       "    }\n",
       "\n",
       "    .dataframe tbody tr th {\n",
       "        vertical-align: top;\n",
       "    }\n",
       "\n",
       "    .dataframe thead th {\n",
       "        text-align: right;\n",
       "    }\n",
       "</style>\n",
       "<table border=\"1\" class=\"dataframe\">\n",
       "  <thead>\n",
       "    <tr style=\"text-align: right;\">\n",
       "      <th></th>\n",
       "      <th>Fecha</th>\n",
       "      <th>Dia_semana</th>\n",
       "      <th>Mes</th>\n",
       "      <th>Año</th>\n",
       "    </tr>\n",
       "  </thead>\n",
       "  <tbody>\n",
       "    <tr>\n",
       "      <th>0</th>\n",
       "      <td>2001-05-23</td>\n",
       "      <td>Wednesday</td>\n",
       "      <td>5</td>\n",
       "      <td>2001</td>\n",
       "    </tr>\n",
       "    <tr>\n",
       "      <th>1</th>\n",
       "      <td>2001-05-24</td>\n",
       "      <td>Thursday</td>\n",
       "      <td>5</td>\n",
       "      <td>2001</td>\n",
       "    </tr>\n",
       "    <tr>\n",
       "      <th>2</th>\n",
       "      <td>2001-05-25</td>\n",
       "      <td>Friday</td>\n",
       "      <td>5</td>\n",
       "      <td>2001</td>\n",
       "    </tr>\n",
       "    <tr>\n",
       "      <th>3</th>\n",
       "      <td>2001-05-26</td>\n",
       "      <td>Saturday</td>\n",
       "      <td>5</td>\n",
       "      <td>2001</td>\n",
       "    </tr>\n",
       "    <tr>\n",
       "      <th>4</th>\n",
       "      <td>2001-05-27</td>\n",
       "      <td>Sunday</td>\n",
       "      <td>5</td>\n",
       "      <td>2001</td>\n",
       "    </tr>\n",
       "  </tbody>\n",
       "</table>\n",
       "</div>"
      ],
      "text/plain": [
       "       Fecha Dia_semana  Mes   Año\n",
       "0 2001-05-23  Wednesday    5  2001\n",
       "1 2001-05-24   Thursday    5  2001\n",
       "2 2001-05-25     Friday    5  2001\n",
       "3 2001-05-26   Saturday    5  2001\n",
       "4 2001-05-27     Sunday    5  2001"
      ]
     },
     "execution_count": 18,
     "metadata": {},
     "output_type": "execute_result"
    }
   ],
   "source": [
    "calendario.head()"
   ]
  },
  {
   "cell_type": "code",
   "execution_count": 19,
   "metadata": {},
   "outputs": [
    {
     "data": {
      "text/html": [
       "<div>\n",
       "<style scoped>\n",
       "    .dataframe tbody tr th:only-of-type {\n",
       "        vertical-align: middle;\n",
       "    }\n",
       "\n",
       "    .dataframe tbody tr th {\n",
       "        vertical-align: top;\n",
       "    }\n",
       "\n",
       "    .dataframe thead th {\n",
       "        text-align: right;\n",
       "    }\n",
       "</style>\n",
       "<table border=\"1\" class=\"dataframe\">\n",
       "  <thead>\n",
       "    <tr style=\"text-align: right;\">\n",
       "      <th></th>\n",
       "      <th>Fecha</th>\n",
       "      <th>Dia_semana</th>\n",
       "      <th>Mes</th>\n",
       "      <th>Año</th>\n",
       "    </tr>\n",
       "  </thead>\n",
       "  <tbody>\n",
       "    <tr>\n",
       "      <th>6059</th>\n",
       "      <td>2017-12-24</td>\n",
       "      <td>Sunday</td>\n",
       "      <td>12</td>\n",
       "      <td>2017</td>\n",
       "    </tr>\n",
       "    <tr>\n",
       "      <th>6060</th>\n",
       "      <td>2017-12-25</td>\n",
       "      <td>Monday</td>\n",
       "      <td>12</td>\n",
       "      <td>2017</td>\n",
       "    </tr>\n",
       "    <tr>\n",
       "      <th>6061</th>\n",
       "      <td>2017-12-26</td>\n",
       "      <td>Tuesday</td>\n",
       "      <td>12</td>\n",
       "      <td>2017</td>\n",
       "    </tr>\n",
       "    <tr>\n",
       "      <th>6062</th>\n",
       "      <td>2017-12-27</td>\n",
       "      <td>Wednesday</td>\n",
       "      <td>12</td>\n",
       "      <td>2017</td>\n",
       "    </tr>\n",
       "    <tr>\n",
       "      <th>6063</th>\n",
       "      <td>2017-12-28</td>\n",
       "      <td>Thursday</td>\n",
       "      <td>12</td>\n",
       "      <td>2017</td>\n",
       "    </tr>\n",
       "  </tbody>\n",
       "</table>\n",
       "</div>"
      ],
      "text/plain": [
       "          Fecha Dia_semana  Mes   Año\n",
       "6059 2017-12-24     Sunday   12  2017\n",
       "6060 2017-12-25     Monday   12  2017\n",
       "6061 2017-12-26    Tuesday   12  2017\n",
       "6062 2017-12-27  Wednesday   12  2017\n",
       "6063 2017-12-28   Thursday   12  2017"
      ]
     },
     "execution_count": 19,
     "metadata": {},
     "output_type": "execute_result"
    }
   ],
   "source": [
    "calendario.tail()"
   ]
  },
  {
   "cell_type": "markdown",
   "metadata": {},
   "source": [
    "Creando la tabla **Compras** que indique el número de acciones comprados en el día jueves o viernes si es el caso en cada última semana del mes."
   ]
  },
  {
   "cell_type": "code",
   "execution_count": 20,
   "metadata": {},
   "outputs": [],
   "source": [
    "#Creando el dataframe vacio\n",
    "Compras={}\n",
    "for attr in data.columns.to_list():\n",
    "    Compras[attr]= []\n",
    "Compras= pd.DataFrame(Compras)"
   ]
  },
  {
   "cell_type": "code",
   "execution_count": 21,
   "metadata": {},
   "outputs": [],
   "source": [
    "mes = data.Mes.iloc[0]\n",
    "filtro_dia = calendario.Dia_semana.isin(['Friday'])\n",
    "for año in range(2001,2018):\n",
    "    if mes == 13: mes= 1\n",
    "    filtro_año= calendario.Año.isin([año])\n",
    "    while mes <= 12:\n",
    "        filtro_mes=calendario.Mes.isin([mes])\n",
    "        dias_viernes_mes = calendario[filtro_dia & filtro_mes & filtro_año]\n",
    "        supuesta_fecha_compra= dias_viernes_mes.Fecha.iloc[-1]\n",
    "        try:\n",
    "            datos_compra=data[data['Fecha'] == supuesta_fecha_compra]\n",
    "        except:\n",
    "            fecha_compra = supuesta_fecha_compra + dt.timedelta(days=1)\n",
    "            datos_compra=data[data['Fecha'] == fecha_compra]\n",
    "        Compras= pd.concat([Compras,datos_compra])       \n",
    "        mes += 1               "
   ]
  },
  {
   "cell_type": "code",
   "execution_count": 22,
   "metadata": {},
   "outputs": [
    {
     "data": {
      "text/html": [
       "<div>\n",
       "<style scoped>\n",
       "    .dataframe tbody tr th:only-of-type {\n",
       "        vertical-align: middle;\n",
       "    }\n",
       "\n",
       "    .dataframe tbody tr th {\n",
       "        vertical-align: top;\n",
       "    }\n",
       "\n",
       "    .dataframe thead th {\n",
       "        text-align: right;\n",
       "    }\n",
       "</style>\n",
       "<table border=\"1\" class=\"dataframe\">\n",
       "  <thead>\n",
       "    <tr style=\"text-align: right;\">\n",
       "      <th></th>\n",
       "      <th>Fecha</th>\n",
       "      <th>Cierre</th>\n",
       "      <th>Apertura</th>\n",
       "      <th>Dia_semana</th>\n",
       "      <th>Mes</th>\n",
       "      <th>Año</th>\n",
       "      <th>Valor_accion</th>\n",
       "    </tr>\n",
       "  </thead>\n",
       "  <tbody>\n",
       "    <tr>\n",
       "      <th>2</th>\n",
       "      <td>2001-05-25</td>\n",
       "      <td>3.602</td>\n",
       "      <td>3.600</td>\n",
       "      <td>Friday</td>\n",
       "      <td>5.0</td>\n",
       "      <td>2001.0</td>\n",
       "      <td>revalorizó</td>\n",
       "    </tr>\n",
       "    <tr>\n",
       "      <th>27</th>\n",
       "      <td>2001-06-29</td>\n",
       "      <td>3.770</td>\n",
       "      <td>3.700</td>\n",
       "      <td>Friday</td>\n",
       "      <td>6.0</td>\n",
       "      <td>2001.0</td>\n",
       "      <td>revalorizó</td>\n",
       "    </tr>\n",
       "    <tr>\n",
       "      <th>47</th>\n",
       "      <td>2001-07-27</td>\n",
       "      <td>3.580</td>\n",
       "      <td>3.602</td>\n",
       "      <td>Friday</td>\n",
       "      <td>7.0</td>\n",
       "      <td>2001.0</td>\n",
       "      <td>devaluó</td>\n",
       "    </tr>\n",
       "    <tr>\n",
       "      <th>71</th>\n",
       "      <td>2001-08-31</td>\n",
       "      <td>3.850</td>\n",
       "      <td>3.760</td>\n",
       "      <td>Friday</td>\n",
       "      <td>8.0</td>\n",
       "      <td>2001.0</td>\n",
       "      <td>revalorizó</td>\n",
       "    </tr>\n",
       "    <tr>\n",
       "      <th>91</th>\n",
       "      <td>2001-09-28</td>\n",
       "      <td>3.700</td>\n",
       "      <td>3.562</td>\n",
       "      <td>Friday</td>\n",
       "      <td>9.0</td>\n",
       "      <td>2001.0</td>\n",
       "      <td>revalorizó</td>\n",
       "    </tr>\n",
       "  </tbody>\n",
       "</table>\n",
       "</div>"
      ],
      "text/plain": [
       "        Fecha  Cierre  Apertura Dia_semana  Mes     Año Valor_accion\n",
       "2  2001-05-25   3.602     3.600     Friday  5.0  2001.0   revalorizó\n",
       "27 2001-06-29   3.770     3.700     Friday  6.0  2001.0   revalorizó\n",
       "47 2001-07-27   3.580     3.602     Friday  7.0  2001.0      devaluó\n",
       "71 2001-08-31   3.850     3.760     Friday  8.0  2001.0   revalorizó\n",
       "91 2001-09-28   3.700     3.562     Friday  9.0  2001.0   revalorizó"
      ]
     },
     "execution_count": 22,
     "metadata": {},
     "output_type": "execute_result"
    }
   ],
   "source": [
    "Compras.head()"
   ]
  },
  {
   "cell_type": "code",
   "execution_count": 23,
   "metadata": {},
   "outputs": [
    {
     "data": {
      "text/plain": [
       "(189, 7)"
      ]
     },
     "execution_count": 23,
     "metadata": {},
     "output_type": "execute_result"
    }
   ],
   "source": [
    "Compras.shape"
   ]
  },
  {
   "cell_type": "markdown",
   "metadata": {},
   "source": [
    "Corrigiendo Mes y Año a variables enteras"
   ]
  },
  {
   "cell_type": "code",
   "execution_count": 24,
   "metadata": {},
   "outputs": [],
   "source": [
    "Compras['Mes']= Compras['Mes'].astype('int')\n",
    "Compras['Año']= Compras['Año'].astype('int')"
   ]
  },
  {
   "cell_type": "markdown",
   "metadata": {},
   "source": [
    "Chequeando los dias de compra"
   ]
  },
  {
   "cell_type": "code",
   "execution_count": 25,
   "metadata": {},
   "outputs": [
    {
     "data": {
      "image/png": "[encoded data removed]",
      "text/plain": [
       "<Figure size 504x144 with 1 Axes>"
      ]
     },
     "metadata": {},
     "output_type": "display_data"
    }
   ],
   "source": [
    "Compras.Dia_semana.value_counts().plot.barh(figsize=(7,2))\n",
    "plt.show()"
   ]
  },
  {
   "cell_type": "markdown",
   "metadata": {},
   "source": [
    "Las compras de las acciones fueron todas ellas hechas en los dias viernes.\n",
    "<br>\n",
    "\n",
    "Como último paso, calculando el número de acciones comprados con 50 euros y el total acumulado."
   ]
  },
  {
   "cell_type": "code",
   "execution_count": 26,
   "metadata": {},
   "outputs": [],
   "source": [
    "#Función auxiliar \n",
    "def comprar(coste_accion):\n",
    "    n_acciones=1\n",
    "    while n_acciones * coste_accion * 1.02 <=50:\n",
    "          n_acciones += 1\n",
    "    return n_acciones -1 "
   ]
  },
  {
   "cell_type": "code",
   "execution_count": 27,
   "metadata": {},
   "outputs": [],
   "source": [
    "Compras['N_acciones'] = Compras['Apertura'].apply(comprar)"
   ]
  },
  {
   "cell_type": "code",
   "execution_count": 28,
   "metadata": {},
   "outputs": [],
   "source": [
    "Compras['N_acciones_acum']=np.cumsum(Compras.N_acciones)"
   ]
  },
  {
   "cell_type": "code",
   "execution_count": 29,
   "metadata": {},
   "outputs": [
    {
     "data": {
      "text/html": [
       "<div>\n",
       "<style scoped>\n",
       "    .dataframe tbody tr th:only-of-type {\n",
       "        vertical-align: middle;\n",
       "    }\n",
       "\n",
       "    .dataframe tbody tr th {\n",
       "        vertical-align: top;\n",
       "    }\n",
       "\n",
       "    .dataframe thead th {\n",
       "        text-align: right;\n",
       "    }\n",
       "</style>\n",
       "<table border=\"1\" class=\"dataframe\">\n",
       "  <thead>\n",
       "    <tr style=\"text-align: right;\">\n",
       "      <th></th>\n",
       "      <th>Fecha</th>\n",
       "      <th>Cierre</th>\n",
       "      <th>Apertura</th>\n",
       "      <th>Dia_semana</th>\n",
       "      <th>Mes</th>\n",
       "      <th>Año</th>\n",
       "      <th>Valor_accion</th>\n",
       "      <th>N_acciones</th>\n",
       "      <th>N_acciones_acum</th>\n",
       "    </tr>\n",
       "  </thead>\n",
       "  <tbody>\n",
       "    <tr>\n",
       "      <th>2</th>\n",
       "      <td>2001-05-25</td>\n",
       "      <td>3.602</td>\n",
       "      <td>3.600</td>\n",
       "      <td>Friday</td>\n",
       "      <td>5</td>\n",
       "      <td>2001</td>\n",
       "      <td>revalorizó</td>\n",
       "      <td>13</td>\n",
       "      <td>13</td>\n",
       "    </tr>\n",
       "    <tr>\n",
       "      <th>27</th>\n",
       "      <td>2001-06-29</td>\n",
       "      <td>3.770</td>\n",
       "      <td>3.700</td>\n",
       "      <td>Friday</td>\n",
       "      <td>6</td>\n",
       "      <td>2001</td>\n",
       "      <td>revalorizó</td>\n",
       "      <td>13</td>\n",
       "      <td>26</td>\n",
       "    </tr>\n",
       "    <tr>\n",
       "      <th>47</th>\n",
       "      <td>2001-07-27</td>\n",
       "      <td>3.580</td>\n",
       "      <td>3.602</td>\n",
       "      <td>Friday</td>\n",
       "      <td>7</td>\n",
       "      <td>2001</td>\n",
       "      <td>devaluó</td>\n",
       "      <td>13</td>\n",
       "      <td>39</td>\n",
       "    </tr>\n",
       "    <tr>\n",
       "      <th>71</th>\n",
       "      <td>2001-08-31</td>\n",
       "      <td>3.850</td>\n",
       "      <td>3.760</td>\n",
       "      <td>Friday</td>\n",
       "      <td>8</td>\n",
       "      <td>2001</td>\n",
       "      <td>revalorizó</td>\n",
       "      <td>13</td>\n",
       "      <td>52</td>\n",
       "    </tr>\n",
       "    <tr>\n",
       "      <th>91</th>\n",
       "      <td>2001-09-28</td>\n",
       "      <td>3.700</td>\n",
       "      <td>3.562</td>\n",
       "      <td>Friday</td>\n",
       "      <td>9</td>\n",
       "      <td>2001</td>\n",
       "      <td>revalorizó</td>\n",
       "      <td>13</td>\n",
       "      <td>65</td>\n",
       "    </tr>\n",
       "  </tbody>\n",
       "</table>\n",
       "</div>"
      ],
      "text/plain": [
       "        Fecha  Cierre  Apertura Dia_semana  Mes   Año Valor_accion  \\\n",
       "2  2001-05-25   3.602     3.600     Friday    5  2001   revalorizó   \n",
       "27 2001-06-29   3.770     3.700     Friday    6  2001   revalorizó   \n",
       "47 2001-07-27   3.580     3.602     Friday    7  2001      devaluó   \n",
       "71 2001-08-31   3.850     3.760     Friday    8  2001   revalorizó   \n",
       "91 2001-09-28   3.700     3.562     Friday    9  2001   revalorizó   \n",
       "\n",
       "    N_acciones  N_acciones_acum  \n",
       "2           13               13  \n",
       "27          13               26  \n",
       "47          13               39  \n",
       "71          13               52  \n",
       "91          13               65  "
      ]
     },
     "execution_count": 29,
     "metadata": {},
     "output_type": "execute_result"
    }
   ],
   "source": [
    "Compras.head()"
   ]
  },
  {
   "cell_type": "code",
   "execution_count": 30,
   "metadata": {
    "scrolled": true
   },
   "outputs": [
    {
     "data": {
      "image/png": "[encoded data removed]",
      "text/plain": [
       "<Figure size 1224x360 with 1 Axes>"
      ]
     },
     "metadata": {},
     "output_type": "display_data"
    }
   ],
   "source": [
    "Compras.plot(x='Fecha',y='N_acciones',figsize=(17,5),title='Número de acciones adquiridas')\n",
    "plt.show()"
   ]
  },
  {
   "cell_type": "code",
   "execution_count": 31,
   "metadata": {},
   "outputs": [
    {
     "data": {
      "image/png": "[encoded data removed]",
      "text/plain": [
       "<Figure size 1224x720 with 1 Axes>"
      ]
     },
     "metadata": {},
     "output_type": "display_data"
    }
   ],
   "source": [
    "Compras.plot(x='Fecha',y='N_acciones_acum',figsize=(17,10),color='cyan',title='Total de acciones acumuladas')\n",
    "plt.show()"
   ]
  },
  {
   "cell_type": "markdown",
   "metadata": {},
   "source": [
    "Por si acaso, chequeando el valor total de acciones compradas añadiendo la columna del valor total de las acciones"
   ]
  },
  {
   "cell_type": "code",
   "execution_count": 32,
   "metadata": {},
   "outputs": [],
   "source": [
    "Compras['Valor_total_comprados']=Compras['Apertura']*Compras['N_acciones']"
   ]
  },
  {
   "cell_type": "code",
   "execution_count": 33,
   "metadata": {},
   "outputs": [
    {
     "data": {
      "image/png": "[encoded data removed]",
      "text/plain": [
       "<Figure size 1224x576 with 1 Axes>"
      ]
     },
     "metadata": {},
     "output_type": "display_data"
    }
   ],
   "source": [
    "Compras.plot(x='Fecha',y=['Apertura','Valor_total_comprados'],\n",
    "             figsize=(17,8),title='Valor de apertura y valor total de acciones comprados con 50 euros')\n",
    "plt.show()"
   ]
  },
  {
   "cell_type": "markdown",
   "metadata": {},
   "source": [
    "Calculando el valor total de la venta de sus acciones al día de 28 de diciembre de 2017:"
   ]
  },
  {
   "cell_type": "code",
   "execution_count": 34,
   "metadata": {},
   "outputs": [
    {
     "name": "stdout",
     "output_type": "stream",
     "text": [
      "Valor total de las acciones vendidas: 31678.62 euros\n"
     ]
    }
   ],
   "source": [
    "resultado= Compras.N_acciones.sum()*data.Cierre.iloc[-1]\n",
    "print('Valor total de las acciones vendidas: {0:.2f} euros'.format(resultado))"
   ]
  }
 ],
 "metadata": {
  "kernelspec": {
   "display_name": "Python 3",
   "language": "python",
   "name": "python3"
  },
  "language_info": {
   "codemirror_mode": {
    "name": "ipython",
    "version": 3
   },
   "file_extension": ".py",
   "mimetype": "text/x-python",
   "name": "python",
   "nbconvert_exporter": "python",
   "pygments_lexer": "ipython3",
   "version": "3.8.3"
  }
 },
 "nbformat": 4,
 "nbformat_minor": 4
}
