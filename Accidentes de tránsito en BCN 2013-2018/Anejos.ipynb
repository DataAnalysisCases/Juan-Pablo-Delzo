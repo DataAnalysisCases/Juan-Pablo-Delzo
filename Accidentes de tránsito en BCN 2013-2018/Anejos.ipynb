{
 "cells": [
  {
   "cell_type": "markdown",
   "metadata": {},
   "source": [
    "# Anejos:\n ## Extracción, depuración y creación de la base de datos Accidentes de tránsito en Barcelona: 2013-2018"
   ]
  },
  {
   "cell_type": "markdown",
   "metadata": {},
   "source": [
    "La primera fase consistió en crear una base de datos compuesta por tres datasets en formato `csv` donde señale las principales características asociadas a las personas afectadas, vehículos implicados y la localización de los accidentes registrados entre los años 2013 y 2018 :\n",
    "\n",
    "- *personas.csv*\n",
    "- *localización.csv*\n",
    "- *vehículos.csv*"
   ]
  },
  {
   "cell_type": "code",
   "execution_count": 1,
   "metadata": {},
   "outputs": [],
   "source": [
    "import pandas as pd\n",
    "import matplotlib.pyplot as plt\n",
    "plt.style.use('fivethirtyeight')\n",
    "#Para eliminar los acentos en las cadenas\n",
    "try:\n",
    "    import unidecode\n",
    "except:\n",
    "    !pip install unidecode\n",
    "    import unidecode\n",
    "#Conversión de coordenadas UTM a latitud, longitud\n",
    "try:\n",
    "    import utm\n",
    "except:\n",
    "    !pip install utm\n",
    "    import utm"
   ]
  },
  {
   "cell_type": "markdown",
   "metadata": {},
   "source": [
    "Para ignorar las alertas "
   ]
  },
  {
   "cell_type": "code",
   "execution_count": 2,
   "metadata": {},
   "outputs": [],
   "source": [
    "import warnings\n",
    "warnings.filterwarnings('ignore')"
   ]
  },
  {
   "cell_type": "markdown",
   "metadata": {},
   "source": [
    "Programa auxiliar que ayuda a uniformizar las etiquetas de los atributos"
   ]
  },
  {
   "cell_type": "code",
   "execution_count": 3,
   "metadata": {},
   "outputs": [],
   "source": [
    "def editando(word):\n",
    "    word=word.replace('NK ','')\n",
    "    word=word.replace(' caption','')\n",
    "    word=word.replace('postal ','postal')\n",
    "    word=word.replace('_ ','_')\n",
    "    word=word.replace(' de ','_')\n",
    "    word=word.replace(' ','_')\n",
    "    word=word.replace(\"d'\",'')\n",
    "    word=word.replace('(Y)','Y')\n",
    "    word=word.replace('(X)','X')\n",
    "    word=word.replace('Coordenada_','')\n",
    "    word=unidecode.unidecode(word)#elimina los acentos\n",
    "    word=word.replace('Numero','Id')\n",
    "    word=word.replace('Codi','Id')\n",
    "    return word"
   ]
  },
  {
   "cell_type": "markdown",
   "metadata": {},
   "source": [
    "<br>\n",
    "<br>\n",
    "\n",
    "# Primer paso: \n",
    "* Unir los archivos de las personas afectadas por año en un solo archivo\n",
    "* Analizar las variables de los atributos excepto las coordenadas en UTM"
   ]
  },
  {
   "cell_type": "markdown",
   "metadata": {},
   "source": [
    "Se tienen los siguientes datasets:\n",
    ">- 2013_accidents_persones.csv\n",
    ">- 2014_accidents_persones.csv\n",
    ">- 2015_accidents_persones.csv\n",
    ">- 2016_accidents_persones.csv\n",
    ">- 2017_accidents_persones.csv\n",
    ">- 2018_accidents_persones.csv\n",
    "\n",
    "Eliminando las columnas que no son útiles:"
   ]
  },
  {
   "cell_type": "code",
   "execution_count": 4,
   "metadata": {},
   "outputs": [],
   "source": [
    "eliminar_columnas_persones=['Codi districte','Codi_districte',\n",
    "                            'Codi barri','Codi_barri',\n",
    "                            'Codi carrer','Codi_carrer',\n",
    "                            'Longitud','Latitud','Desc Tipus vehicle implicat',\n",
    "                            'Descripcio_situacio','Desc_Tipus_vehicle_implicat',\n",
    "                            'Desc. Tipus vehicle implicat','Dia setmana', \n",
    "                            'Dia_setmana','Descripció tipus dia',\n",
    "                            'Descripcio_tipus_dia']"
   ]
  },
  {
   "cell_type": "code",
   "execution_count": 5,
   "metadata": {},
   "outputs": [],
   "source": [
    "archivo= 'persones'\n",
    "for año in range(2013,2019):\n",
    "    dirreccion='{0}/{1}_accidents_{0}.csv'.format(archivo,año)\n",
    "    sep=';'\n",
    "    enc='iso-8859-15'\n",
    "    if año== 2014:\n",
    "        enc='IBM850'\n",
    "    persones_año=pd.read_csv(dirreccion,sep=sep,encoding=enc)\n",
    "    for columna in eliminar_columnas_persones:\n",
    "        try:\n",
    "            del persones_año[columna]\n",
    "        except:\n",
    "            pass\n",
    "    columnas=persones_año.columns.tolist()\n",
    "    columnas_editadas=list(map(editando,columnas))\n",
    "    persones_año.columns=columnas_editadas\n",
    "    if año == 2013:\n",
    "        data_persones=persones_año\n",
    "    else:\n",
    "        data_persones=pd.concat([data_persones,persones_año],sort= True)  "
   ]
  },
  {
   "cell_type": "code",
   "execution_count": 6,
   "metadata": {},
   "outputs": [
    {
     "name": "stdout",
     "output_type": "stream",
     "text": [
      "Total atributos:19\n",
      "Total instancias:70616\n"
     ]
    },
    {
     "data": {
      "text/html": [
       "<div>\n",
       "<style scoped>\n",
       "    .dataframe tbody tr th:only-of-type {\n",
       "        vertical-align: middle;\n",
       "    }\n",
       "\n",
       "    .dataframe tbody tr th {\n",
       "        vertical-align: top;\n",
       "    }\n",
       "\n",
       "    .dataframe thead th {\n",
       "        text-align: right;\n",
       "    }\n",
       "</style>\n",
       "<table border=\"1\" class=\"dataframe\">\n",
       "  <thead>\n",
       "    <tr style=\"text-align: right;\">\n",
       "      <th></th>\n",
       "      <th>Any</th>\n",
       "      <th>Descripcio_causa_vianant</th>\n",
       "      <th>Descripcio_dia_setmana</th>\n",
       "      <th>Descripcio_sexe</th>\n",
       "      <th>Descripcio_tipus_persona</th>\n",
       "      <th>Descripcio_torn</th>\n",
       "      <th>Descripcio_victimitzacio</th>\n",
       "      <th>Dia_mes</th>\n",
       "      <th>Edat</th>\n",
       "      <th>Hora_dia</th>\n",
       "      <th>Id_expedient</th>\n",
       "      <th>Mes_any</th>\n",
       "      <th>Nom_barri</th>\n",
       "      <th>Nom_carrer</th>\n",
       "      <th>Nom_districte</th>\n",
       "      <th>Nom_mes</th>\n",
       "      <th>Num_postal</th>\n",
       "      <th>UTM_X</th>\n",
       "      <th>UTM_Y</th>\n",
       "    </tr>\n",
       "  </thead>\n",
       "  <tbody>\n",
       "    <tr>\n",
       "      <th>0</th>\n",
       "      <td>2013</td>\n",
       "      <td>No és causa del  vianant</td>\n",
       "      <td>Dimecres</td>\n",
       "      <td>Home</td>\n",
       "      <td>Conductor</td>\n",
       "      <td>Nit</td>\n",
       "      <td>Ferit lleu</td>\n",
       "      <td>23</td>\n",
       "      <td>32</td>\n",
       "      <td>0</td>\n",
       "      <td>2013S000529</td>\n",
       "      <td>1</td>\n",
       "      <td>Sant Gervasi - Galvany</td>\n",
       "      <td>Augusta</td>\n",
       "      <td>Sarrià-Sant Gervasi</td>\n",
       "      <td>Gener</td>\n",
       "      <td>0061 0061</td>\n",
       "      <td>429170,3</td>\n",
       "      <td>4583707,15</td>\n",
       "    </tr>\n",
       "    <tr>\n",
       "      <th>1</th>\n",
       "      <td>2013</td>\n",
       "      <td>No és causa del  vianant</td>\n",
       "      <td>Dimecres</td>\n",
       "      <td>Home</td>\n",
       "      <td>Conductor</td>\n",
       "      <td>Matí</td>\n",
       "      <td>Ferit lleu</td>\n",
       "      <td>23</td>\n",
       "      <td>39</td>\n",
       "      <td>7</td>\n",
       "      <td>2013S000535</td>\n",
       "      <td>1</td>\n",
       "      <td>el Camp de l'Arpa del Clot</td>\n",
       "      <td>Las Navas de Tolosa</td>\n",
       "      <td>Sant Martí</td>\n",
       "      <td>Gener</td>\n",
       "      <td>0329 0329</td>\n",
       "      <td>431983,63</td>\n",
       "      <td>4585527,16</td>\n",
       "    </tr>\n",
       "    <tr>\n",
       "      <th>2</th>\n",
       "      <td>2013</td>\n",
       "      <td>No és causa del  vianant</td>\n",
       "      <td>Divendres</td>\n",
       "      <td>Dona</td>\n",
       "      <td>Vianant</td>\n",
       "      <td>Tarda</td>\n",
       "      <td>Ferit lleu</td>\n",
       "      <td>4</td>\n",
       "      <td>80</td>\n",
       "      <td>17</td>\n",
       "      <td>2013S000072</td>\n",
       "      <td>1</td>\n",
       "      <td>el Camp de l'Arpa del Clot</td>\n",
       "      <td>Enamorats</td>\n",
       "      <td>Sant Martí</td>\n",
       "      <td>Gener</td>\n",
       "      <td>0152 0152</td>\n",
       "      <td>431991,79</td>\n",
       "      <td>4584645,89</td>\n",
       "    </tr>\n",
       "    <tr>\n",
       "      <th>3</th>\n",
       "      <td>2013</td>\n",
       "      <td>No és causa del  vianant</td>\n",
       "      <td>Divendres</td>\n",
       "      <td>Dona</td>\n",
       "      <td>Conductor</td>\n",
       "      <td>Tarda</td>\n",
       "      <td>Ferit lleu</td>\n",
       "      <td>4</td>\n",
       "      <td>23</td>\n",
       "      <td>18</td>\n",
       "      <td>2013S000074</td>\n",
       "      <td>1</td>\n",
       "      <td>la Dreta de l'Eixample</td>\n",
       "      <td>València</td>\n",
       "      <td>Eixample</td>\n",
       "      <td>Gener</td>\n",
       "      <td>0369 0369</td>\n",
       "      <td>430849,53</td>\n",
       "      <td>4583597,13</td>\n",
       "    </tr>\n",
       "  </tbody>\n",
       "</table>\n",
       "</div>"
      ],
      "text/plain": [
       "    Any  Descripcio_causa_vianant Descripcio_dia_setmana Descripcio_sexe  \\\n",
       "0  2013  No és causa del  vianant               Dimecres            Home   \n",
       "1  2013  No és causa del  vianant               Dimecres            Home   \n",
       "2  2013  No és causa del  vianant              Divendres            Dona   \n",
       "3  2013  No és causa del  vianant              Divendres            Dona   \n",
       "\n",
       "  Descripcio_tipus_persona Descripcio_torn Descripcio_victimitzacio  Dia_mes  \\\n",
       "0                Conductor             Nit               Ferit lleu       23   \n",
       "1                Conductor            Matí               Ferit lleu       23   \n",
       "2                  Vianant           Tarda               Ferit lleu        4   \n",
       "3                Conductor           Tarda               Ferit lleu        4   \n",
       "\n",
       "  Edat  Hora_dia     Id_expedient  Mes_any                   Nom_barri  \\\n",
       "0   32         0  2013S000529            1      Sant Gervasi - Galvany   \n",
       "1   39         7  2013S000535            1  el Camp de l'Arpa del Clot   \n",
       "2   80        17  2013S000072            1  el Camp de l'Arpa del Clot   \n",
       "3   23        18  2013S000074            1      la Dreta de l'Eixample   \n",
       "\n",
       "            Nom_carrer        Nom_districte Nom_mes Num_postal      UTM_X  \\\n",
       "0              Augusta  Sarrià-Sant Gervasi   Gener  0061 0061   429170,3   \n",
       "1  Las Navas de Tolosa           Sant Martí   Gener  0329 0329  431983,63   \n",
       "2            Enamorats           Sant Martí   Gener  0152 0152  431991,79   \n",
       "3             València             Eixample   Gener  0369 0369  430849,53   \n",
       "\n",
       "        UTM_Y  \n",
       "0  4583707,15  \n",
       "1  4585527,16  \n",
       "2  4584645,89  \n",
       "3  4583597,13  "
      ]
     },
     "execution_count": 6,
     "metadata": {},
     "output_type": "execute_result"
    }
   ],
   "source": [
    "n_i,n_a=data_persones.shape\n",
    "print('Total atributos:{}'.format(n_a))\n",
    "print('Total instancias:{}'.format(n_i))\n",
    "data_persones.head(4)"
   ]
  },
  {
   "cell_type": "code",
   "execution_count": 7,
   "metadata": {},
   "outputs": [
    {
     "data": {
      "text/plain": [
       "Any                          int64\n",
       "Descripcio_causa_vianant    object\n",
       "Descripcio_dia_setmana      object\n",
       "Descripcio_sexe             object\n",
       "Descripcio_tipus_persona    object\n",
       "Descripcio_torn             object\n",
       "Descripcio_victimitzacio    object\n",
       "Dia_mes                      int64\n",
       "Edat                        object\n",
       "Hora_dia                     int64\n",
       "Id_expedient                object\n",
       "Mes_any                      int64\n",
       "Nom_barri                   object\n",
       "Nom_carrer                  object\n",
       "Nom_districte               object\n",
       "Nom_mes                     object\n",
       "Num_postal                  object\n",
       "UTM_X                       object\n",
       "UTM_Y                       object\n",
       "dtype: object"
      ]
     },
     "execution_count": 7,
     "metadata": {},
     "output_type": "execute_result"
    }
   ],
   "source": [
    "data_persones.dtypes"
   ]
  },
  {
   "cell_type": "markdown",
   "metadata": {},
   "source": [
    "Averiguando la cantidad de valores nulos por atributo"
   ]
  },
  {
   "cell_type": "code",
   "execution_count": 8,
   "metadata": {},
   "outputs": [
    {
     "data": {
      "text/plain": [
       "Any                             0\n",
       "Descripcio_causa_vianant        0\n",
       "Descripcio_dia_setmana          0\n",
       "Descripcio_sexe                 0\n",
       "Descripcio_tipus_persona        0\n",
       "Descripcio_torn             23166\n",
       "Descripcio_victimitzacio        0\n",
       "Dia_mes                         0\n",
       "Edat                            0\n",
       "Hora_dia                        0\n",
       "Id_expedient                    0\n",
       "Mes_any                         0\n",
       "Nom_barri                       0\n",
       "Nom_carrer                     11\n",
       "Nom_districte                   0\n",
       "Nom_mes                         0\n",
       "Num_postal                   7276\n",
       "UTM_X                          17\n",
       "UTM_Y                          17\n",
       "dtype: int64"
      ]
     },
     "execution_count": 8,
     "metadata": {},
     "output_type": "execute_result"
    }
   ],
   "source": [
    "data_persones.isnull().sum()"
   ]
  },
  {
   "cell_type": "markdown",
   "metadata": {},
   "source": [
    "**Chequeano Description_torn**\n",
    "\n",
    "Viendo la proporción del número de filas con valores nulos respecto al total de instancias del dataset:"
   ]
  },
  {
   "cell_type": "code",
   "execution_count": 9,
   "metadata": {},
   "outputs": [
    {
     "name": "stdout",
     "output_type": "stream",
     "text": [
      "Existe un 33 % con valores nulos\n"
     ]
    }
   ],
   "source": [
    "ratio= data_persones.Descripcio_torn.isnull().sum()/len(data_persones)\n",
    "print('Existe un {0:.0f} % con valores nulos'.format(ratio*100))"
   ]
  },
  {
   "cell_type": "markdown",
   "metadata": {},
   "source": [
    "Un tercio del total de este atributo son valores nulos y este atributo puede ser añadido a partir de los otros atributos extraidos.<br>\n",
    "Por tanto, este atributo no será tomada en cuenta en el dataset `personas`<br>\n",
    "\n",
    "**Añadiendo Fecha**:"
   ]
  },
  {
   "cell_type": "code",
   "execution_count": 10,
   "metadata": {},
   "outputs": [],
   "source": [
    "data_persones['Fecha']=list(map(lambda Y,m,d: '{0}-{1}-{2}'.format(Y,m,d),\n",
    "                                data_persones['Any'],data_persones['Mes_any'],\n",
    "                                data_persones['Dia_mes']))\n",
    "data_persones['Fecha']=pd.to_datetime(data_persones.Fecha,format='%Y-%m-%d')"
   ]
  },
  {
   "cell_type": "code",
   "execution_count": 11,
   "metadata": {},
   "outputs": [
    {
     "data": {
      "text/html": [
       "<div>\n",
       "<style scoped>\n",
       "    .dataframe tbody tr th:only-of-type {\n",
       "        vertical-align: middle;\n",
       "    }\n",
       "\n",
       "    .dataframe tbody tr th {\n",
       "        vertical-align: top;\n",
       "    }\n",
       "\n",
       "    .dataframe thead th {\n",
       "        text-align: right;\n",
       "    }\n",
       "</style>\n",
       "<table border=\"1\" class=\"dataframe\">\n",
       "  <thead>\n",
       "    <tr style=\"text-align: right;\">\n",
       "      <th></th>\n",
       "      <th>Any</th>\n",
       "      <th>Descripcio_causa_vianant</th>\n",
       "      <th>Descripcio_dia_setmana</th>\n",
       "      <th>Descripcio_sexe</th>\n",
       "      <th>Descripcio_tipus_persona</th>\n",
       "      <th>Descripcio_torn</th>\n",
       "      <th>Descripcio_victimitzacio</th>\n",
       "      <th>Dia_mes</th>\n",
       "      <th>Edat</th>\n",
       "      <th>Hora_dia</th>\n",
       "      <th>Id_expedient</th>\n",
       "      <th>Mes_any</th>\n",
       "      <th>Nom_barri</th>\n",
       "      <th>Nom_carrer</th>\n",
       "      <th>Nom_districte</th>\n",
       "      <th>Nom_mes</th>\n",
       "      <th>Num_postal</th>\n",
       "      <th>UTM_X</th>\n",
       "      <th>UTM_Y</th>\n",
       "      <th>Fecha</th>\n",
       "    </tr>\n",
       "  </thead>\n",
       "  <tbody>\n",
       "    <tr>\n",
       "      <th>0</th>\n",
       "      <td>2013</td>\n",
       "      <td>No és causa del  vianant</td>\n",
       "      <td>Dimecres</td>\n",
       "      <td>Home</td>\n",
       "      <td>Conductor</td>\n",
       "      <td>Nit</td>\n",
       "      <td>Ferit lleu</td>\n",
       "      <td>23</td>\n",
       "      <td>32</td>\n",
       "      <td>0</td>\n",
       "      <td>2013S000529</td>\n",
       "      <td>1</td>\n",
       "      <td>Sant Gervasi - Galvany</td>\n",
       "      <td>Augusta</td>\n",
       "      <td>Sarrià-Sant Gervasi</td>\n",
       "      <td>Gener</td>\n",
       "      <td>0061 0061</td>\n",
       "      <td>429170,3</td>\n",
       "      <td>4583707,15</td>\n",
       "      <td>2013-01-23</td>\n",
       "    </tr>\n",
       "    <tr>\n",
       "      <th>1</th>\n",
       "      <td>2013</td>\n",
       "      <td>No és causa del  vianant</td>\n",
       "      <td>Dimecres</td>\n",
       "      <td>Home</td>\n",
       "      <td>Conductor</td>\n",
       "      <td>Matí</td>\n",
       "      <td>Ferit lleu</td>\n",
       "      <td>23</td>\n",
       "      <td>39</td>\n",
       "      <td>7</td>\n",
       "      <td>2013S000535</td>\n",
       "      <td>1</td>\n",
       "      <td>el Camp de l'Arpa del Clot</td>\n",
       "      <td>Las Navas de Tolosa</td>\n",
       "      <td>Sant Martí</td>\n",
       "      <td>Gener</td>\n",
       "      <td>0329 0329</td>\n",
       "      <td>431983,63</td>\n",
       "      <td>4585527,16</td>\n",
       "      <td>2013-01-23</td>\n",
       "    </tr>\n",
       "    <tr>\n",
       "      <th>2</th>\n",
       "      <td>2013</td>\n",
       "      <td>No és causa del  vianant</td>\n",
       "      <td>Divendres</td>\n",
       "      <td>Dona</td>\n",
       "      <td>Vianant</td>\n",
       "      <td>Tarda</td>\n",
       "      <td>Ferit lleu</td>\n",
       "      <td>4</td>\n",
       "      <td>80</td>\n",
       "      <td>17</td>\n",
       "      <td>2013S000072</td>\n",
       "      <td>1</td>\n",
       "      <td>el Camp de l'Arpa del Clot</td>\n",
       "      <td>Enamorats</td>\n",
       "      <td>Sant Martí</td>\n",
       "      <td>Gener</td>\n",
       "      <td>0152 0152</td>\n",
       "      <td>431991,79</td>\n",
       "      <td>4584645,89</td>\n",
       "      <td>2013-01-04</td>\n",
       "    </tr>\n",
       "    <tr>\n",
       "      <th>3</th>\n",
       "      <td>2013</td>\n",
       "      <td>No és causa del  vianant</td>\n",
       "      <td>Divendres</td>\n",
       "      <td>Dona</td>\n",
       "      <td>Conductor</td>\n",
       "      <td>Tarda</td>\n",
       "      <td>Ferit lleu</td>\n",
       "      <td>4</td>\n",
       "      <td>23</td>\n",
       "      <td>18</td>\n",
       "      <td>2013S000074</td>\n",
       "      <td>1</td>\n",
       "      <td>la Dreta de l'Eixample</td>\n",
       "      <td>València</td>\n",
       "      <td>Eixample</td>\n",
       "      <td>Gener</td>\n",
       "      <td>0369 0369</td>\n",
       "      <td>430849,53</td>\n",
       "      <td>4583597,13</td>\n",
       "      <td>2013-01-04</td>\n",
       "    </tr>\n",
       "  </tbody>\n",
       "</table>\n",
       "</div>"
      ],
      "text/plain": [
       "    Any  Descripcio_causa_vianant Descripcio_dia_setmana Descripcio_sexe  \\\n",
       "0  2013  No és causa del  vianant               Dimecres            Home   \n",
       "1  2013  No és causa del  vianant               Dimecres            Home   \n",
       "2  2013  No és causa del  vianant              Divendres            Dona   \n",
       "3  2013  No és causa del  vianant              Divendres            Dona   \n",
       "\n",
       "  Descripcio_tipus_persona Descripcio_torn Descripcio_victimitzacio  Dia_mes  \\\n",
       "0                Conductor             Nit               Ferit lleu       23   \n",
       "1                Conductor            Matí               Ferit lleu       23   \n",
       "2                  Vianant           Tarda               Ferit lleu        4   \n",
       "3                Conductor           Tarda               Ferit lleu        4   \n",
       "\n",
       "  Edat  Hora_dia     Id_expedient  Mes_any                   Nom_barri  \\\n",
       "0   32         0  2013S000529            1      Sant Gervasi - Galvany   \n",
       "1   39         7  2013S000535            1  el Camp de l'Arpa del Clot   \n",
       "2   80        17  2013S000072            1  el Camp de l'Arpa del Clot   \n",
       "3   23        18  2013S000074            1      la Dreta de l'Eixample   \n",
       "\n",
       "            Nom_carrer        Nom_districte Nom_mes Num_postal      UTM_X  \\\n",
       "0              Augusta  Sarrià-Sant Gervasi   Gener  0061 0061   429170,3   \n",
       "1  Las Navas de Tolosa           Sant Martí   Gener  0329 0329  431983,63   \n",
       "2            Enamorats           Sant Martí   Gener  0152 0152  431991,79   \n",
       "3             València             Eixample   Gener  0369 0369  430849,53   \n",
       "\n",
       "        UTM_Y      Fecha  \n",
       "0  4583707,15 2013-01-23  \n",
       "1  4585527,16 2013-01-23  \n",
       "2  4584645,89 2013-01-04  \n",
       "3  4583597,13 2013-01-04  "
      ]
     },
     "execution_count": 11,
     "metadata": {},
     "output_type": "execute_result"
    }
   ],
   "source": [
    "data_persones.head(4)"
   ]
  },
  {
   "cell_type": "code",
   "execution_count": 12,
   "metadata": {},
   "outputs": [
    {
     "data": {
      "text/plain": [
       "Index(['Any', 'Descripcio_causa_vianant', 'Descripcio_dia_setmana',\n",
       "       'Descripcio_sexe', 'Descripcio_tipus_persona', 'Descripcio_torn',\n",
       "       'Descripcio_victimitzacio', 'Dia_mes', 'Edat', 'Hora_dia',\n",
       "       'Id_expedient', 'Mes_any', 'Nom_barri', 'Nom_carrer', 'Nom_districte',\n",
       "       'Nom_mes', 'Num_postal', 'UTM_X', 'UTM_Y', 'Fecha'],\n",
       "      dtype='object')"
      ]
     },
     "execution_count": 12,
     "metadata": {},
     "output_type": "execute_result"
    }
   ],
   "source": [
    "data_persones.columns"
   ]
  },
  {
   "cell_type": "markdown",
   "metadata": {},
   "source": [
    "### Obsevando las variables\n",
    "#### Id_expedient\n",
    "Se aprecian los 20 expedientes con el mayor número de personas afectadas en un accidente "
   ]
  },
  {
   "cell_type": "code",
   "execution_count": 13,
   "metadata": {},
   "outputs": [
    {
     "data": {
      "image/png": "[encoded data removed]",
      "text/plain": [
       "<Figure size 360x360 with 1 Axes>"
      ]
     },
     "metadata": {
      "needs_background": "light"
     },
     "output_type": "display_data"
    }
   ],
   "source": [
    "data_persones['Id_expedient'].value_counts().head(20).plot.barh(figsize=(5,5))\n",
    "plt.show()"
   ]
  },
  {
   "cell_type": "markdown",
   "metadata": {},
   "source": [
    "<br>\n",
    "\n",
    "#### Any"
   ]
  },
  {
   "cell_type": "code",
   "execution_count": 14,
   "metadata": {},
   "outputs": [
    {
     "data": {
      "image/png": "[encoded data removed]",
      "text/plain": [
       "<Figure size 432x288 with 1 Axes>"
      ]
     },
     "metadata": {
      "needs_background": "light"
     },
     "output_type": "display_data"
    }
   ],
   "source": [
    "data_persones['Any'].value_counts(sort=False).plot(kind='bar',rot=0)\n",
    "plt.show()"
   ]
  },
  {
   "cell_type": "markdown",
   "metadata": {},
   "source": [
    "#### Mes_any"
   ]
  },
  {
   "cell_type": "code",
   "execution_count": 15,
   "metadata": {},
   "outputs": [
    {
     "data": {
      "image/png": "[encoded data removed]",
      "text/plain": [
       "<Figure size 432x288 with 1 Axes>"
      ]
     },
     "metadata": {
      "needs_background": "light"
     },
     "output_type": "display_data"
    }
   ],
   "source": [
    "data_persones['Mes_any'].value_counts(sort=False).plot(kind='bar',rot=0)\n",
    "plt.show()"
   ]
  },
  {
   "cell_type": "markdown",
   "metadata": {},
   "source": [
    "#### Nom_mes"
   ]
  },
  {
   "cell_type": "code",
   "execution_count": 16,
   "metadata": {},
   "outputs": [
    {
     "data": {
      "image/png": "[encoded data removed]",
      "text/plain": [
       "<Figure size 792x216 with 1 Axes>"
      ]
     },
     "metadata": {
      "needs_background": "light"
     },
     "output_type": "display_data"
    }
   ],
   "source": [
    "Nom_mes=data_persones['Nom_mes'].value_counts()\n",
    "order_mes=['Gener','Febrer','Març','Abril','Maig','Juny','Juliol',\n",
    "           'Agost','Setembre','Octubre','Novembre','Desembre']\n",
    "Nom_mes.reindex(index=order_mes).plot.bar(figsize=(11,3),rot=0)\n",
    "plt.show()"
   ]
  },
  {
   "cell_type": "markdown",
   "metadata": {},
   "source": [
    "#### Dia_mes"
   ]
  },
  {
   "cell_type": "code",
   "execution_count": 17,
   "metadata": {},
   "outputs": [
    {
     "data": {
      "image/png": "[encoded data removed]",
      "text/plain": [
       "<Figure size 504x504 with 1 Axes>"
      ]
     },
     "metadata": {
      "needs_background": "light"
     },
     "output_type": "display_data"
    }
   ],
   "source": [
    "data_persones['Dia_mes'].value_counts(sort=False).plot(kind='barh',figsize=(7,7))\n",
    "plt.show()"
   ]
  },
  {
   "cell_type": "markdown",
   "metadata": {},
   "source": [
    "#### Hora_dia"
   ]
  },
  {
   "cell_type": "code",
   "execution_count": 18,
   "metadata": {},
   "outputs": [
    {
     "data": {
      "image/png": "[encoded data removed]",
      "text/plain": [
       "<Figure size 432x288 with 1 Axes>"
      ]
     },
     "metadata": {
      "needs_background": "light"
     },
     "output_type": "display_data"
    }
   ],
   "source": [
    "data_persones['Hora_dia'].value_counts(sort=False).plot(kind='bar',rot=0)\n",
    "plt.show()"
   ]
  },
  {
   "cell_type": "markdown",
   "metadata": {},
   "source": [
    "#### Descripcio_dia_setmana"
   ]
  },
  {
   "cell_type": "code",
   "execution_count": 19,
   "metadata": {},
   "outputs": [],
   "source": [
    "dia_setmana=['Dilluns','Dimarts','Dimecres','Dijous','Divendres','Dissabte',\n",
    "             'Diumenge']"
   ]
  },
  {
   "cell_type": "code",
   "execution_count": 20,
   "metadata": {},
   "outputs": [
    {
     "data": {
      "image/png": "[encoded data removed]",
      "text/plain": [
       "<Figure size 720x360 with 1 Axes>"
      ]
     },
     "metadata": {
      "needs_background": "light"
     },
     "output_type": "display_data"
    }
   ],
   "source": [
    "descripcio_dia_setmana=data_persones['Descripcio_dia_setmana'].value_counts()\n",
    "descripcio_dia_setmana.reindex(index=dia_setmana).plot.bar(figsize=(10,5),rot=0)\n",
    "plt.show()"
   ]
  },
  {
   "cell_type": "markdown",
   "metadata": {},
   "source": [
    "#### Nom_carrer\n",
    "Observando las 25 calles con el mayor número de víctimas "
   ]
  },
  {
   "cell_type": "code",
   "execution_count": 21,
   "metadata": {},
   "outputs": [
    {
     "data": {
      "image/png": "[encoded data removed]",
      "text/plain": [
       "<Figure size 360x576 with 1 Axes>"
      ]
     },
     "metadata": {
      "needs_background": "light"
     },
     "output_type": "display_data"
    }
   ],
   "source": [
    "data_persones['Nom_carrer'].value_counts().head(25).plot.barh(figsize=(5,8))\n",
    "plt.show()"
   ]
  },
  {
   "cell_type": "markdown",
   "metadata": {},
   "source": [
    "Se aprecian variables repetidas, debe de ser por los espacios en blanco creados al final de texto como por ejemplo en el caso de `Corts Catalanes` y `Corts Catalanes `.<br>\n",
    "Por tanto se procede a corregirlo"
   ]
  },
  {
   "cell_type": "code",
   "execution_count": 22,
   "metadata": {},
   "outputs": [],
   "source": [
    "data_persones['Nom_carrer']= data_persones['Nom_carrer'].str.rstrip(' ')"
   ]
  },
  {
   "cell_type": "markdown",
   "metadata": {},
   "source": [
    "Chequeando de nuevo:"
   ]
  },
  {
   "cell_type": "code",
   "execution_count": 23,
   "metadata": {},
   "outputs": [
    {
     "data": {
      "image/png": "[encoded data removed]",
      "text/plain": [
       "<Figure size 720x504 with 1 Axes>"
      ]
     },
     "metadata": {
      "needs_background": "light"
     },
     "output_type": "display_data"
    }
   ],
   "source": [
    "data_persones['Nom_carrer'].value_counts().head(30).plot.barh(figsize=(10,7))\n",
    "plt.show()"
   ]
  },
  {
   "cell_type": "markdown",
   "metadata": {},
   "source": [
    "Reemplazando los valores nulos por etiquetas llamados `desconegut`"
   ]
  },
  {
   "cell_type": "code",
   "execution_count": 24,
   "metadata": {},
   "outputs": [],
   "source": [
    "data_persones['Nom_carrer'].fillna('desconegut',inplace=True)"
   ]
  },
  {
   "cell_type": "markdown",
   "metadata": {},
   "source": [
    "#### Num_postal"
   ]
  },
  {
   "cell_type": "code",
   "execution_count": 25,
   "metadata": {},
   "outputs": [
    {
     "data": {
      "text/plain": [
       "0001 0001    1306\n",
       "0002 0002    1014\n",
       "9999 9999     619\n",
       "0005 0005     480\n",
       "0003 0003     428\n",
       "Name: Num_postal, dtype: int64"
      ]
     },
     "execution_count": 25,
     "metadata": {},
     "output_type": "execute_result"
    }
   ],
   "source": [
    "data_persones['Num_postal'].value_counts().head()"
   ]
  },
  {
   "cell_type": "code",
   "execution_count": 26,
   "metadata": {},
   "outputs": [
    {
     "data": {
      "text/plain": [
       "655           1\n",
       "0250X0250X    1\n",
       "K154          1\n",
       "K119          1\n",
       "0090X0090X    1\n",
       "Name: Num_postal, dtype: int64"
      ]
     },
     "execution_count": 26,
     "metadata": {},
     "output_type": "execute_result"
    }
   ],
   "source": [
    "data_persones['Num_postal'].value_counts().tail()"
   ]
  },
  {
   "cell_type": "code",
   "execution_count": 27,
   "metadata": {},
   "outputs": [
    {
     "data": {
      "text/plain": [
       "array(['0061 0061', '0329 0329', '0152 0152', ..., '73X       ', '307',\n",
       "       '393-397   '], dtype=object)"
      ]
     },
     "execution_count": 27,
     "metadata": {},
     "output_type": "execute_result"
    }
   ],
   "source": [
    "data_persones['Num_postal'].unique()"
   ]
  },
  {
   "cell_type": "markdown",
   "metadata": {},
   "source": [
    "No se aprecia un patron que identifique al número postal. Por tanto, **¡este atributo no será tomado en cuenta!**."
   ]
  },
  {
   "cell_type": "markdown",
   "metadata": {},
   "source": [
    "#### Nom_barri"
   ]
  },
  {
   "cell_type": "code",
   "execution_count": 28,
   "metadata": {},
   "outputs": [
    {
     "data": {
      "image/png": "[encoded data removed]",
      "text/plain": [
       "<Figure size 360x1008 with 1 Axes>"
      ]
     },
     "metadata": {
      "needs_background": "light"
     },
     "output_type": "display_data"
    }
   ],
   "source": [
    "data_persones['Nom_barri'].value_counts().plot(kind='barh',figsize=(5,14))\n",
    "plt.show()"
   ]
  },
  {
   "cell_type": "markdown",
   "metadata": {},
   "source": [
    "#### Nom_districte"
   ]
  },
  {
   "cell_type": "code",
   "execution_count": 29,
   "metadata": {},
   "outputs": [
    {
     "data": {
      "image/png": "[encoded data removed]",
      "text/plain": [
       "<Figure size 1224x288 with 1 Axes>"
      ]
     },
     "metadata": {
      "needs_background": "light"
     },
     "output_type": "display_data"
    }
   ],
   "source": [
    "data_persones['Nom_districte'].value_counts().plot.bar(figsize=(17,4),rot=0)\n",
    "plt.show()"
   ]
  },
  {
   "cell_type": "markdown",
   "metadata": {},
   "source": [
    "#### Descripcio_sexe"
   ]
  },
  {
   "cell_type": "code",
   "execution_count": 30,
   "metadata": {},
   "outputs": [
    {
     "data": {
      "image/png": "[encoded data removed]",
      "text/plain": [
       "<Figure size 432x288 with 1 Axes>"
      ]
     },
     "metadata": {
      "needs_background": "light"
     },
     "output_type": "display_data"
    }
   ],
   "source": [
    "data_persones['Descripcio_sexe'].value_counts().plot(kind='barh')\n",
    "plt.show()"
   ]
  },
  {
   "cell_type": "markdown",
   "metadata": {},
   "source": [
    "#### Edat\n",
    "Chequeando las 20 edades más comunes de las personas implicadas en los accidentes "
   ]
  },
  {
   "cell_type": "code",
   "execution_count": 31,
   "metadata": {},
   "outputs": [
    {
     "data": {
      "image/png": "[encoded data removed]",
      "text/plain": [
       "<Figure size 432x288 with 1 Axes>"
      ]
     },
     "metadata": {
      "needs_background": "light"
     },
     "output_type": "display_data"
    }
   ],
   "source": [
    "data_persones['Edat'].value_counts().head(20).plot(kind='barh')\n",
    "plt.show()"
   ]
  },
  {
   "cell_type": "markdown",
   "metadata": {},
   "source": [
    "<br>\n",
    "<br>\n",
    "\n",
    "#### Descripcio_tipus_persona"
   ]
  },
  {
   "cell_type": "code",
   "execution_count": 32,
   "metadata": {},
   "outputs": [
    {
     "data": {
      "image/png": "[encoded data removed]",
      "text/plain": [
       "<Figure size 432x288 with 1 Axes>"
      ]
     },
     "metadata": {
      "needs_background": "light"
     },
     "output_type": "display_data"
    }
   ],
   "source": [
    "data_persones['Descripcio_tipus_persona'].value_counts().plot.barh()\n",
    "plt.show()"
   ]
  },
  {
   "cell_type": "markdown",
   "metadata": {},
   "source": [
    "#### Descripcio_causa_vianant"
   ]
  },
  {
   "cell_type": "code",
   "execution_count": 33,
   "metadata": {},
   "outputs": [
    {
     "data": {
      "image/png": "[encoded data removed]",
      "text/plain": [
       "<Figure size 432x288 with 1 Axes>"
      ]
     },
     "metadata": {
      "needs_background": "light"
     },
     "output_type": "display_data"
    }
   ],
   "source": [
    "data_persones['Descripcio_causa_vianant'].value_counts().plot(kind='barh')\n",
    "plt.show()"
   ]
  },
  {
   "cell_type": "markdown",
   "metadata": {},
   "source": [
    "#### Descripcio_victimitzacio"
   ]
  },
  {
   "cell_type": "code",
   "execution_count": 34,
   "metadata": {},
   "outputs": [
    {
     "data": {
      "image/png": "[encoded data removed]",
      "text/plain": [
       "<Figure size 432x288 with 1 Axes>"
      ]
     },
     "metadata": {
      "needs_background": "light"
     },
     "output_type": "display_data"
    }
   ],
   "source": [
    "data_persones['Descripcio_victimitzacio'].value_counts().plot('barh')\n",
    "plt.show()"
   ]
  },
  {
   "cell_type": "markdown",
   "metadata": {},
   "source": [
    "Debido a que no hay uniformidad de criterio respecto a los años anteriores.Se procederá a reagrupar las variables del siguiente orden:\n",
    "\n",
    "***Ferit lleu***:\n",
    "\n",
    "- Ferit lleu\n",
    "- Ferit lleu: Hospitalitzacio fins a 24h\n",
    "- Ferit lleu:Amb assitencia sanitària en lloc d'accident\n",
    "- Ferit lleu: Rebutja assistencia sanitaria\n",
    "\n",
    "***Ferit greu***:\n",
    "- Ferit greu\n",
    "- Ferit: hospitalització superior a 24h\n",
    "\n",
    "***Mort***:\n",
    "- Mort\n",
    "- Mort (dins 24h posteriors  accident)\n",
    "\n",
    "Y asignandole al atributo llamado `Descripcio_victimes`"
   ]
  },
  {
   "cell_type": "code",
   "execution_count": 35,
   "metadata": {},
   "outputs": [],
   "source": [
    "Descripcio_victimes=[]\n",
    "for index in range(len(data_persones)):\n",
    "    Descripcio_victimitzacio=data_persones['Descripcio_victimitzacio'].iloc[index]\n",
    "    if 'Ferit lleu' in Descripcio_victimitzacio:\n",
    "        Descripcio_victimes.append('Ferit lleu')\n",
    "    elif 'Ferit greu' in Descripcio_victimitzacio:\n",
    "        Descripcio_victimes.append('Ferit greu')\n",
    "    else:\n",
    "        Descripcio_victimes.append('Mort')\n",
    "data_persones['Descripcio_victimes']= Descripcio_victimes"
   ]
  },
  {
   "cell_type": "markdown",
   "metadata": {},
   "source": [
    "#### Descripcio_victimes"
   ]
  },
  {
   "cell_type": "code",
   "execution_count": 36,
   "metadata": {},
   "outputs": [
    {
     "data": {
      "image/png": "[encoded data removed]",
      "text/plain": [
       "<Figure size 432x288 with 1 Axes>"
      ]
     },
     "metadata": {
      "needs_background": "light"
     },
     "output_type": "display_data"
    }
   ],
   "source": [
    "data_persones['Descripcio_victimes'].value_counts().plot(kind='barh')\n",
    "plt.show()"
   ]
  },
  {
   "cell_type": "markdown",
   "metadata": {},
   "source": [
    "Creando los datasets:\n",
    "## 1.Personas\n",
    "Tendrá los siguientes atributos:\n",
    "- Id_expedient\n",
    "- Descripcio_sexe\n",
    "- Edat\n",
    "- Descripcio_tipus_persona\n",
    "- Descripcio_causa_vianant\n",
    "- Descripcio_victimitzacio\n",
    "- Descripcio_victimes"
   ]
  },
  {
   "cell_type": "code",
   "execution_count": 37,
   "metadata": {},
   "outputs": [],
   "source": [
    "persones_atributos=['Id_expedient','Descripcio_sexe','Edat',\n",
    "                    'Descripcio_tipus_persona','Descripcio_causa_vianant',\n",
    "                    'Descripcio_victimitzacio','Descripcio_victimes']"
   ]
  },
  {
   "cell_type": "markdown",
   "metadata": {},
   "source": [
    "Enviando un archivo csv exceptuando las coordenadas UTM llamado `personas.csv`"
   ]
  },
  {
   "cell_type": "code",
   "execution_count": 38,
   "metadata": {},
   "outputs": [],
   "source": [
    "pd.DataFrame(data_persones,columns=persones_atributos).to_csv('personas.csv',\n",
    "                                                              index= False,\n",
    "                                                              encoding='latin-1')"
   ]
  },
  {
   "cell_type": "markdown",
   "metadata": {},
   "source": [
    "# Segundo paso: \n",
    "* Construyendo el dataset sobre las características de espacio y tiempo en el accidente\n",
    "* Editando las variables de coordenadas UTM\n",
    "* Crear los atributos de Latitud y Longitud"
   ]
  },
  {
   "cell_type": "code",
   "execution_count": 39,
   "metadata": {},
   "outputs": [],
   "source": [
    "localizacion_atributos=['Id_expedient','Fecha','Any','Mes_any','Nom_mes',\n",
    "                        'Dia_mes','Hora_dia','Descripcio_dia_setmana',\n",
    "                        'Nom_carrer','Nom_barri','Nom_districte','UTM_X',\n",
    "                        'UTM_Y']\n",
    "localizacion= pd.DataFrame(data_persones,columns=localizacion_atributos)"
   ]
  },
  {
   "cell_type": "markdown",
   "metadata": {},
   "source": [
    "Observando el cantidad de valores nulos "
   ]
  },
  {
   "cell_type": "code",
   "execution_count": 40,
   "metadata": {},
   "outputs": [
    {
     "data": {
      "text/plain": [
       "Id_expedient               0\n",
       "Fecha                      0\n",
       "Any                        0\n",
       "Mes_any                    0\n",
       "Nom_mes                    0\n",
       "Dia_mes                    0\n",
       "Hora_dia                   0\n",
       "Descripcio_dia_setmana     0\n",
       "Nom_carrer                 0\n",
       "Nom_barri                  0\n",
       "Nom_districte              0\n",
       "UTM_X                     17\n",
       "UTM_Y                     17\n",
       "dtype: int64"
      ]
     },
     "execution_count": 40,
     "metadata": {},
     "output_type": "execute_result"
    }
   ],
   "source": [
    "localizacion.isnull().sum()"
   ]
  },
  {
   "cell_type": "markdown",
   "metadata": {},
   "source": [
    "Observando al detalle:"
   ]
  },
  {
   "cell_type": "code",
   "execution_count": 41,
   "metadata": {},
   "outputs": [
    {
     "data": {
      "text/html": [
       "<div>\n",
       "<style scoped>\n",
       "    .dataframe tbody tr th:only-of-type {\n",
       "        vertical-align: middle;\n",
       "    }\n",
       "\n",
       "    .dataframe tbody tr th {\n",
       "        vertical-align: top;\n",
       "    }\n",
       "\n",
       "    .dataframe thead th {\n",
       "        text-align: right;\n",
       "    }\n",
       "</style>\n",
       "<table border=\"1\" class=\"dataframe\">\n",
       "  <thead>\n",
       "    <tr style=\"text-align: right;\">\n",
       "      <th></th>\n",
       "      <th>Id_expedient</th>\n",
       "      <th>Fecha</th>\n",
       "      <th>Any</th>\n",
       "      <th>Mes_any</th>\n",
       "      <th>Nom_mes</th>\n",
       "      <th>Dia_mes</th>\n",
       "      <th>Hora_dia</th>\n",
       "      <th>Descripcio_dia_setmana</th>\n",
       "      <th>Nom_carrer</th>\n",
       "      <th>Nom_barri</th>\n",
       "      <th>Nom_districte</th>\n",
       "      <th>UTM_X</th>\n",
       "      <th>UTM_Y</th>\n",
       "    </tr>\n",
       "  </thead>\n",
       "  <tbody>\n",
       "    <tr>\n",
       "      <th>87</th>\n",
       "      <td>2017S000075</td>\n",
       "      <td>2017-01-04</td>\n",
       "      <td>2017</td>\n",
       "      <td>1</td>\n",
       "      <td>Gener</td>\n",
       "      <td>4</td>\n",
       "      <td>14</td>\n",
       "      <td>Dimecres</td>\n",
       "      <td>Desconegut</td>\n",
       "      <td>la Nova Esquerra de l'Eixample</td>\n",
       "      <td>Eixample</td>\n",
       "      <td>NaN</td>\n",
       "      <td>NaN</td>\n",
       "    </tr>\n",
       "    <tr>\n",
       "      <th>308</th>\n",
       "      <td>2017S000252</td>\n",
       "      <td>2017-01-11</td>\n",
       "      <td>2017</td>\n",
       "      <td>1</td>\n",
       "      <td>Gener</td>\n",
       "      <td>11</td>\n",
       "      <td>14</td>\n",
       "      <td>Dimecres</td>\n",
       "      <td>desconegut</td>\n",
       "      <td>Desconegut</td>\n",
       "      <td>Desconegut</td>\n",
       "      <td>NaN</td>\n",
       "      <td>NaN</td>\n",
       "    </tr>\n",
       "    <tr>\n",
       "      <th>504</th>\n",
       "      <td>2017S000419</td>\n",
       "      <td>2017-01-16</td>\n",
       "      <td>2017</td>\n",
       "      <td>1</td>\n",
       "      <td>Gener</td>\n",
       "      <td>16</td>\n",
       "      <td>17</td>\n",
       "      <td>Dilluns</td>\n",
       "      <td>Desconegut</td>\n",
       "      <td>Sant Gervasi - Galvany</td>\n",
       "      <td>Sarrià-Sant Gervasi</td>\n",
       "      <td>NaN</td>\n",
       "      <td>NaN</td>\n",
       "    </tr>\n",
       "    <tr>\n",
       "      <th>1584</th>\n",
       "      <td>2017S001374</td>\n",
       "      <td>2017-02-18</td>\n",
       "      <td>2017</td>\n",
       "      <td>2</td>\n",
       "      <td>Febrer</td>\n",
       "      <td>18</td>\n",
       "      <td>18</td>\n",
       "      <td>Dissabte</td>\n",
       "      <td>Desconegut</td>\n",
       "      <td>Sant Antoni</td>\n",
       "      <td>Eixample</td>\n",
       "      <td>NaN</td>\n",
       "      <td>NaN</td>\n",
       "    </tr>\n",
       "    <tr>\n",
       "      <th>1591</th>\n",
       "      <td>2017S001379</td>\n",
       "      <td>2017-02-18</td>\n",
       "      <td>2017</td>\n",
       "      <td>2</td>\n",
       "      <td>Febrer</td>\n",
       "      <td>18</td>\n",
       "      <td>21</td>\n",
       "      <td>Dissabte</td>\n",
       "      <td>Desconegut</td>\n",
       "      <td>la Dreta de l'Eixample</td>\n",
       "      <td>Eixample</td>\n",
       "      <td>NaN</td>\n",
       "      <td>NaN</td>\n",
       "    </tr>\n",
       "    <tr>\n",
       "      <th>1692</th>\n",
       "      <td>2017S001469</td>\n",
       "      <td>2017-02-22</td>\n",
       "      <td>2017</td>\n",
       "      <td>2</td>\n",
       "      <td>Febrer</td>\n",
       "      <td>22</td>\n",
       "      <td>12</td>\n",
       "      <td>Dimecres</td>\n",
       "      <td>Desconegut</td>\n",
       "      <td>la Teixonera</td>\n",
       "      <td>Horta-Guinardó</td>\n",
       "      <td>NaN</td>\n",
       "      <td>NaN</td>\n",
       "    </tr>\n",
       "    <tr>\n",
       "      <th>2014</th>\n",
       "      <td>2017S001749</td>\n",
       "      <td>2017-03-03</td>\n",
       "      <td>2017</td>\n",
       "      <td>3</td>\n",
       "      <td>Març</td>\n",
       "      <td>3</td>\n",
       "      <td>14</td>\n",
       "      <td>Divendres</td>\n",
       "      <td>Desconegut</td>\n",
       "      <td>les Roquetes</td>\n",
       "      <td>Nou Barris</td>\n",
       "      <td>NaN</td>\n",
       "      <td>NaN</td>\n",
       "    </tr>\n",
       "    <tr>\n",
       "      <th>4132</th>\n",
       "      <td>2017S004015</td>\n",
       "      <td>2017-05-06</td>\n",
       "      <td>2017</td>\n",
       "      <td>5</td>\n",
       "      <td>Maig</td>\n",
       "      <td>6</td>\n",
       "      <td>14</td>\n",
       "      <td>Dissabte</td>\n",
       "      <td>desconegut</td>\n",
       "      <td>Desconegut</td>\n",
       "      <td>Desconegut</td>\n",
       "      <td>NaN</td>\n",
       "      <td>NaN</td>\n",
       "    </tr>\n",
       "    <tr>\n",
       "      <th>4133</th>\n",
       "      <td>2017S004015</td>\n",
       "      <td>2017-05-06</td>\n",
       "      <td>2017</td>\n",
       "      <td>5</td>\n",
       "      <td>Maig</td>\n",
       "      <td>6</td>\n",
       "      <td>14</td>\n",
       "      <td>Dissabte</td>\n",
       "      <td>desconegut</td>\n",
       "      <td>Desconegut</td>\n",
       "      <td>Desconegut</td>\n",
       "      <td>NaN</td>\n",
       "      <td>NaN</td>\n",
       "    </tr>\n",
       "    <tr>\n",
       "      <th>4134</th>\n",
       "      <td>2017S004015</td>\n",
       "      <td>2017-05-06</td>\n",
       "      <td>2017</td>\n",
       "      <td>5</td>\n",
       "      <td>Maig</td>\n",
       "      <td>6</td>\n",
       "      <td>14</td>\n",
       "      <td>Dissabte</td>\n",
       "      <td>desconegut</td>\n",
       "      <td>Desconegut</td>\n",
       "      <td>Desconegut</td>\n",
       "      <td>NaN</td>\n",
       "      <td>NaN</td>\n",
       "    </tr>\n",
       "    <tr>\n",
       "      <th>4135</th>\n",
       "      <td>2017S004015</td>\n",
       "      <td>2017-05-06</td>\n",
       "      <td>2017</td>\n",
       "      <td>5</td>\n",
       "      <td>Maig</td>\n",
       "      <td>6</td>\n",
       "      <td>14</td>\n",
       "      <td>Dissabte</td>\n",
       "      <td>desconegut</td>\n",
       "      <td>Desconegut</td>\n",
       "      <td>Desconegut</td>\n",
       "      <td>NaN</td>\n",
       "      <td>NaN</td>\n",
       "    </tr>\n",
       "    <tr>\n",
       "      <th>6587</th>\n",
       "      <td>2017S006148</td>\n",
       "      <td>2017-07-14</td>\n",
       "      <td>2017</td>\n",
       "      <td>7</td>\n",
       "      <td>Juliol</td>\n",
       "      <td>14</td>\n",
       "      <td>17</td>\n",
       "      <td>Divendres</td>\n",
       "      <td>desconegut</td>\n",
       "      <td>Desconegut</td>\n",
       "      <td>Desconegut</td>\n",
       "      <td>NaN</td>\n",
       "      <td>NaN</td>\n",
       "    </tr>\n",
       "    <tr>\n",
       "      <th>8020</th>\n",
       "      <td>2017S007316</td>\n",
       "      <td>2017-09-01</td>\n",
       "      <td>2017</td>\n",
       "      <td>9</td>\n",
       "      <td>Setembre</td>\n",
       "      <td>1</td>\n",
       "      <td>13</td>\n",
       "      <td>Divendres</td>\n",
       "      <td>desconegut</td>\n",
       "      <td>Desconegut</td>\n",
       "      <td>Desconegut</td>\n",
       "      <td>NaN</td>\n",
       "      <td>NaN</td>\n",
       "    </tr>\n",
       "    <tr>\n",
       "      <th>8734</th>\n",
       "      <td>2017S007907</td>\n",
       "      <td>2017-09-24</td>\n",
       "      <td>2017</td>\n",
       "      <td>9</td>\n",
       "      <td>Setembre</td>\n",
       "      <td>24</td>\n",
       "      <td>9</td>\n",
       "      <td>Diumenge</td>\n",
       "      <td>desconegut</td>\n",
       "      <td>Desconegut</td>\n",
       "      <td>Desconegut</td>\n",
       "      <td>NaN</td>\n",
       "      <td>NaN</td>\n",
       "    </tr>\n",
       "    <tr>\n",
       "      <th>9346</th>\n",
       "      <td>2017S008429</td>\n",
       "      <td>2017-10-13</td>\n",
       "      <td>2017</td>\n",
       "      <td>10</td>\n",
       "      <td>Octubre</td>\n",
       "      <td>13</td>\n",
       "      <td>8</td>\n",
       "      <td>Divendres</td>\n",
       "      <td>desconegut</td>\n",
       "      <td>Desconegut</td>\n",
       "      <td>Desconegut</td>\n",
       "      <td>NaN</td>\n",
       "      <td>NaN</td>\n",
       "    </tr>\n",
       "    <tr>\n",
       "      <th>9693</th>\n",
       "      <td>2017S008730</td>\n",
       "      <td>2017-10-22</td>\n",
       "      <td>2017</td>\n",
       "      <td>10</td>\n",
       "      <td>Octubre</td>\n",
       "      <td>22</td>\n",
       "      <td>10</td>\n",
       "      <td>Diumenge</td>\n",
       "      <td>desconegut</td>\n",
       "      <td>Desconegut</td>\n",
       "      <td>Desconegut</td>\n",
       "      <td>NaN</td>\n",
       "      <td>NaN</td>\n",
       "    </tr>\n",
       "    <tr>\n",
       "      <th>11483</th>\n",
       "      <td>2017S010210</td>\n",
       "      <td>2017-12-08</td>\n",
       "      <td>2017</td>\n",
       "      <td>12</td>\n",
       "      <td>Desembre</td>\n",
       "      <td>8</td>\n",
       "      <td>21</td>\n",
       "      <td>Divendres</td>\n",
       "      <td>desconegut</td>\n",
       "      <td>Desconegut</td>\n",
       "      <td>Desconegut</td>\n",
       "      <td>NaN</td>\n",
       "      <td>NaN</td>\n",
       "    </tr>\n",
       "  </tbody>\n",
       "</table>\n",
       "</div>"
      ],
      "text/plain": [
       "          Id_expedient      Fecha   Any  Mes_any   Nom_mes  Dia_mes  Hora_dia  \\\n",
       "87     2017S000075     2017-01-04  2017        1     Gener        4        14   \n",
       "308    2017S000252     2017-01-11  2017        1     Gener       11        14   \n",
       "504    2017S000419     2017-01-16  2017        1     Gener       16        17   \n",
       "1584   2017S001374     2017-02-18  2017        2    Febrer       18        18   \n",
       "1591   2017S001379     2017-02-18  2017        2    Febrer       18        21   \n",
       "1692   2017S001469     2017-02-22  2017        2    Febrer       22        12   \n",
       "2014   2017S001749     2017-03-03  2017        3      Març        3        14   \n",
       "4132   2017S004015     2017-05-06  2017        5      Maig        6        14   \n",
       "4133   2017S004015     2017-05-06  2017        5      Maig        6        14   \n",
       "4134   2017S004015     2017-05-06  2017        5      Maig        6        14   \n",
       "4135   2017S004015     2017-05-06  2017        5      Maig        6        14   \n",
       "6587   2017S006148     2017-07-14  2017        7    Juliol       14        17   \n",
       "8020   2017S007316     2017-09-01  2017        9  Setembre        1        13   \n",
       "8734   2017S007907     2017-09-24  2017        9  Setembre       24         9   \n",
       "9346   2017S008429     2017-10-13  2017       10   Octubre       13         8   \n",
       "9693   2017S008730     2017-10-22  2017       10   Octubre       22        10   \n",
       "11483  2017S010210     2017-12-08  2017       12  Desembre        8        21   \n",
       "\n",
       "      Descripcio_dia_setmana  Nom_carrer                       Nom_barri  \\\n",
       "87                  Dimecres  Desconegut  la Nova Esquerra de l'Eixample   \n",
       "308                 Dimecres  desconegut                      Desconegut   \n",
       "504                  Dilluns  Desconegut          Sant Gervasi - Galvany   \n",
       "1584                Dissabte  Desconegut                     Sant Antoni   \n",
       "1591                Dissabte  Desconegut          la Dreta de l'Eixample   \n",
       "1692                Dimecres  Desconegut                    la Teixonera   \n",
       "2014               Divendres  Desconegut                    les Roquetes   \n",
       "4132                Dissabte  desconegut                      Desconegut   \n",
       "4133                Dissabte  desconegut                      Desconegut   \n",
       "4134                Dissabte  desconegut                      Desconegut   \n",
       "4135                Dissabte  desconegut                      Desconegut   \n",
       "6587               Divendres  desconegut                      Desconegut   \n",
       "8020               Divendres  desconegut                      Desconegut   \n",
       "8734                Diumenge  desconegut                      Desconegut   \n",
       "9346               Divendres  desconegut                      Desconegut   \n",
       "9693                Diumenge  desconegut                      Desconegut   \n",
       "11483              Divendres  desconegut                      Desconegut   \n",
       "\n",
       "             Nom_districte UTM_X UTM_Y  \n",
       "87                Eixample   NaN   NaN  \n",
       "308             Desconegut   NaN   NaN  \n",
       "504    Sarrià-Sant Gervasi   NaN   NaN  \n",
       "1584              Eixample   NaN   NaN  \n",
       "1591              Eixample   NaN   NaN  \n",
       "1692        Horta-Guinardó   NaN   NaN  \n",
       "2014            Nou Barris   NaN   NaN  \n",
       "4132            Desconegut   NaN   NaN  \n",
       "4133            Desconegut   NaN   NaN  \n",
       "4134            Desconegut   NaN   NaN  \n",
       "4135            Desconegut   NaN   NaN  \n",
       "6587            Desconegut   NaN   NaN  \n",
       "8020            Desconegut   NaN   NaN  \n",
       "8734            Desconegut   NaN   NaN  \n",
       "9346            Desconegut   NaN   NaN  \n",
       "9693            Desconegut   NaN   NaN  \n",
       "11483           Desconegut   NaN   NaN  "
      ]
     },
     "execution_count": 41,
     "metadata": {},
     "output_type": "execute_result"
    }
   ],
   "source": [
    "localizacion[pd.isnull(localizacion).any(axis=1)]"
   ]
  },
  {
   "cell_type": "markdown",
   "metadata": {},
   "source": [
    "Todos los valores nulos corresponden al año **2017**.\n",
    "<br>\n",
    "Procediendo a su eliminación"
   ]
  },
  {
   "cell_type": "code",
   "execution_count": 42,
   "metadata": {},
   "outputs": [],
   "source": [
    "localizacion=localizacion.dropna(axis=0)"
   ]
  },
  {
   "cell_type": "markdown",
   "metadata": {},
   "source": [
    "Eliminando las filas repetidas en función del Id_expedient: "
   ]
  },
  {
   "cell_type": "code",
   "execution_count": 43,
   "metadata": {},
   "outputs": [],
   "source": [
    "localizacion.drop_duplicates(subset =\"Id_expedient\", keep = False, inplace = True) "
   ]
  },
  {
   "cell_type": "markdown",
   "metadata": {},
   "source": [
    "Cambiando `','` por `'.'`:"
   ]
  },
  {
   "cell_type": "code",
   "execution_count": 44,
   "metadata": {},
   "outputs": [],
   "source": [
    "localizacion['UTM_X']=list(map(lambda cadena: str(cadena).replace(',','.'),\n",
    "                               localizacion['UTM_X']))\n",
    "localizacion['UTM_Y']=list(map(lambda cadena: str(cadena).replace(',','.'),\n",
    "                               localizacion['UTM_Y']))"
   ]
  },
  {
   "cell_type": "markdown",
   "metadata": {},
   "source": [
    "Consiguiendo una lista de índices donde las variables UTM no son decimales:"
   ]
  },
  {
   "cell_type": "code",
   "execution_count": 45,
   "metadata": {},
   "outputs": [],
   "source": [
    "nofloat=[]\n",
    "for index in range(len(localizacion)):\n",
    "    x=localizacion['UTM_X'].iloc[index]\n",
    "    y=localizacion['UTM_Y'].iloc[index]\n",
    "    if '-1' in x or '-1' in y:\n",
    "        nofloat.append(index)\n",
    "    try:\n",
    "        float(x)\n",
    "        float(y)\n",
    "    except:\n",
    "        nofloat.append(index)"
   ]
  },
  {
   "cell_type": "code",
   "execution_count": 46,
   "metadata": {},
   "outputs": [
    {
     "name": "stdout",
     "output_type": "stream",
     "text": [
      "Hay un total de 129 instancias irregulares\n"
     ]
    }
   ],
   "source": [
    "print('Hay un total de {} instancias irregulares'.format(len(nofloat)))"
   ]
  },
  {
   "cell_type": "code",
   "execution_count": 47,
   "metadata": {},
   "outputs": [
    {
     "data": {
      "text/plain": [
       "-1            118\n",
       "Desconegut     11\n",
       "Name: UTM_X, dtype: int64"
      ]
     },
     "execution_count": 47,
     "metadata": {},
     "output_type": "execute_result"
    }
   ],
   "source": [
    "localizacion['UTM_X'].iloc[nofloat].value_counts()"
   ]
  },
  {
   "cell_type": "code",
   "execution_count": 48,
   "metadata": {},
   "outputs": [
    {
     "data": {
      "text/plain": [
       "-1            118\n",
       "Desconegut     11\n",
       "Name: UTM_Y, dtype: int64"
      ]
     },
     "execution_count": 48,
     "metadata": {},
     "output_type": "execute_result"
    }
   ],
   "source": [
    "localizacion['UTM_Y'].iloc[nofloat].value_counts()"
   ]
  },
  {
   "cell_type": "markdown",
   "metadata": {},
   "source": [
    "Se procede a eliminarlos"
   ]
  },
  {
   "cell_type": "code",
   "execution_count": 49,
   "metadata": {},
   "outputs": [],
   "source": [
    "localizacion=localizacion.drop(localizacion.index[nofloat])"
   ]
  },
  {
   "cell_type": "code",
   "execution_count": 50,
   "metadata": {},
   "outputs": [
    {
     "name": "stdout",
     "output_type": "stream",
     "text": [
      "Existen un total de 42048 filas\n"
     ]
    }
   ],
   "source": [
    "print('Existen un total de {} filas'.format(len(localizacion)))"
   ]
  },
  {
   "cell_type": "markdown",
   "metadata": {},
   "source": [
    "Convirtiendo a numéricos decimales"
   ]
  },
  {
   "cell_type": "code",
   "execution_count": 51,
   "metadata": {},
   "outputs": [],
   "source": [
    "localizacion[['UTM_X','UTM_Y']]=localizacion[['UTM_X','UTM_Y']].astype(float)\n",
    "#data_persones['UTM_X']=pd.to_numeric(data_persones['UTM_X'],errors='coerce')\n",
    "#data_persones['UTM_Y']=pd.to_numeric(data_persones['UTM_Y'],errors='coerce')"
   ]
  },
  {
   "cell_type": "markdown",
   "metadata": {},
   "source": [
    "Observando ambos atributos `UTM_X` y `UTM_Y`"
   ]
  },
  {
   "cell_type": "code",
   "execution_count": 52,
   "metadata": {},
   "outputs": [
    {
     "data": {
      "text/html": [
       "<div>\n",
       "<style scoped>\n",
       "    .dataframe tbody tr th:only-of-type {\n",
       "        vertical-align: middle;\n",
       "    }\n",
       "\n",
       "    .dataframe tbody tr th {\n",
       "        vertical-align: top;\n",
       "    }\n",
       "\n",
       "    .dataframe thead th {\n",
       "        text-align: right;\n",
       "    }\n",
       "</style>\n",
       "<table border=\"1\" class=\"dataframe\">\n",
       "  <thead>\n",
       "    <tr style=\"text-align: right;\">\n",
       "      <th></th>\n",
       "      <th>UTM_X</th>\n",
       "      <th>UTM_Y</th>\n",
       "    </tr>\n",
       "  </thead>\n",
       "  <tbody>\n",
       "    <tr>\n",
       "      <th>count</th>\n",
       "      <td>42048.000000</td>\n",
       "      <td>4.204800e+04</td>\n",
       "    </tr>\n",
       "    <tr>\n",
       "      <th>mean</th>\n",
       "      <td>430074.631397</td>\n",
       "      <td>4.583571e+06</td>\n",
       "    </tr>\n",
       "    <tr>\n",
       "      <th>std</th>\n",
       "      <td>1959.948631</td>\n",
       "      <td>2.307967e+03</td>\n",
       "    </tr>\n",
       "    <tr>\n",
       "      <th>min</th>\n",
       "      <td>423466.220000</td>\n",
       "      <td>4.575063e+06</td>\n",
       "    </tr>\n",
       "    <tr>\n",
       "      <th>25%</th>\n",
       "      <td>428655.700000</td>\n",
       "      <td>4.582129e+06</td>\n",
       "    </tr>\n",
       "    <tr>\n",
       "      <th>50%</th>\n",
       "      <td>430119.390000</td>\n",
       "      <td>4.583312e+06</td>\n",
       "    </tr>\n",
       "    <tr>\n",
       "      <th>75%</th>\n",
       "      <td>431476.227500</td>\n",
       "      <td>4.584781e+06</td>\n",
       "    </tr>\n",
       "    <tr>\n",
       "      <th>max</th>\n",
       "      <td>435128.660000</td>\n",
       "      <td>4.591251e+06</td>\n",
       "    </tr>\n",
       "  </tbody>\n",
       "</table>\n",
       "</div>"
      ],
      "text/plain": [
       "               UTM_X         UTM_Y\n",
       "count   42048.000000  4.204800e+04\n",
       "mean   430074.631397  4.583571e+06\n",
       "std      1959.948631  2.307967e+03\n",
       "min    423466.220000  4.575063e+06\n",
       "25%    428655.700000  4.582129e+06\n",
       "50%    430119.390000  4.583312e+06\n",
       "75%    431476.227500  4.584781e+06\n",
       "max    435128.660000  4.591251e+06"
      ]
     },
     "execution_count": 52,
     "metadata": {},
     "output_type": "execute_result"
    }
   ],
   "source": [
    "localizacion[['UTM_X','UTM_Y']].describe()"
   ]
  },
  {
   "cell_type": "code",
   "execution_count": 53,
   "metadata": {},
   "outputs": [
    {
     "data": {
      "image/png": "[encoded data removed]",
      "text/plain": [
       "<Figure size 432x288 with 1 Axes>"
      ]
     },
     "metadata": {
      "needs_background": "light"
     },
     "output_type": "display_data"
    }
   ],
   "source": [
    "localizacion[['UTM_X','UTM_Y']].plot(kind='box',title='Boxplot')\n",
    "plt.show()"
   ]
  },
  {
   "cell_type": "markdown",
   "metadata": {},
   "source": [
    "Calculando la `Latitud`,`Longitud` y añadiendo los atributos que llevan los mismos nombres"
   ]
  },
  {
   "cell_type": "code",
   "execution_count": 54,
   "metadata": {},
   "outputs": [],
   "source": [
    "Latitud=[]\n",
    "Longitud=[]\n",
    "for index in range(len(localizacion)):\n",
    "    x= localizacion.UTM_X.iloc[index]\n",
    "    y= localizacion.UTM_Y.iloc[index]\n",
    "    lat, long = utm.to_latlon(x,y,zone_number=31,zone_letter='T')\n",
    "    #31 y T son parámetros que corresponden a BCN\n",
    "    Latitud.append(lat)\n",
    "    Longitud.append(long)"
   ]
  },
  {
   "cell_type": "code",
   "execution_count": 55,
   "metadata": {},
   "outputs": [],
   "source": [
    "localizacion['Latitud']=Latitud\n",
    "localizacion['Longitud']=Longitud"
   ]
  },
  {
   "cell_type": "markdown",
   "metadata": {},
   "source": [
    "Chequeando el número de datos por año"
   ]
  },
  {
   "cell_type": "code",
   "execution_count": 56,
   "metadata": {},
   "outputs": [
    {
     "data": {
      "image/png": "[encoded data removed]",
      "text/plain": [
       "<Figure size 432x288 with 1 Axes>"
      ]
     },
     "metadata": {
      "needs_background": "light"
     },
     "output_type": "display_data"
    }
   ],
   "source": [
    "localizacion['Any'].value_counts().plot.bar(rot=0)\n",
    "plt.show()"
   ]
  },
  {
   "cell_type": "markdown",
   "metadata": {},
   "source": [
    "Eliminando los atributos de coordenadas UTM"
   ]
  },
  {
   "cell_type": "code",
   "execution_count": 57,
   "metadata": {},
   "outputs": [],
   "source": [
    "localizacion=localizacion.drop(['UTM_X','UTM_Y'],axis=1)"
   ]
  },
  {
   "cell_type": "markdown",
   "metadata": {},
   "source": [
    "## 2.Localización\n",
    "\n",
    "Tendrá los siguientes atributos:\n",
    "- Id_expedient\n",
    "- Fecha\n",
    "- Any\n",
    "- Mes_any\n",
    "- Nom_mes\n",
    "- Dia_mes\n",
    "- Hora_dia\n",
    "- Descripcio_dia_setmana\n",
    "- Nom_carrer\n",
    "- Nom_barri\n",
    "- Nom_districte\n",
    "- Latitud\n",
    "- Longitud"
   ]
  },
  {
   "cell_type": "markdown",
   "metadata": {},
   "source": [
    "Enviando a un archivo csv:"
   ]
  },
  {
   "cell_type": "code",
   "execution_count": 58,
   "metadata": {},
   "outputs": [],
   "source": [
    "localizacion.to_csv('localizacion.csv',index= False,encoding='Latin-1')"
   ]
  },
  {
   "cell_type": "markdown",
   "metadata": {},
   "source": [
    "# Tercer paso\n",
    "Analogamente con los primeros 6 archivos sobre personas afectadas, se procede a extraer y chequear solo los datos relacionados a los vehículos implicados\n",
    "<br>\n",
    "\n",
    "Se tienen los siguientes datasets en el archivo `vehicles`:\n",
    "\n",
    ">- 2013_accidents_vehicles.csv\n",
    ">- 2014_accidents_vehicles.csv\n",
    ">- 2015_accidents_vehicles.csv\n",
    ">- 2016_accidents_vehicles.csv\n",
    ">- 2017_accidents_vehicles.csv\n",
    ">- 2018_accidents_vehicles.csv"
   ]
  },
  {
   "cell_type": "code",
   "execution_count": 59,
   "metadata": {},
   "outputs": [],
   "source": [
    "#Las columnas que no son útiles:\n",
    "eliminar_columnas_vehicles=['Codi districte','Codi barri','Nom barri', 'Nom_barri',\n",
    "                            'Codi carrer','Nom carrer','Num postal caption', \n",
    "                            'Num_postal',' Longitud',' Latitud','Codi_districte',\n",
    "                            'Codi_barri','Nom_carrer','Codi_carrer','Num_postal ',\n",
    "                            'Descripcio_situacio','Nom_districte','Nom districte',\n",
    "                            'NK Any','Any','Dia de mes','Dia_mes','Nom mes',\n",
    "                            'Nom_mes','Descripcio_dia_setmana',\n",
    "                            'Descripcio dia setmana','Mes de any','Mes_any',\n",
    "                            'Hora de dia','Hora_dia','Desc. Tipus vehicle implicat',\n",
    "                            'Dia setmana', 'Dia_setmana','Descripció tipus dia',\n",
    "                            'Descripcio_tipus_dia','Descripcio_torn',\n",
    "                            'Coordenada UTM (X)','Coordenada UTM (Y)',\n",
    "                            'Coordenada_UTM_X','Coordenada_UTM_Y',\n",
    "                            'Longitud','Latitud']"
   ]
  },
  {
   "cell_type": "code",
   "execution_count": 60,
   "metadata": {},
   "outputs": [],
   "source": [
    "archivo= 'vehicles'\n",
    "for año in range(2013,2019):\n",
    "    dirreccion='{0}/{1}_accidents_{0}.csv'.format(archivo,año)\n",
    "    sep=';'\n",
    "    enc='iso-8859-15'\n",
    "    if año== 2015:\n",
    "        sep=','\n",
    "    vehicles_año=pd.read_csv(dirreccion,sep=sep,encoding=enc)\n",
    "    for columna in eliminar_columnas_vehicles:\n",
    "        try:\n",
    "            del vehicles_año[columna]\n",
    "        except:\n",
    "            pass\n",
    "    columnas=vehicles_año.columns.tolist()\n",
    "    columnas_editadas=list(map(editando,columnas))\n",
    "    vehicles_año.columns=columnas_editadas\n",
    "    if año == 2013:\n",
    "        data_vehicles=vehicles_año\n",
    "    else:\n",
    "        data_vehicles=pd.concat([data_vehicles,vehicles_año],sort= True)  "
   ]
  },
  {
   "cell_type": "code",
   "execution_count": 61,
   "metadata": {},
   "outputs": [
    {
     "data": {
      "text/html": [
       "<div>\n",
       "<style scoped>\n",
       "    .dataframe tbody tr th:only-of-type {\n",
       "        vertical-align: middle;\n",
       "    }\n",
       "\n",
       "    .dataframe tbody tr th {\n",
       "        vertical-align: top;\n",
       "    }\n",
       "\n",
       "    .dataframe thead th {\n",
       "        text-align: right;\n",
       "    }\n",
       "</style>\n",
       "<table border=\"1\" class=\"dataframe\">\n",
       "  <thead>\n",
       "    <tr style=\"text-align: right;\">\n",
       "      <th></th>\n",
       "      <th>Antiguitat_carnet</th>\n",
       "      <th>Descripcio_carnet</th>\n",
       "      <th>Descripcio_causa_vianant</th>\n",
       "      <th>Descripcio_color</th>\n",
       "      <th>Descripcio_dia_setmana</th>\n",
       "      <th>Descripcio_marca</th>\n",
       "      <th>Descripcio_model</th>\n",
       "      <th>Descripcio_tipus_vehicle</th>\n",
       "      <th>Id_expedient</th>\n",
       "    </tr>\n",
       "  </thead>\n",
       "  <tbody>\n",
       "    <tr>\n",
       "      <th>0</th>\n",
       "      <td>34</td>\n",
       "      <td>A</td>\n",
       "      <td>Altres</td>\n",
       "      <td>Platejat</td>\n",
       "      <td>Dilluns</td>\n",
       "      <td>APRILIA</td>\n",
       "      <td>SCARABEO 125</td>\n",
       "      <td>Motocicleta</td>\n",
       "      <td>2013S003321</td>\n",
       "    </tr>\n",
       "    <tr>\n",
       "      <th>1</th>\n",
       "      <td>18</td>\n",
       "      <td>B</td>\n",
       "      <td>No és causa del  vianant</td>\n",
       "      <td>Negre</td>\n",
       "      <td>Dimecres</td>\n",
       "      <td>YAMAHA</td>\n",
       "      <td>CYGNUS 125</td>\n",
       "      <td>Motocicleta</td>\n",
       "      <td>2013S000550</td>\n",
       "    </tr>\n",
       "    <tr>\n",
       "      <th>2</th>\n",
       "      <td>21</td>\n",
       "      <td>B</td>\n",
       "      <td>No és causa del  vianant</td>\n",
       "      <td>Gris</td>\n",
       "      <td>Dimecres</td>\n",
       "      <td>BMW</td>\n",
       "      <td>320</td>\n",
       "      <td>Turismo</td>\n",
       "      <td>2013S000552</td>\n",
       "    </tr>\n",
       "    <tr>\n",
       "      <th>3</th>\n",
       "      <td>22</td>\n",
       "      <td>A</td>\n",
       "      <td>No és causa del  vianant</td>\n",
       "      <td>Negre</td>\n",
       "      <td>Dimecres</td>\n",
       "      <td>HONDA</td>\n",
       "      <td>SH 125</td>\n",
       "      <td>Motocicleta</td>\n",
       "      <td>2013S000555</td>\n",
       "    </tr>\n",
       "  </tbody>\n",
       "</table>\n",
       "</div>"
      ],
      "text/plain": [
       "  Antiguitat_carnet Descripcio_carnet  Descripcio_causa_vianant  \\\n",
       "0                34                 A                    Altres   \n",
       "1                18                 B  No és causa del  vianant   \n",
       "2                21                 B  No és causa del  vianant   \n",
       "3                22                 A  No és causa del  vianant   \n",
       "\n",
       "  Descripcio_color Descripcio_dia_setmana Descripcio_marca Descripcio_model  \\\n",
       "0         Platejat                Dilluns          APRILIA     SCARABEO 125   \n",
       "1            Negre               Dimecres           YAMAHA       CYGNUS 125   \n",
       "2             Gris               Dimecres              BMW              320   \n",
       "3            Negre               Dimecres            HONDA           SH 125   \n",
       "\n",
       "  Descripcio_tipus_vehicle Id_expedient  \n",
       "0              Motocicleta  2013S003321  \n",
       "1              Motocicleta  2013S000550  \n",
       "2                  Turismo  2013S000552  \n",
       "3              Motocicleta  2013S000555  "
      ]
     },
     "execution_count": 61,
     "metadata": {},
     "output_type": "execute_result"
    }
   ],
   "source": [
    "data_vehicles.head(4)"
   ]
  },
  {
   "cell_type": "code",
   "execution_count": 62,
   "metadata": {},
   "outputs": [
    {
     "data": {
      "text/plain": [
       "Antiguitat_carnet           object\n",
       "Descripcio_carnet           object\n",
       "Descripcio_causa_vianant    object\n",
       "Descripcio_color            object\n",
       "Descripcio_dia_setmana      object\n",
       "Descripcio_marca            object\n",
       "Descripcio_model            object\n",
       "Descripcio_tipus_vehicle    object\n",
       "Id_expedient                object\n",
       "dtype: object"
      ]
     },
     "execution_count": 62,
     "metadata": {},
     "output_type": "execute_result"
    }
   ],
   "source": [
    "data_vehicles.dtypes"
   ]
  },
  {
   "cell_type": "markdown",
   "metadata": {},
   "source": [
    "## Observando las variables\n",
    "#### Id_expedient\n",
    "Observando los 20 incidentes con el mayor número de vehículos implicados "
   ]
  },
  {
   "cell_type": "code",
   "execution_count": 63,
   "metadata": {},
   "outputs": [
    {
     "data": {
      "image/png": "[encoded data removed]",
      "text/plain": [
       "<Figure size 432x288 with 1 Axes>"
      ]
     },
     "metadata": {
      "needs_background": "light"
     },
     "output_type": "display_data"
    }
   ],
   "source": [
    "data_vehicles['Id_expedient'].value_counts().head(20).plot.barh()\n",
    "plt.show()"
   ]
  },
  {
   "cell_type": "markdown",
   "metadata": {},
   "source": [
    "#### Descripcio_tipus_vehicle"
   ]
  },
  {
   "cell_type": "code",
   "execution_count": 64,
   "metadata": {},
   "outputs": [
    {
     "data": {
      "image/png": "[encoded data removed]",
      "text/plain": [
       "<Figure size 432x288 with 1 Axes>"
      ]
     },
     "metadata": {
      "needs_background": "light"
     },
     "output_type": "display_data"
    }
   ],
   "source": [
    "data_vehicles['Descripcio_tipus_vehicle'].value_counts().head(10).plot.barh()\n",
    "plt.show()"
   ]
  },
  {
   "cell_type": "markdown",
   "metadata": {},
   "source": [
    "#### Descripcio_carnet"
   ]
  },
  {
   "cell_type": "code",
   "execution_count": 65,
   "metadata": {},
   "outputs": [
    {
     "data": {
      "image/png": "[encoded data removed]",
      "text/plain": [
       "<Figure size 360x504 with 1 Axes>"
      ]
     },
     "metadata": {
      "needs_background": "light"
     },
     "output_type": "display_data"
    }
   ],
   "source": [
    "data_vehicles['Descripcio_carnet'].value_counts().head(15).plot.barh(figsize=(5,7))\n",
    "plt.show()"
   ]
  },
  {
   "cell_type": "markdown",
   "metadata": {},
   "source": [
    "#### Descripcio_color"
   ]
  },
  {
   "cell_type": "code",
   "execution_count": 66,
   "metadata": {},
   "outputs": [
    {
     "data": {
      "image/png": "[encoded data removed]",
      "text/plain": [
       "<Figure size 360x504 with 1 Axes>"
      ]
     },
     "metadata": {
      "needs_background": "light"
     },
     "output_type": "display_data"
    }
   ],
   "source": [
    "data_vehicles['Descripcio_color'].value_counts().head(15).plot.barh(figsize=(5,7))\n",
    "plt.show()"
   ]
  },
  {
   "cell_type": "markdown",
   "metadata": {},
   "source": [
    "#### Descripcio_marca "
   ]
  },
  {
   "cell_type": "code",
   "execution_count": 67,
   "metadata": {},
   "outputs": [
    {
     "data": {
      "image/png": "[encoded data removed]",
      "text/plain": [
       "<Figure size 360x720 with 1 Axes>"
      ]
     },
     "metadata": {
      "needs_background": "light"
     },
     "output_type": "display_data"
    }
   ],
   "source": [
    "data_vehicles['Descripcio_marca'].value_counts().head(25).plot.barh(figsize=(5,10))\n",
    "plt.show()\n"
   ]
  },
  {
   "cell_type": "markdown",
   "metadata": {},
   "source": [
    "#### Descripcio_model"
   ]
  },
  {
   "cell_type": "code",
   "execution_count": 68,
   "metadata": {},
   "outputs": [
    {
     "data": {
      "image/png": "[encoded data removed]",
      "text/plain": [
       "<Figure size 432x288 with 1 Axes>"
      ]
     },
     "metadata": {
      "needs_background": "light"
     },
     "output_type": "display_data"
    }
   ],
   "source": [
    "data_vehicles['Descripcio_model'].value_counts().head(10).plot.barh()\n",
    "plt.show()"
   ]
  },
  {
   "cell_type": "markdown",
   "metadata": {},
   "source": [
    "#### Antiguitat carnet"
   ]
  },
  {
   "cell_type": "code",
   "execution_count": 69,
   "metadata": {},
   "outputs": [
    {
     "data": {
      "image/png": "[encoded data removed]",
      "text/plain": [
       "<Figure size 432x288 with 1 Axes>"
      ]
     },
     "metadata": {
      "needs_background": "light"
     },
     "output_type": "display_data"
    }
   ],
   "source": [
    "data_vehicles['Antiguitat_carnet'].value_counts().head(15).plot.barh()\n",
    "plt.show()"
   ]
  },
  {
   "cell_type": "markdown",
   "metadata": {},
   "source": [
    "Existen valores negativos, por lo que asumo que el valor correcto corresponde a su valor absoluto.<br>\n",
    "Por tanto, se procede a la transformación a valores positivos"
   ]
  },
  {
   "cell_type": "code",
   "execution_count": 70,
   "metadata": {},
   "outputs": [],
   "source": [
    "data_vehicles['Antiguitat_carnet']=data_vehicles['Antiguitat_carnet'].str.replace('-',\n",
    "                                                                                  '')"
   ]
  },
  {
   "cell_type": "code",
   "execution_count": 71,
   "metadata": {},
   "outputs": [
    {
     "data": {
      "image/png": "[encoded data removed]",
      "text/plain": [
       "<Figure size 432x288 with 1 Axes>"
      ]
     },
     "metadata": {
      "needs_background": "light"
     },
     "output_type": "display_data"
    }
   ],
   "source": [
    "data_vehicles['Antiguitat_carnet'].value_counts().head(15).plot.barh()\n",
    "plt.show()"
   ]
  },
  {
   "cell_type": "markdown",
   "metadata": {},
   "source": [
    "## 3. Vehículos\n",
    "Contiene los siguientes atributos:\n",
    "* Id_expedient\n",
    "* Descripcio_tipus_vehicle\n",
    "* Descripcio_carnet\n",
    "* Descripcio_color\n",
    "* Descripcio_marca\n",
    "* Descripcio_model\n",
    "* Antiguitat_carnet"
   ]
  },
  {
   "cell_type": "code",
   "execution_count": 72,
   "metadata": {},
   "outputs": [],
   "source": [
    "atributos_considerados=['Id_expedient','Descripcio_tipus_vehicle',\n",
    "                        'Descripcio_carnet','Descripcio_color',\n",
    "                        'Descripcio_marca','Descripcio_model',\n",
    "                        'Antiguitat_carnet']"
   ]
  },
  {
   "cell_type": "markdown",
   "metadata": {},
   "source": [
    "Creando el archivo csv llamado `vehiculos.csv`"
   ]
  },
  {
   "cell_type": "code",
   "execution_count": 73,
   "metadata": {},
   "outputs": [],
   "source": [
    "pd.DataFrame(data_vehicles, columns= atributos_considerados).to_csv('vehiculos.csv',\n",
    "                                                                    index=False,\n",
    "                                                                    encoding='Latin-1')"
   ]
  }
 ],
 "metadata": {
  "kernelspec": {
   "display_name": "Python 3",
   "language": "python",
   "name": "python3"
  },
  "language_info": {
   "codemirror_mode": {
    "name": "ipython",
    "version": 3
   },
   "file_extension": ".py",
   "mimetype": "text/x-python",
   "name": "python",
   "nbconvert_exporter": "python",
   "pygments_lexer": "ipython3",
   "version": "3.7.0"
  }
 },
 "nbformat": 4,
 "nbformat_minor": 2
}
