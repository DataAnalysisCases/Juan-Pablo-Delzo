{
 "cells": [
  {
   "cell_type": "markdown",
   "metadata": {},
   "source": [
    "<br><center style= \"font-family:Tahoma;font-size:2.9em;color:#8B5A2B;font-style:bold\"> Análisis del clima de Barcelona</center>\n"
   ]
  },
  {
   "cell_type": "code",
   "execution_count": null,
   "metadata": {},
   "outputs": [],
   "source": [
    "from IPython.display import Image, display\n",
    "display(Image(filename='C:/Users/juand/Documents/Python/aprendiz-data-science-master/images/Barcelona.png'))\n"
   ]
  },
  {
   "cell_type": "markdown",
   "metadata": {},
   "source": [
    "### Descarga de programas:"
   ]
  },
  {
   "cell_type": "code",
   "execution_count": null,
   "metadata": {},
   "outputs": [],
   "source": [
    "import pandas as pd\n",
    "import numpy as np\n",
    "import matplotlib.pyplot as plt "
   ]
  },
  {
   "cell_type": "markdown",
   "metadata": {},
   "source": [
    "### Descargando el archivo:"
   ]
  },
  {
   "cell_type": "code",
   "execution_count": null,
   "metadata": {},
   "outputs": [],
   "source": [
    "data = pd.read_csv('C:/Users/juand/Documents/Python/aprendiz-data-science-master/datasets/barcelona-weather/Barcelona-Weather.csv',parse_dates=['DATE'],low_memory= False)"
   ]
  },
  {
   "cell_type": "code",
   "execution_count": null,
   "metadata": {},
   "outputs": [],
   "source": [
    "#Viendo las primeras 10 filas del dataframe data:\n",
    "data.head(10)"
   ]
  },
  {
   "cell_type": "code",
   "execution_count": null,
   "metadata": {},
   "outputs": [],
   "source": [
    "#Observando la clase de datos por columna:\n",
    "data.dtypes"
   ]
  },
  {
   "cell_type": "code",
   "execution_count": null,
   "metadata": {},
   "outputs": [],
   "source": [
    "#Observando las dimensiones del dataframe:\n",
    "print(data.shape)\n",
    "#Quiero observar si existen valores nulos:\n",
    "data.isnull().any()"
   ]
  },
  {
   "cell_type": "markdown",
   "metadata": {},
   "source": [
    "Quiere decir que solo presentan al menos un valor nulo en las columnas: `PRCP`,`PRCP_ATTRIBUTES`,`SNWD`,`SNWD_ATTRIBUTES`,`TAVG`,`TAVG_ATTRIBUTES`,`TMAX`,`TMAX_ATTRIBUTES`,`TMIN`y<br>`TMIN_ATTRIBUTES` "
   ]
  },
  {
   "cell_type": "code",
   "execution_count": null,
   "metadata": {},
   "outputs": [],
   "source": [
    "#Quiero averiguar la cantidad de datos no nulos por columna:\n",
    "data.count()"
   ]
  },
  {
   "cell_type": "code",
   "execution_count": null,
   "metadata": {},
   "outputs": [],
   "source": [
    "#Conociendo el nombre de las columnas:\n",
    "data.columns"
   ]
  },
  {
   "cell_type": "code",
   "execution_count": null,
   "metadata": {},
   "outputs": [],
   "source": [
    "#Lista de las columnas a utilizar:\n",
    "features = ['NAME', 'DATE', 'PRCP', 'TMAX', 'TMIN']"
   ]
  },
  {
   "cell_type": "code",
   "execution_count": null,
   "metadata": {},
   "outputs": [],
   "source": [
    "df = data[features]"
   ]
  },
  {
   "cell_type": "code",
   "execution_count": null,
   "metadata": {},
   "outputs": [],
   "source": [
    "df.dtypes"
   ]
  },
  {
   "cell_type": "code",
   "execution_count": null,
   "metadata": {},
   "outputs": [],
   "source": [
    "df.head(10)"
   ]
  },
  {
   "cell_type": "code",
   "execution_count": null,
   "metadata": {},
   "outputs": [],
   "source": [
    "#Eliminando los valores nulos por filas:\n",
    "df= df.dropna(axis=0)"
   ]
  },
  {
   "cell_type": "code",
   "execution_count": null,
   "metadata": {},
   "outputs": [],
   "source": [
    "print(df.shape)\n",
    "df.head(10)\n"
   ]
  },
  {
   "cell_type": "code",
   "execution_count": null,
   "metadata": {},
   "outputs": [],
   "source": [
    "df=df[df['NAME']=='BARCELONA, SP']"
   ]
  },
  {
   "cell_type": "code",
   "execution_count": null,
   "metadata": {},
   "outputs": [],
   "source": [
    "df.head(10)"
   ]
  },
  {
   "cell_type": "markdown",
   "metadata": {},
   "source": [
    "## Graficando la precipitación historica:\n"
   ]
  },
  {
   "cell_type": "code",
   "execution_count": null,
   "metadata": {},
   "outputs": [],
   "source": [
    "plt.figure(figsize=(19,7))\n",
    "plt.plot(df.DATE, df.PRCP, color='skyblue')\n",
    "plt.style.use('ggplot')\n",
    "plt.xlabel('años')\n",
    "plt.ylabel('mm')\n",
    "plt.title('Precipitación diaria 1925-2018')\n",
    "plt.grid(True)\n",
    "plt.show()"
   ]
  },
  {
   "cell_type": "markdown",
   "metadata": {},
   "source": [
    "Quiero saber como se observa la precipitación máxima por mes y año."
   ]
  },
  {
   "cell_type": "code",
   "execution_count": null,
   "metadata": {},
   "outputs": [],
   "source": [
    "#Insertando las columnas de mes y año:\n",
    "df['mes']=df['DATE'].dt.month\n",
    "df['año']=df['DATE'].dt.year"
   ]
  },
  {
   "cell_type": "code",
   "execution_count": null,
   "metadata": {},
   "outputs": [],
   "source": [
    "#Chequeando los datos nuevos:\n",
    "df.dtypes"
   ]
  },
  {
   "cell_type": "code",
   "execution_count": null,
   "metadata": {},
   "outputs": [],
   "source": [
    "#Creando la lista de años que se registraron los datos:\n",
    "años= df['año'].unique().tolist()\n",
    "min(años)"
   ]
  },
  {
   "cell_type": "markdown",
   "metadata": {},
   "source": [
    "### Por mes:"
   ]
  },
  {
   "cell_type": "code",
   "execution_count": null,
   "metadata": {},
   "outputs": [],
   "source": [
    "for año in años:\n",
    "    for mes in range(1,13):\n",
    "        tabla = df[df['mes'].isin([mes]) & df['año'].isin([año])]\n",
    "        dato= tabla[tabla['PRCP']== tabla['PRCP'].max()]\n",
    "        if año == 1926 and mes == 1:\n",
    "            pm = dato\n",
    "        else:    \n",
    "            pm =pd.concat([pm,dato],ignore_index=True)                "
   ]
  },
  {
   "cell_type": "code",
   "execution_count": null,
   "metadata": {},
   "outputs": [],
   "source": [
    "print(pm.head(15))\n",
    "print(pm.dtypes)"
   ]
  },
  {
   "cell_type": "code",
   "execution_count": null,
   "metadata": {},
   "outputs": [],
   "source": [
    "plt.figure(figsize=(19,7))\n",
    "plt.plot(pm.DATE, pm.PRCP, color='blue')\n",
    "plt.style.use('ggplot')\n",
    "plt.xlabel('años')\n",
    "plt.ylabel('mm')\n",
    "plt.title('Precipitación máxima diaria por mes 1925-2018')\n",
    "plt.grid(True)\n",
    "plt.show()"
   ]
  },
  {
   "cell_type": "markdown",
   "metadata": {},
   "source": [
    "### Por año:"
   ]
  },
  {
   "cell_type": "code",
   "execution_count": null,
   "metadata": {},
   "outputs": [],
   "source": [
    "for año in años:\n",
    "    tabla = df[df['año']== año]\n",
    "    dato= tabla[tabla['PRCP']== tabla['PRCP'].max()]\n",
    "    if año == 1926:\n",
    "        pa = dato\n",
    "    else:    \n",
    "        pa =pd.concat([pa,dato],ignore_index=True)                "
   ]
  },
  {
   "cell_type": "code",
   "execution_count": null,
   "metadata": {},
   "outputs": [],
   "source": [
    "print(pa.head(15))\n",
    "print(pa.dtypes)"
   ]
  },
  {
   "cell_type": "code",
   "execution_count": null,
   "metadata": {},
   "outputs": [],
   "source": [
    "plt.figure(figsize=(19,7))\n",
    "plt.plot(pm.año, pm.PRCP, color='orange')\n",
    "plt.style.use('ggplot')\n",
    "plt.xlabel('años')\n",
    "plt.ylabel('mm')\n",
    "plt.title('Precipitación máxima diaria por mes 1925-2018')\n",
    "plt.grid(True)\n",
    "plt.show()"
   ]
  },
  {
   "cell_type": "markdown",
   "metadata": {},
   "source": [
    "### Graficando las temperatura máxima y mínima histórica en barcelona:"
   ]
  },
  {
   "cell_type": "code",
   "execution_count": null,
   "metadata": {},
   "outputs": [],
   "source": [
    "plt.figure(figsize=(19,7))\n",
    "plt.plot(df.DATE, df.TMAX, color='lightgreen',label= 'Tmax')\n",
    "plt.plot(df.DATE, df.TMIN, color='lightseagreen',label= 'Tmin')\n",
    "plt.style.use('ggplot')\n",
    "plt.xlabel('años')\n",
    "plt.ylabel('tº')\n",
    "plt.title('Temperaturas máximas y mínimas diaria 1925-2018')\n",
    "plt.legend(loc='lower right') \n",
    "plt.grid(True)\n",
    "plt.show()"
   ]
  }
 ],
 "metadata": {
  "kernelspec": {
   "display_name": "Python 3",
   "language": "python",
   "name": "python3"
  },
  "language_info": {
   "codemirror_mode": {
    "name": "ipython",
    "version": 3
   },
   "file_extension": ".py",
   "mimetype": "text/x-python",
   "name": "python",
   "nbconvert_exporter": "python",
   "pygments_lexer": "ipython3",
   "version": "3.6.5"
  }
 },
 "nbformat": 4,
 "nbformat_minor": 2
}
