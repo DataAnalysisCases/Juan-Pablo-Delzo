{
 "cells": [
  {
   "cell_type": "markdown",
   "metadata": {},
   "source": [
    "\n",
    "# Leo Messi: his performance through data\n",
    "<br>\n",
    "Done in $R$\n",
    "\n",
    "![](https://encrypted-tbn0.gstatic.com/images?q=tbn:ANd9GcQ-jX55VOeKSuZpDdHrXAlbcaVC6MgyVZpiAMwTsUsEsIqcAfhc&s)"
   ]
  },
  {
   "cell_type": "code",
   "execution_count": 1,
   "metadata": {},
   "outputs": [
    {
     "data": {
      "text/html": [
       "<table>\n",
       "<thead><tr><th scope=col>Date</th><th scope=col>Competition.Name</th><th scope=col>Home.team</th><th scope=col>Opponent</th><th scope=col>Away.team</th><th scope=col>Minute</th><th scope=col>Score.Home.Team...When.Messi.Scored</th><th scope=col>Score.Away.Team...When.Messi.Scored</th><th scope=col>Goal.Type</th><th scope=col>Goal.Method</th><th scope=col>Final.Game.Result</th></tr></thead>\n",
       "<tbody>\n",
       "\t<tr><td>samedi 16 février 2019    </td><td>Liga                      </td><td>FC Barcelona              </td><td>Real Valladolid           </td><td>Real Valladolid           </td><td>43                        </td><td>1                         </td><td>0                         </td><td>Penalty                   </td><td>Left foot                 </td><td>Won                       </td></tr>\n",
       "\t<tr><td>dimanche 13 janvier 2019  </td><td>Liga                      </td><td>FC Barcelona              </td><td>Eibar                     </td><td>Eibar                     </td><td>53                        </td><td>2                         </td><td>0                         </td><td>Field goal                </td><td>Left foot                 </td><td>Won                       </td></tr>\n",
       "\t<tr><td>samedi 22 décembre 2018   </td><td>Liga                      </td><td>FC Barcelona              </td><td>Celta de Vigo             </td><td>Celta de Vigo             </td><td>45                        </td><td>2                         </td><td>0                         </td><td>Field goal                </td><td>Left foot                 </td><td>Won                       </td></tr>\n",
       "\t<tr><td>samedi 20 octobre 2018    </td><td>Liga                      </td><td>FC Barcelona              </td><td>Sevilla                   </td><td>Sevilla                   </td><td>12                        </td><td>2                         </td><td>0                         </td><td>Field goal                </td><td>Left foot                 </td><td>Won                       </td></tr>\n",
       "\t<tr><td>dimanche 23 septembre 2018</td><td>Liga                      </td><td>FC Barcelona              </td><td>Girona                    </td><td>Girona                    </td><td>19                        </td><td>1                         </td><td>0                         </td><td>Field goal                </td><td>Left foot                 </td><td>Draw                      </td></tr>\n",
       "\t<tr><td>samedi 18 août 2018       </td><td>Liga                      </td><td>FC Barcelona              </td><td>Alavés                    </td><td>Alavés                    </td><td>90+2                      </td><td>3                         </td><td>0                         </td><td>Field goal                </td><td>Left foot                 </td><td>Won                       </td></tr>\n",
       "</tbody>\n",
       "</table>\n"
      ],
      "text/latex": [
       "\\begin{tabular}{r|lllllllllll}\n",
       " Date & Competition.Name & Home.team & Opponent & Away.team & Minute & Score.Home.Team...When.Messi.Scored & Score.Away.Team...When.Messi.Scored & Goal.Type & Goal.Method & Final.Game.Result\\\\\n",
       "\\hline\n",
       "\t samedi 16 février 2019     & Liga                       & FC Barcelona               & Real Valladolid            & Real Valladolid            & 43                         & 1                          & 0                          & Penalty                    & Left foot                  & Won                       \\\\\n",
       "\t dimanche 13 janvier 2019   & Liga                       & FC Barcelona               & Eibar                      & Eibar                      & 53                         & 2                          & 0                          & Field goal                 & Left foot                  & Won                       \\\\\n",
       "\t samedi 22 décembre 2018    & Liga                       & FC Barcelona               & Celta de Vigo              & Celta de Vigo              & 45                         & 2                          & 0                          & Field goal                 & Left foot                  & Won                       \\\\\n",
       "\t samedi 20 octobre 2018     & Liga                       & FC Barcelona               & Sevilla                    & Sevilla                    & 12                         & 2                          & 0                          & Field goal                 & Left foot                  & Won                       \\\\\n",
       "\t dimanche 23 septembre 2018 & Liga                       & FC Barcelona               & Girona                     & Girona                     & 19                         & 1                          & 0                          & Field goal                 & Left foot                  & Draw                      \\\\\n",
       "\t samedi 18 août 2018        & Liga                       & FC Barcelona               & Alavés                     & Alavés                     & 90+2                       & 3                          & 0                          & Field goal                 & Left foot                  & Won                       \\\\\n",
       "\\end{tabular}\n"
      ],
      "text/markdown": [
       "\n",
       "Date | Competition.Name | Home.team | Opponent | Away.team | Minute | Score.Home.Team...When.Messi.Scored | Score.Away.Team...When.Messi.Scored | Goal.Type | Goal.Method | Final.Game.Result | \n",
       "|---|---|---|---|---|---|\n",
       "| samedi 16 février 2019     | Liga                       | FC Barcelona               | Real Valladolid            | Real Valladolid            | 43                         | 1                          | 0                          | Penalty                    | Left foot                  | Won                        | \n",
       "| dimanche 13 janvier 2019   | Liga                       | FC Barcelona               | Eibar                      | Eibar                      | 53                         | 2                          | 0                          | Field goal                 | Left foot                  | Won                        | \n",
       "| samedi 22 décembre 2018    | Liga                       | FC Barcelona               | Celta de Vigo              | Celta de Vigo              | 45                         | 2                          | 0                          | Field goal                 | Left foot                  | Won                        | \n",
       "| samedi 20 octobre 2018     | Liga                       | FC Barcelona               | Sevilla                    | Sevilla                    | 12                         | 2                          | 0                          | Field goal                 | Left foot                  | Won                        | \n",
       "| dimanche 23 septembre 2018 | Liga                       | FC Barcelona               | Girona                     | Girona                     | 19                         | 1                          | 0                          | Field goal                 | Left foot                  | Draw                       | \n",
       "| samedi 18 août 2018        | Liga                       | FC Barcelona               | Alavés                     | Alavés                     | 90+2                       | 3                          | 0                          | Field goal                 | Left foot                  | Won                        | \n",
       "\n",
       "\n"
      ],
      "text/plain": [
       "  Date                       Competition.Name Home.team    Opponent       \n",
       "1 samedi 16 février 2019     Liga             FC Barcelona Real Valladolid\n",
       "2 dimanche 13 janvier 2019   Liga             FC Barcelona Eibar          \n",
       "3 samedi 22 décembre 2018    Liga             FC Barcelona Celta de Vigo  \n",
       "4 samedi 20 octobre 2018     Liga             FC Barcelona Sevilla        \n",
       "5 dimanche 23 septembre 2018 Liga             FC Barcelona Girona         \n",
       "6 samedi 18 août 2018        Liga             FC Barcelona Alavés         \n",
       "  Away.team       Minute Score.Home.Team...When.Messi.Scored\n",
       "1 Real Valladolid 43     1                                  \n",
       "2 Eibar           53     2                                  \n",
       "3 Celta de Vigo   45     2                                  \n",
       "4 Sevilla         12     2                                  \n",
       "5 Girona          19     1                                  \n",
       "6 Alavés          90+2   3                                  \n",
       "  Score.Away.Team...When.Messi.Scored Goal.Type  Goal.Method Final.Game.Result\n",
       "1 0                                   Penalty    Left foot   Won              \n",
       "2 0                                   Field goal Left foot   Won              \n",
       "3 0                                   Field goal Left foot   Won              \n",
       "4 0                                   Field goal Left foot   Won              \n",
       "5 0                                   Field goal Left foot   Draw             \n",
       "6 0                                   Field goal Left foot   Won              "
      ]
     },
     "metadata": {},
     "output_type": "display_data"
    }
   ],
   "source": [
    "data = read.csv('Lionel Messi Goals.csv',sep=';',stringsAsFactors = FALSE,na.strings = \"\")\n",
    "head(data)"
   ]
  },
  {
   "cell_type": "code",
   "execution_count": 2,
   "metadata": {},
   "outputs": [
    {
     "name": "stdout",
     "output_type": "stream",
     "text": [
      "'data.frame':\t651 obs. of  11 variables:\n",
      " $ Date                               : chr  \"samedi 16 février 2019\" \"dimanche 13 janvier 2019\" \"samedi 22 décembre 2018\" \"samedi 20 octobre 2018\" ...\n",
      " $ Competition.Name                   : chr  \"Liga\" \"Liga\" \"Liga\" \"Liga\" ...\n",
      " $ Home.team                          : chr  \"FC Barcelona\" \"FC Barcelona\" \"FC Barcelona\" \"FC Barcelona\" ...\n",
      " $ Opponent                           : chr  \"Real Valladolid\" \"Eibar\" \"Celta de Vigo\" \"Sevilla\" ...\n",
      " $ Away.team                          : chr  \"Real Valladolid\" \"Eibar\" \"Celta de Vigo\" \"Sevilla\" ...\n",
      " $ Minute                             : chr  \"43\" \"53\" \"45\" \"12\" ...\n",
      " $ Score.Home.Team...When.Messi.Scored: int  1 2 2 2 1 3 1 3 2 1 ...\n",
      " $ Score.Away.Team...When.Messi.Scored: int  0 0 0 0 0 0 0 0 0 0 ...\n",
      " $ Goal.Type                          : chr  \"Penalty\" \"Field goal\" \"Field goal\" \"Field goal\" ...\n",
      " $ Goal.Method                        : chr  \"Left foot\" \"Left foot\" \"Left foot\" \"Left foot\" ...\n",
      " $ Final.Game.Result                  : chr  \"Won\" \"Won\" \"Won\" \"Won\" ...\n"
     ]
    }
   ],
   "source": [
    "str(data)"
   ]
  },
  {
   "cell_type": "markdown",
   "metadata": {},
   "source": [
    "Number of instances and attributes:"
   ]
  },
  {
   "cell_type": "code",
   "execution_count": 3,
   "metadata": {},
   "outputs": [
    {
     "data": {
      "text/html": [
       "<ol class=list-inline>\n",
       "\t<li>651</li>\n",
       "\t<li>11</li>\n",
       "</ol>\n"
      ],
      "text/latex": [
       "\\begin{enumerate*}\n",
       "\\item 651\n",
       "\\item 11\n",
       "\\end{enumerate*}\n"
      ],
      "text/markdown": [
       "1. 651\n",
       "2. 11\n",
       "\n",
       "\n"
      ],
      "text/plain": [
       "[1] 651  11"
      ]
     },
     "metadata": {},
     "output_type": "display_data"
    }
   ],
   "source": [
    "dim(data)"
   ]
  },
  {
   "cell_type": "code",
   "execution_count": 4,
   "metadata": {},
   "outputs": [
    {
     "data": {
      "text/html": [
       "<ol class=list-inline>\n",
       "\t<li>'Date'</li>\n",
       "\t<li>'Competition.Name'</li>\n",
       "\t<li>'Home.team'</li>\n",
       "\t<li>'Opponent'</li>\n",
       "\t<li>'Away.team'</li>\n",
       "\t<li>'Minute'</li>\n",
       "\t<li>'Score.Home.Team'</li>\n",
       "\t<li>'Score.Away.Team'</li>\n",
       "\t<li>'Goal.Type'</li>\n",
       "\t<li>'Goal.Method'</li>\n",
       "\t<li>'Final.Game.Result'</li>\n",
       "</ol>\n"
      ],
      "text/latex": [
       "\\begin{enumerate*}\n",
       "\\item 'Date'\n",
       "\\item 'Competition.Name'\n",
       "\\item 'Home.team'\n",
       "\\item 'Opponent'\n",
       "\\item 'Away.team'\n",
       "\\item 'Minute'\n",
       "\\item 'Score.Home.Team'\n",
       "\\item 'Score.Away.Team'\n",
       "\\item 'Goal.Type'\n",
       "\\item 'Goal.Method'\n",
       "\\item 'Final.Game.Result'\n",
       "\\end{enumerate*}\n"
      ],
      "text/markdown": [
       "1. 'Date'\n",
       "2. 'Competition.Name'\n",
       "3. 'Home.team'\n",
       "4. 'Opponent'\n",
       "5. 'Away.team'\n",
       "6. 'Minute'\n",
       "7. 'Score.Home.Team'\n",
       "8. 'Score.Away.Team'\n",
       "9. 'Goal.Type'\n",
       "10. 'Goal.Method'\n",
       "11. 'Final.Game.Result'\n",
       "\n",
       "\n"
      ],
      "text/plain": [
       " [1] \"Date\"              \"Competition.Name\"  \"Home.team\"        \n",
       " [4] \"Opponent\"          \"Away.team\"         \"Minute\"           \n",
       " [7] \"Score.Home.Team\"   \"Score.Away.Team\"   \"Goal.Type\"        \n",
       "[10] \"Goal.Method\"       \"Final.Game.Result\""
      ]
     },
     "metadata": {},
     "output_type": "display_data"
    }
   ],
   "source": [
    "colnames(data)[7:8] <- c('Score.Home.Team','Score.Away.Team')\n",
    "colnames(data)"
   ]
  },
  {
   "cell_type": "markdown",
   "metadata": {},
   "source": [
    "Inquiring whether there are NA values:"
   ]
  },
  {
   "cell_type": "code",
   "execution_count": 5,
   "metadata": {},
   "outputs": [
    {
     "name": "stdout",
     "output_type": "stream",
     "text": [
      "[1] \"Date : FALSE\"\n",
      "[1] \"Competition.Name : TRUE\"\n",
      "[1] \"Home.team : FALSE\"\n",
      "[1] \"Opponent : FALSE\"\n",
      "[1] \"Away.team : FALSE\"\n",
      "[1] \"Minute : FALSE\"\n",
      "[1] \"Score.Home.Team : FALSE\"\n",
      "[1] \"Score.Away.Team : FALSE\"\n",
      "[1] \"Goal.Type : TRUE\"\n",
      "[1] \"Goal.Method : FALSE\"\n",
      "[1] \"Final.Game.Result : FALSE\"\n"
     ]
    }
   ],
   "source": [
    "attrs <- colnames(data)\n",
    "for(attr in attrs) { sentence <-any(is.na(data[attr]))\n",
    "                     print(paste(attr,':',sentence))}"
   ]
  },
  {
   "cell_type": "markdown",
   "metadata": {},
   "source": [
    "Selecting day of the week, number of day, month and year:"
   ]
  },
  {
   "cell_type": "code",
   "execution_count": 6,
   "metadata": {},
   "outputs": [],
   "source": [
    "library(stringr)"
   ]
  },
  {
   "cell_type": "code",
   "execution_count": 7,
   "metadata": {},
   "outputs": [],
   "source": [
    "data$Date<- str_split(data$Date,' ')"
   ]
  },
  {
   "cell_type": "code",
   "execution_count": 8,
   "metadata": {},
   "outputs": [],
   "source": [
    "day <- list()\n",
    "n_day <- list()\n",
    "month <- list()\n",
    "year <- list()\n",
    "for(index in 1:dim(data)[1]){day[index] <- data$Date[[index]][1]\n",
    "                             n_day[index] <- data$Date[[index]][2] \n",
    "                             month[index] <- data$Date[[index]][3]\n",
    "                             year[index] <- data$Date[[index]][4]}\n",
    "data$day <- unlist(day)\n",
    "data$n_day <- unlist(n_day)\n",
    "data$month <- unlist(month)\n",
    "data$year <- unlist(year)"
   ]
  },
  {
   "cell_type": "code",
   "execution_count": 9,
   "metadata": {},
   "outputs": [],
   "source": [
    "data$Date <- NULL"
   ]
  },
  {
   "cell_type": "markdown",
   "metadata": {},
   "source": [
    "Translating *days* and *months* into English"
   ]
  },
  {
   "cell_type": "code",
   "execution_count": 10,
   "metadata": {},
   "outputs": [],
   "source": [
    "unique_days <-unique(data$day)\n",
    "unique_months <-unique(data$month)\n",
    "days <- c('Saturday','Sunday','Wednesday','Thuesday','Monday','Thursday','Friday')\n",
    "month <- c('February','January','December','October','September','August','May',\n",
    "           'April','March','November','June','July')\n",
    "for(index in 1:dim(data)[1]){index_day <- which(data$day[index]==unique_days)\n",
    "                             data$day[index] <- days[index_day]\n",
    "                             index_month <- which(data$month[index]==unique_months)\n",
    "                             data$month[index]<- month[index_month]}"
   ]
  },
  {
   "cell_type": "markdown",
   "metadata": {},
   "source": [
    "Editing additional minutes "
   ]
  },
  {
   "cell_type": "code",
   "execution_count": 11,
   "metadata": {},
   "outputs": [],
   "source": [
    "indexes_plus <-str_which(data$Minute,'[+]')\n",
    "minutes_edited <- str_split(data$Minute[indexes_plus],'[+]')\n",
    "for(i in 1:length(minutes_edited)){min <- as.numeric(minutes_edited[[i]][1])\n",
    "                                   add <- as.numeric(minutes_edited[[i]][2])\n",
    "                                   minutes_edited[i] <- min + add}\n",
    "minutes_edited <- unlist(minutes_edited)"
   ]
  },
  {
   "cell_type": "code",
   "execution_count": 12,
   "metadata": {},
   "outputs": [],
   "source": [
    "data$Minute[indexes_plus]<- minutes_edited\n",
    "data$Minute <- as.numeric(data$Minute)"
   ]
  },
  {
   "cell_type": "code",
   "execution_count": 13,
   "metadata": {
    "scrolled": false
   },
   "outputs": [
    {
     "data": {
      "text/html": [
       "<table>\n",
       "<thead><tr><th scope=col>Competition.Name</th><th scope=col>Home.team</th><th scope=col>Opponent</th><th scope=col>Away.team</th><th scope=col>Minute</th><th scope=col>Score.Home.Team</th><th scope=col>Score.Away.Team</th><th scope=col>Goal.Type</th><th scope=col>Goal.Method</th><th scope=col>Final.Game.Result</th><th scope=col>day</th><th scope=col>n_day</th><th scope=col>month</th><th scope=col>year</th></tr></thead>\n",
       "<tbody>\n",
       "\t<tr><td>Liga           </td><td>FC Barcelona   </td><td>Real Valladolid</td><td>Real Valladolid</td><td>43             </td><td>1              </td><td>0              </td><td>Penalty        </td><td>Left foot      </td><td>Won            </td><td>Saturday       </td><td>16             </td><td>February       </td><td>2019           </td></tr>\n",
       "\t<tr><td>Liga           </td><td>FC Barcelona   </td><td>Eibar          </td><td>Eibar          </td><td>53             </td><td>2              </td><td>0              </td><td>Field goal     </td><td>Left foot      </td><td>Won            </td><td>Sunday         </td><td>13             </td><td>January        </td><td>2019           </td></tr>\n",
       "\t<tr><td>Liga           </td><td>FC Barcelona   </td><td>Celta de Vigo  </td><td>Celta de Vigo  </td><td>45             </td><td>2              </td><td>0              </td><td>Field goal     </td><td>Left foot      </td><td>Won            </td><td>Saturday       </td><td>22             </td><td>December       </td><td>2018           </td></tr>\n",
       "\t<tr><td>Liga           </td><td>FC Barcelona   </td><td>Sevilla        </td><td>Sevilla        </td><td>12             </td><td>2              </td><td>0              </td><td>Field goal     </td><td>Left foot      </td><td>Won            </td><td>Saturday       </td><td>20             </td><td>October        </td><td>2018           </td></tr>\n",
       "\t<tr><td>Liga           </td><td>FC Barcelona   </td><td>Girona         </td><td>Girona         </td><td>19             </td><td>1              </td><td>0              </td><td>Field goal     </td><td>Left foot      </td><td>Draw           </td><td>Sunday         </td><td>23             </td><td>September      </td><td>2018           </td></tr>\n",
       "\t<tr><td>Liga           </td><td>FC Barcelona   </td><td>Alavés         </td><td>Alavés         </td><td>92             </td><td>3              </td><td>0              </td><td>Field goal     </td><td>Left foot      </td><td>Won            </td><td>Saturday       </td><td>18             </td><td>August         </td><td>2018           </td></tr>\n",
       "</tbody>\n",
       "</table>\n"
      ],
      "text/latex": [
       "\\begin{tabular}{r|llllllllllllll}\n",
       " Competition.Name & Home.team & Opponent & Away.team & Minute & Score.Home.Team & Score.Away.Team & Goal.Type & Goal.Method & Final.Game.Result & day & n\\_day & month & year\\\\\n",
       "\\hline\n",
       "\t Liga            & FC Barcelona    & Real Valladolid & Real Valladolid & 43              & 1               & 0               & Penalty         & Left foot       & Won             & Saturday        & 16              & February        & 2019           \\\\\n",
       "\t Liga            & FC Barcelona    & Eibar           & Eibar           & 53              & 2               & 0               & Field goal      & Left foot       & Won             & Sunday          & 13              & January         & 2019           \\\\\n",
       "\t Liga            & FC Barcelona    & Celta de Vigo   & Celta de Vigo   & 45              & 2               & 0               & Field goal      & Left foot       & Won             & Saturday        & 22              & December        & 2018           \\\\\n",
       "\t Liga            & FC Barcelona    & Sevilla         & Sevilla         & 12              & 2               & 0               & Field goal      & Left foot       & Won             & Saturday        & 20              & October         & 2018           \\\\\n",
       "\t Liga            & FC Barcelona    & Girona          & Girona          & 19              & 1               & 0               & Field goal      & Left foot       & Draw            & Sunday          & 23              & September       & 2018           \\\\\n",
       "\t Liga            & FC Barcelona    & Alavés          & Alavés          & 92              & 3               & 0               & Field goal      & Left foot       & Won             & Saturday        & 18              & August          & 2018           \\\\\n",
       "\\end{tabular}\n"
      ],
      "text/markdown": [
       "\n",
       "Competition.Name | Home.team | Opponent | Away.team | Minute | Score.Home.Team | Score.Away.Team | Goal.Type | Goal.Method | Final.Game.Result | day | n_day | month | year | \n",
       "|---|---|---|---|---|---|\n",
       "| Liga            | FC Barcelona    | Real Valladolid | Real Valladolid | 43              | 1               | 0               | Penalty         | Left foot       | Won             | Saturday        | 16              | February        | 2019            | \n",
       "| Liga            | FC Barcelona    | Eibar           | Eibar           | 53              | 2               | 0               | Field goal      | Left foot       | Won             | Sunday          | 13              | January         | 2019            | \n",
       "| Liga            | FC Barcelona    | Celta de Vigo   | Celta de Vigo   | 45              | 2               | 0               | Field goal      | Left foot       | Won             | Saturday        | 22              | December        | 2018            | \n",
       "| Liga            | FC Barcelona    | Sevilla         | Sevilla         | 12              | 2               | 0               | Field goal      | Left foot       | Won             | Saturday        | 20              | October         | 2018            | \n",
       "| Liga            | FC Barcelona    | Girona          | Girona          | 19              | 1               | 0               | Field goal      | Left foot       | Draw            | Sunday          | 23              | September       | 2018            | \n",
       "| Liga            | FC Barcelona    | Alavés          | Alavés          | 92              | 3               | 0               | Field goal      | Left foot       | Won             | Saturday        | 18              | August          | 2018            | \n",
       "\n",
       "\n"
      ],
      "text/plain": [
       "  Competition.Name Home.team    Opponent        Away.team       Minute\n",
       "1 Liga             FC Barcelona Real Valladolid Real Valladolid 43    \n",
       "2 Liga             FC Barcelona Eibar           Eibar           53    \n",
       "3 Liga             FC Barcelona Celta de Vigo   Celta de Vigo   45    \n",
       "4 Liga             FC Barcelona Sevilla         Sevilla         12    \n",
       "5 Liga             FC Barcelona Girona          Girona          19    \n",
       "6 Liga             FC Barcelona Alavés          Alavés          92    \n",
       "  Score.Home.Team Score.Away.Team Goal.Type  Goal.Method Final.Game.Result\n",
       "1 1               0               Penalty    Left foot   Won              \n",
       "2 2               0               Field goal Left foot   Won              \n",
       "3 2               0               Field goal Left foot   Won              \n",
       "4 2               0               Field goal Left foot   Won              \n",
       "5 1               0               Field goal Left foot   Draw             \n",
       "6 3               0               Field goal Left foot   Won              \n",
       "  day      n_day month     year\n",
       "1 Saturday 16    February  2019\n",
       "2 Sunday   13    January   2019\n",
       "3 Saturday 22    December  2018\n",
       "4 Saturday 20    October   2018\n",
       "5 Sunday   23    September 2018\n",
       "6 Saturday 18    August    2018"
      ]
     },
     "metadata": {},
     "output_type": "display_data"
    }
   ],
   "source": [
    "head(data)"
   ]
  },
  {
   "cell_type": "markdown",
   "metadata": {},
   "source": [
    "Packages:"
   ]
  },
  {
   "cell_type": "code",
   "execution_count": 15,
   "metadata": {},
   "outputs": [],
   "source": [
    "library(dplyr)\n",
    "library(ggplot2)\n",
    "library(ggthemes)\n",
    "library(extrafont)\n",
    "library(party)"
   ]
  },
  {
   "cell_type": "markdown",
   "metadata": {},
   "source": [
    "# Goals by competition"
   ]
  },
  {
   "cell_type": "code",
   "execution_count": 16,
   "metadata": {},
   "outputs": [],
   "source": [
    "competition<-table(data$Competition.Name,exclude = NULL)\n",
    "rownames(competition)[5] <- 'Unknown'\n",
    "df_competition <- data.frame(competition)\n",
    "colnames(df_competition) <- c('Competition','Goals')\n",
    "df_competition = arrange(df_competition,desc(Competition))\n",
    "df_competition$porcentage <- round(df_competition$Goals*100/sum(df_competition$Goals))\n",
    "df_competition$position = cumsum(df_competition$porcentage) - df_competition$porcentage/2\n",
    "df_competition$label <- paste(df_competition$porcentage,\"%\")"
   ]
  },
  {
   "cell_type": "code",
   "execution_count": 17,
   "metadata": {},
   "outputs": [
    {
     "data": {},
     "metadata": {},
     "output_type": "display_data"
    },
    {
     "data": {
      "image/png": "[encoded data removed]",
      "text/plain": [
       "plot without title"
      ]
     },
     "metadata": {},
     "output_type": "display_data"
    }
   ],
   "source": [
    "ggplot(df_competition) + geom_bar(aes(x=\"\",y=porcentage,fill=Competition),\n",
    "                                  col='white',stat = \"identity\") +\n",
    "coord_polar(theta=\"y\",start=0) + theme_void() + ggtitle('Goals by competition') + \n",
    "theme(plot.title= element_text(hjust = 0.5,face = 'bold',family='Segoe Script'),\n",
    "     text=element_text(size=15,family='MV Boli')) +\n",
    "geom_text(aes(x=1.53,y = position , label = label), col='black',size=3.5,\n",
    "          fontface =2,family='Calibri') +\n",
    "geom_segment(aes(x = 1.445, y = position, xend = 1.47, yend = position))+\n",
    "scale_fill_brewer(palette=\"Set1\")"
   ]
  },
  {
   "cell_type": "markdown",
   "metadata": {},
   "source": [
    "# Goals by years"
   ]
  },
  {
   "cell_type": "code",
   "execution_count": 18,
   "metadata": {},
   "outputs": [],
   "source": [
    "years <- table(data$year)\n",
    "df_years <- data.frame(years)\n",
    "colnames(df_years) <- c('Year','Goals')"
   ]
  },
  {
   "cell_type": "code",
   "execution_count": 19,
   "metadata": {},
   "outputs": [
    {
     "data": {},
     "metadata": {},
     "output_type": "display_data"
    },
    {
     "data": {
      "image/png": "[encoded data removed]",
      "text/plain": [
       "plot without title"
      ]
     },
     "metadata": {},
     "output_type": "display_data"
    }
   ],
   "source": [
    "ggplot(df_years) + geom_bar(aes(x=Year,y=Goals),stat = 'identity',\n",
    "                            fill= 'deepskyblue',col='dodgerblue4') +\n",
    "theme(plot.title= element_text(hjust = 0.5,face = 'bold',family = 'Segoe Script'),\n",
    "      plot.margin = margin(0,0,0,0, \"cm\")) +\n",
    "ggtitle('Goals by year') + theme_hc()"
   ]
  },
  {
   "cell_type": "markdown",
   "metadata": {},
   "source": [
    "- Messi has had a hight performance since 2009\n",
    "- The top of his tops is in 2012"
   ]
  },
  {
   "cell_type": "markdown",
   "metadata": {},
   "source": [
    "# Performance in La Liga\n",
    "![](data:image/png;base64,iVBORw0KGgoAAAANSUhEUgAAAQQAAADCCAMAAACYEEwlAAACB1BMVEX///8AAAABAQEtUqDlJSDvfR1DhMQgpjeTHID+5gj8/Pz///78/////f8FBQVsbGz09PQfHx/Pz8/BwcH///r/+v+RkZGwsLAxMTFVVVWcnJzd3d1MTEz3//////Xp6emnp6eCgoLv7++4uLgtUaXW1tb/9f+SHX7hJyM9PT3rfiLwfBxNTU15eXltbW1DQ0MqVJvsIiD/99///+1hYWEpKSkSEhKVlZX//+NDhcL/8P/2//j/+e+NH4H3exQjQYxGgsro//D//9sipDn//8/66QDw3u/UsdCtcqOKQ33pwea9hLiMQ4d6HWuBDGqfZprEnL11AGifFoeLKXKuZZ+UF4qJIIP56t/Sko3Lcm3RXlrKS0jGOTnSKCrSODfklo/tsan1zcTgst1+MnWvIx/WW1bDHRfkzOXBR0C/ZVttGmjHNT/kpp/ej4bgDCPVWmaXNYr32tDZpJ7vybqdZotIWn+DmbDc7PjJmckpRYQ9Vo2Zq8vEqnLu06Lnklusv9OvEADbmlPbejJfbp742bh3ha7orJ3oo3bjsYPXgQhpHVfywMTZgpH9dhfQ3O/tvZbQgzwgOHVQZ6VulMZGep+h0tpVlLmOts/u73Hz9Y77+bP84zf36l368qGmw+aKssSg0qdgq24UjSyKz53T9Ndwt39EmEr530Wm4K677czD88ugxJ9Jrl/CahvCAAAWtUlEQVR4nO1di18UV5a+xStYdatp4BYCbVXzlJfIo3k1zdNn1EiiiRqjxDjJ6s5uMrPObtJBxmVE3ZjNDjqrqyKajYBG3fyRe869tx5dXY0wRE3zq0+Bprqr6t6vzvnOox4QEiJEiBAhQoQIESJEiBAhQoQIESJEiBAhQoQIESJEiBAhQoQIESJEiBAhQoQIESJEiBAhQuQDNP6N2a+IocsXmkYo4K0N7A0Cpq8bOrMY0KDvPHDw3UMH9ZSuAxOMUWqalKgaUqG/7YG+VqhMg7kCB8OHj7x3dGpq6n0jxRjMXgNyAIahqwygve2Bvk4YLJWCA33xg0PHRk+UHj9e+t6wqQIzxDCoAKFb3i0oZfrOw++OHhstLT1eCvjwgGboGs4aDQFMBa3BMOCj6tse6+sCNYGCj6ZGT5woLW1paRk92TJ1UTNNyxoZOSUwYqE3sLc90NeLA0emcPajaAWloydLpw5Seurj05+cOTsN+PTMJ6fPfXb+VOJtD/P1gPLAaPzu82Mt3AhaOAtgEUeIdv6Lop4iF63TZ//h3A8j+HHNpLqhbRmVNAhlxoH3T0obEIbQUnqy9CPDPPVFT1Grh4Winp7WC2c+Pg/BFCSCbB3n0JlJLx6a8nIgSPhwmI78Y1FPBglFRRdae/4w/fvPdoIpaFuHBKYZB/9ptNTLgSBh6iIZOV1U5COhB1DUeuGfvxxhhr41gqaqEmqAIpaeKM0gobTl5PGpg8T6qjWLhKLWVmCiqOjMlzsheG4JEoi688gUJAajfhJGj099S9iXPgrAMFpbpUH84Y+XuDHkeyqtEU1/99hJCAUt2SS0vE/YZxf8JDhcwNeFcztBVt/2JDYHQ0uZxhEx/UwSxKJ/MbRLF3r8yihJED8+ucR008znSKkzpn8wlT172xxGh8mpszlIsO3h0x+YntfuAKny76ZGc5JQOgrh4cyaJIA0fPEn1chjFqBOvvhhy1okfEDY6axEIZODotbTI/msCowMv9dyfA0SWt7VtXOta1oCRMpLLJ9J0CBBKF2Dg9KWQzsphIe1NSE/ORDNRKx9Lk6VnjjZEhAXbGH8/AA9f6EnNwdFPZ/+KyPm257RBsGojs1E3igzhw9NecpGefCxlSB+Th37/N8O6JfO5nAHzBN6pj+zIETS/AqRUPCoGoUsT4VxHzw2euLEaKYhOIwc+/zbiweGdXbqTE+rgI8DNJAL50ZMwyBWftVROFoz/fU3afTj4W+Pjp48eVwagEPCccihj310eJholm6ykU96eKWAtp8hBrBw+qsRlkoxLc8iJPbT6ezMzOXZNIU6+MC7R0ePl3p9Agvqlqn3Du7UqYkuo1mngzUBLKP1j6eI0fvnKwnzzUnjr9HeBBJoeqapqXDm8pxppjTj4iHsqaESOA4xdfTIsGalYGY6yAc7N80tv8ffXZmePnOK0d5/L26/MvkGpVHFwndzQHeYHW8CFrqRBtCGnQffm0IzcEn4/KABNoCNIwok0D/95YtPz549Oz3dmtFa6Gk9c8lSe692jBXPX7F+jemtC/FYbPPWABZ+ubCpuxAxfm0Oz7ZcPHJ0qkXqAVSPRw/rWoriuRYNSCDmyPlL2Gu+9MOXn5y9IOQBMunWounzqVTvd+0d7fD/ukWo9tpPy6gkVqMoSk1sk9sxrNTceFOhjfFrCxR07eL7R1taIE60YGpwUSdaDh8fOX8a7YFHx+nPmNl7tb2jGNBx+zp7/b024AAoiMBXxeaMQbfMG4U2CdwpbixQTR8+fOgY5AfgElOHDTVHD9nQzZR16eNPQREvFBX9h05GvmsvFmi/2qu9gRZTmxKJFEQiStfmZEGn6cuFriXgqxmIl7ox/O2HR0+eaJn6ltBUjiNKCT8Bden3UE1c+IqZIzc7xjoECWPtNxPaaychpgADAEXZnEMwOjfjUNDdjdrQPT4zmzZ1ffgIJInv79RMM0fcR7HEonnk3PT0acsYufn9WIc0hbGO+SuJYBKizTGBhg0MU5XrxOLepZVKAfgCfqvYwLYCJkJvFPpJaGqa+XoO4oZx+KP/PADpAYTGwOkwSIxMahgm++G/hhlwAG4gSYAQcbvXCrTRCkWibgPDjEbkSlW+TRUgNmsJFsQGD5owWAIPM7OUQWZgDO/U0er14IOK52U1KBXw5HXiz+1/LW6HyQtN6OAOEbSSQ8L2DQwzWs5XiWSSoNrUVG9OE9jCeGF3d2EGugubvjZVQ9PsvjFMFXcSr2isrWusQItU+T+8igNPXmsqS9z6HnygvUNqQgdgHiIEBAhKMiWlQhy9go2SEOErZZBAtgMvKAmNm4sO2lwACU3js4R5dAD3EOustg9hdT3nwd0v1UduzcvpS00obh8r/i7BSdCySAAalA2TUJBFAoygjg+ocbNJ4zeFAZYwnk5lktBcplSXcy2GfZZXK7s9aZpOTHbl++JMtLeP8WQBjMkXYP9eSwggAd9orG1UN1tBgC42ZZNwzXQPH26/VimvrLUdUBmoqxxQap03GbOu3y4e83FQPDbWfjXBzCASlDVIUOMibmROK5AEz2ekJfDvDbHmWDQ3L2qDL8ZAEnytKYuEwplZz8hVEq1RasXmK3btqmjgijCo9NmVSypxZR5m7COhYwxc4rplgkdkimouElTYmlq3S9DcCXI/WIPo21GRkwRSt4t/Ztd2PmeuW1X9fAttOOLd/N2a3YIQ3L7aWDPAd9DXTEjjDvE+MS9jmpjJQdPMgn3ZHq4b7VIq7WKtdlAOF2J0TVRsXLOuZ5GAygjfb0JRbWWTEOwOKtnerzioIp3yVaVLQsTnDlXyI7X2EnsBRM3+SiJVrN8hobLN3UF9tE6+ItGZpiafHQAJaULsk2mq2gdRWJWHvXE7pxxfNytlgnxDZ7fai9v5zF0SMG/quN1LtQASgi0h2odaj8KD/5WaPoiIBfDlIcGvCVVyqSQhuoMnDpECkUZu74KNwbs2CaSeBxO+eXi7qx4iDsYc0jDeBMmRzxQup0ESbFOoUurijoNVVDojiNfCvnE5KKh1a36sWHhAhjm0X2Ems4KiQyYJGG/B4Pgx5LHDPqD4uZwkEEkCtwQ4MNE2sYqTR0bE29VyF318ofxEgb19ICEdRALXRUlCTBkYUB0S4nFHbxoGBhQuMEACG7oK0cBrCVIaIEr6r14JdAfYap8csx+vJkFYAh7oiGcTkYIC+W61sNhOkWpkIwcJ1CZBJVCw17th2I3HKilTlD58BRpqWntuj3V0QEzIoKEDcmeIkq+ODqg2Yga2R7uTWS8JoFLcCWw7sjkQlqCSRkmRvXT9JPCKfTuxnaqhpsaNLpCu8ZydMbyy73p7AAlj81csf8YdbAlxafuRiOsJykZIUEmXlBNF2dHZ2YdJtkuCiim2+M3ZgfIKElx3qOLyrIoIVAkZfHmlzQhQqwzCT41f69uLDpFFAhQQ67OEKkkCDLm2ormyPsJVcSOWEOMWBIo3wHUrOqh4LQEszS62BqoqY5WD/a73BZNwOSpJUFX8bFVUjJSLK3iHcIlolYLdDKJCqQWVJhNx0k/C1aHgtNlnCQ2Ootmz3G27xHpJqMIjD0OKxLlKwiGzN8DdoU04iKJ0ynXrHZcjDTPAgJ8ECJHM9gaYdV85FguxLhFgILaAEzTUR2pwk/AGpEMa5IUjV8f+2t6eKY0oClo2CdnuIAYckRxwlsvsz+XMEzJJaFOEsW+XG1BBCV0SYjbLnc4O6nkARRJ4slToSxXGF4iM7o0K1v1q8/Z4pR22IIQrlQ3bm7F6EUFcAJKFABKwlFxH2lxvj9cTiCIbsoTogAyXUeddW2eQhDrJ8oDbylHtGMrT5iwSIG1OWJwEWHeXGFWdrTOYyNQJOndxhuQ2tevfgztklhDFHfO3rGwSsi2hRh7GWk/K37fePIGTIGasYAbnwJMndEpL2u15u9YmgfI2q4+E7htUBvdBUaeqqrQnTgIEBZ7oo53UOpsEaezIIgGU0X8KItAS+uWEKzyFT92GLCHGj6vr8rihNpeEGn4MI+LwSVTK4ypK6UwKgJKZtGynDFZ3yQqBtNlBDKoTuahhR7WHBHaTO4CfhIS2jrS5XFpCs2dZozhQ6yeBW4KXhGqXhB3SWRo9azfblkBms0ko7P7bHBEk1EWcxoEbctBohfTEPMxSegUUIZME7Kz00nUUUP1S2r0N0+2ymbRud8BNiPxNcEAUPwkFnvHiSCQJAe21pplrc6Z0h0olbqcFMRmzIjwkCGbirjBqaiqIhI6rASRkd5a65HGs9Szr3JA7iAacoihuNtfoiQ598nWnZ+06mwQrfbmJd1eBCS6R45e/SVNqa0JccXIjGGhEHK4uYgehCoWLLYMwaOn0+jyeghNFdAcHlFO3X20JYFZ9kt82d1FD+dqWoGaSgMPjo+uUB0iNVnssoV76VnlUWrGKkmFbAnGVsalpfObGXNozZlWtrnKkyq7VPQPp7MJrPKB44PcD8XTJg2JkYb7XfIUm4KAGpSYodfYYcXdraQIv570k1NqbqBTrq33eZKlRUBRxXFm1qxUgQaNzM93dl5GG7u7/xosUiOEd8qCi2sTHOus5Op0mf5SHNIa3CFJq8d4KP/MgbWEMfkVLCMoTZFbjLlRk4WD71yC3u0wS/C33DBIa5CYgDMai0Ya6cmXAEyLjzg7s3da6GaOlpmd4qxWMYMEk1DTTGUcuJlYC4uKOs8XthKMOCygVnMFKJCxm9V69fXt+fh6NAH1hjFMCJARmjIpSvWuHBFhwP69+eM7YHI3GG2uUABKwQeKsVOOzBKxqOQlYHuBpikjE20/YoURko7izokGNV+KnC2xN0Og1EIKZa7MG0SzNXLhz9388V1hAwdxf2cxd1JEUVd0dRWNsbqzG1EOzIJCIWyVHent7r3PcunXz5nffXQXcHKGWnwQZrhzU8MSlICI6HcrAgKiEA4TRu1YmCaoaU2QNWiAz24jHHVAFI3YzJTKQUadix2Pub5dn0QgoTc/dK5kouee5PBsmr+zCCkptq3CXNUPd1FCldHFZBBIMaygxYoExYEHJb/vAu+QsKzGU6AVJyCLBBwhrasMAVwA+dMWxgmwS3MUDqr+pUpfRNYlEPJ0l+Gy1kABuKd5+BWaMum7OmSZeq5G+XzKRTCYnSuacrE0l4vxGeVWfm46CEZT11Zcrds7MCHv44MGDxcXHDx/u2zc0lADfwJsFwavwkg+TjgRaQgYJokrBd0QLkOelQZaQkwS0zXpndorTWZEkYCRTxDZxD/yfPRAYJhR5cOjMhXtAQEkJ/C8pSVsQ8BynEF3fSq64ROwN+ykRpV4EjhRlD/Zv279NYGnp50fAyOPHj/eAuHB5CS6gfCTwaFAgO0PieAVowhqWgKjlNiS0Relr9rqDqKG4TvD2I2fZDpFYB6MfJJOcBERy1uTVsX3gyxS7TJeLYgNoWrvt8w7UerTNIWHbfg5gY3Eo8IxsoDsgBj1egAV8V0CIfAUJJFZmK8aOSogI4t02OfI6VygU3n9ySSBmevZusmRiYqJEIpn8kSYS9mk4ldtCRKludpJl7LTw3gpfQMkeLwnbJAnbFi2DBMA5K50hjLxxVe1ZNojdTWmDvFDOgkqyzjsA4nW7a3b1DTYTO+7KzfPcznPaAcZfK19BTFz4JplBAZAwMbGQyphBIx+DLD649w40uoahP1zykmBz8ZgFXtsR69td5oMT/CtrxCn4rkGQXNAhwG48V0SiWeuUdaJb8o+U9eHIYhUSDdKAed6NJlvlVqYVZWIHbdgmahRrlxH0gxLJQNIl4e6CN1uAJAE476+viKtqvKIKtlPV4G5YY4vbAkmwUkHusPa50yjMpdl30jsH3P4L16lB+xD3y4SGtwvQ/r2lqdyBmrEDVwhKPKaQLEnOebMF+Hy0rsY2yZq6qH3qDzmwLNBFHwmoCfv04Ou9VN/8MibjfsTWYdsJ/StlbEi1a2lU1P46sIc6rCW4CLZ5z9s6J25V1V39fjJz/ogJNI7k/0aJeyWiGAi3uFjUHQa/Q4DteeQ3A/z95z3rvBUqYy42ue6kHV6yV/R+RhWVqOiCCmCiINpgnpUzrEf+kr6bTYLEnQUIn7pqUiiRAq/W0Si/Odpa3J/lC8DDIhSW6yLh14GqViie8zc86ZCX971yXfN+DgrQKYAGyCColoMEJh4msu9RNgVvgQTiloUO4PeB+KvXZWkw/UBb4KnTPaisc1sClo+EPVgKImHpMQuODq8LMmMscDNiDOTl67ny2SI/lgQ7BI8ayeRdquYiAVtqurVvyVaBDEN4tM+ib/y2h0a8wCEikm+eJJet62JJppp3kjktAXCP5HQH/riJfRgatmWpwv7FROrNk0Citd58qG+d13iaTF3IoQngJUDEj7ndAVUxIVTRT8L+bQ/1N08CBgE1Xru7baCgvKu+MfvSpxwAEuiPJZnJkpeEZJoyC4tBCJfYQtMNg9DJn1aZroMq6onHS4IEvyH8vE9783cG/r3XsKU0nZh3AklAO0jeMXWUPyau1qY6Xtn+4snyk0nNgMVDwEGQKqI3QNzIl/sjTaJrZvpOSclEiR88PMxRA4zewOu4qYmYBAr2vrO8ktIpG0JfCGRh6SHDm4Xy5M5AHCozF5IB0shJSMOsVyfNFDbVU4nV5yvPgALA8kv0haAsiePBEAQO3cobEgizGF3AYjpAHO+YqZ+Wl588XUE8ffJsLwA5eGfvk0l9KCtd9hiCmUckMKyAmG7O3c2yBVxwn04+wSnvdWbPf8NvKylQxWBBWHqwh5iWljckWJq4St2cCyRhgQ49wxk709/r/FhexaohmISHCd1MMBJYSv8GoYkvXQOPkBO33QJC5F2TvnQtwAU3hV8myZ4HMjpmkvEAH0WmaSRPOLCha6COd7JsYZbQlXeCWEASlldM6+HPAZbwaF9+3SrtAFIbiJTJDHlMJhcISEIuEvY+e0ETi0tZ2eLSYzXP7pq3oWFRbN6/6/TakIR7aW31WSADAr9M0j0PfCzs3/9gKMfdQr99IAtaRqicuHufsOfBZiCNYcVMPXzkIwGcIV+iQhDwHof0fSdWTtxdIKmnueYvvr+gKAteFn6GXDH4NrjfOvhDiLE0AGNIfyPTx4m7pj6ZyxukUDyZNEAWPBwsPWZ63j92jOCjBL5JTmC36Z5JXyyv4Q0AqCHUIU9HYWkxgb6QL0VDbmh4bhZPy81RyJnXkgRMmV6mEk6Tcf/S4h5+d0O+k8Av2AYaFmZvpLXUkzV1Ed98tsq0h0syMCwO4WMm8p8EghfvYbykJmGry68kYfkFJbykRg7sE5hbgAS8jQ8fn2asHSB5DfHs+SRQtgfPzYMeGOJu2K3wuFqGJk1NZtBcAdLG8tNVpuITZ0AWeGxkW+bB5vgMe0pN3Zj85R1f0iwralFLPnvyMqXhE7yplni4uE8zKFSOW4QDG7r1ctmtojNIwPLp2dOXKbzkE+sEZiXe3KNk3ihMK2eABApWVlP4WClBAt4q/LaH+3qgs/97try8119E7l3e+8vKy0mGzVf8aw95WjGuEwZJrb746SkQsSzaa/Bi+dmTFWy8Uv4cEf4nLzT/lVlbCvh8CNNMTa6+ePH8+crKyvPnz1+uToILgA3Af48Abi0t9EJL4fE2VH4KHu93w/gP01Xh+DPxd06o/HMnW/gPHHhPQGren5T6siFN2wrpUYgQIUKECBEiRIgQIUKECBEiRIgQIUKECBEiRIgQIUKECBEiRIgQIUKECBEiRIgQIUKECPEbwP8DeHHphQ+f9YQAAAAASUVORK5CYII=)\n",
    "<br>\n",
    "I'm in this case considering the `unknown` data "
   ]
  },
  {
   "cell_type": "code",
   "execution_count": 20,
   "metadata": {},
   "outputs": [],
   "source": [
    "liga <- filter(data,Competition.Name == 'Liga' | Competition.Name == 'Unknown')"
   ]
  },
  {
   "cell_type": "code",
   "execution_count": 21,
   "metadata": {},
   "outputs": [
    {
     "data": {
      "text/html": [
       "<table>\n",
       "<thead><tr><th scope=col>Competition.Name</th><th scope=col>Home.team</th><th scope=col>Opponent</th><th scope=col>Away.team</th><th scope=col>Minute</th><th scope=col>Score.Home.Team</th><th scope=col>Score.Away.Team</th><th scope=col>Goal.Type</th><th scope=col>Goal.Method</th><th scope=col>Final.Game.Result</th><th scope=col>day</th><th scope=col>n_day</th><th scope=col>month</th><th scope=col>year</th></tr></thead>\n",
       "<tbody>\n",
       "\t<tr><td>Liga           </td><td>FC Barcelona   </td><td>Real Valladolid</td><td>Real Valladolid</td><td>43             </td><td>1              </td><td>0              </td><td>Penalty        </td><td>Left foot      </td><td>Won            </td><td>Saturday       </td><td>16             </td><td>February       </td><td>2019           </td></tr>\n",
       "\t<tr><td>Liga           </td><td>FC Barcelona   </td><td>Eibar          </td><td>Eibar          </td><td>53             </td><td>2              </td><td>0              </td><td>Field goal     </td><td>Left foot      </td><td>Won            </td><td>Sunday         </td><td>13             </td><td>January        </td><td>2019           </td></tr>\n",
       "\t<tr><td>Liga           </td><td>FC Barcelona   </td><td>Celta de Vigo  </td><td>Celta de Vigo  </td><td>45             </td><td>2              </td><td>0              </td><td>Field goal     </td><td>Left foot      </td><td>Won            </td><td>Saturday       </td><td>22             </td><td>December       </td><td>2018           </td></tr>\n",
       "\t<tr><td>Liga           </td><td>FC Barcelona   </td><td>Sevilla        </td><td>Sevilla        </td><td>12             </td><td>2              </td><td>0              </td><td>Field goal     </td><td>Left foot      </td><td>Won            </td><td>Saturday       </td><td>20             </td><td>October        </td><td>2018           </td></tr>\n",
       "\t<tr><td>Liga           </td><td>FC Barcelona   </td><td>Girona         </td><td>Girona         </td><td>19             </td><td>1              </td><td>0              </td><td>Field goal     </td><td>Left foot      </td><td>Draw           </td><td>Sunday         </td><td>23             </td><td>September      </td><td>2018           </td></tr>\n",
       "\t<tr><td>Liga           </td><td>FC Barcelona   </td><td>Alavés         </td><td>Alavés         </td><td>92             </td><td>3              </td><td>0              </td><td>Field goal     </td><td>Left foot      </td><td>Won            </td><td>Saturday       </td><td>18             </td><td>August         </td><td>2018           </td></tr>\n",
       "</tbody>\n",
       "</table>\n"
      ],
      "text/latex": [
       "\\begin{tabular}{r|llllllllllllll}\n",
       " Competition.Name & Home.team & Opponent & Away.team & Minute & Score.Home.Team & Score.Away.Team & Goal.Type & Goal.Method & Final.Game.Result & day & n\\_day & month & year\\\\\n",
       "\\hline\n",
       "\t Liga            & FC Barcelona    & Real Valladolid & Real Valladolid & 43              & 1               & 0               & Penalty         & Left foot       & Won             & Saturday        & 16              & February        & 2019           \\\\\n",
       "\t Liga            & FC Barcelona    & Eibar           & Eibar           & 53              & 2               & 0               & Field goal      & Left foot       & Won             & Sunday          & 13              & January         & 2019           \\\\\n",
       "\t Liga            & FC Barcelona    & Celta de Vigo   & Celta de Vigo   & 45              & 2               & 0               & Field goal      & Left foot       & Won             & Saturday        & 22              & December        & 2018           \\\\\n",
       "\t Liga            & FC Barcelona    & Sevilla         & Sevilla         & 12              & 2               & 0               & Field goal      & Left foot       & Won             & Saturday        & 20              & October         & 2018           \\\\\n",
       "\t Liga            & FC Barcelona    & Girona          & Girona          & 19              & 1               & 0               & Field goal      & Left foot       & Draw            & Sunday          & 23              & September       & 2018           \\\\\n",
       "\t Liga            & FC Barcelona    & Alavés          & Alavés          & 92              & 3               & 0               & Field goal      & Left foot       & Won             & Saturday        & 18              & August          & 2018           \\\\\n",
       "\\end{tabular}\n"
      ],
      "text/markdown": [
       "\n",
       "Competition.Name | Home.team | Opponent | Away.team | Minute | Score.Home.Team | Score.Away.Team | Goal.Type | Goal.Method | Final.Game.Result | day | n_day | month | year | \n",
       "|---|---|---|---|---|---|\n",
       "| Liga            | FC Barcelona    | Real Valladolid | Real Valladolid | 43              | 1               | 0               | Penalty         | Left foot       | Won             | Saturday        | 16              | February        | 2019            | \n",
       "| Liga            | FC Barcelona    | Eibar           | Eibar           | 53              | 2               | 0               | Field goal      | Left foot       | Won             | Sunday          | 13              | January         | 2019            | \n",
       "| Liga            | FC Barcelona    | Celta de Vigo   | Celta de Vigo   | 45              | 2               | 0               | Field goal      | Left foot       | Won             | Saturday        | 22              | December        | 2018            | \n",
       "| Liga            | FC Barcelona    | Sevilla         | Sevilla         | 12              | 2               | 0               | Field goal      | Left foot       | Won             | Saturday        | 20              | October         | 2018            | \n",
       "| Liga            | FC Barcelona    | Girona          | Girona          | 19              | 1               | 0               | Field goal      | Left foot       | Draw            | Sunday          | 23              | September       | 2018            | \n",
       "| Liga            | FC Barcelona    | Alavés          | Alavés          | 92              | 3               | 0               | Field goal      | Left foot       | Won             | Saturday        | 18              | August          | 2018            | \n",
       "\n",
       "\n"
      ],
      "text/plain": [
       "  Competition.Name Home.team    Opponent        Away.team       Minute\n",
       "1 Liga             FC Barcelona Real Valladolid Real Valladolid 43    \n",
       "2 Liga             FC Barcelona Eibar           Eibar           53    \n",
       "3 Liga             FC Barcelona Celta de Vigo   Celta de Vigo   45    \n",
       "4 Liga             FC Barcelona Sevilla         Sevilla         12    \n",
       "5 Liga             FC Barcelona Girona          Girona          19    \n",
       "6 Liga             FC Barcelona Alavés          Alavés          92    \n",
       "  Score.Home.Team Score.Away.Team Goal.Type  Goal.Method Final.Game.Result\n",
       "1 1               0               Penalty    Left foot   Won              \n",
       "2 2               0               Field goal Left foot   Won              \n",
       "3 2               0               Field goal Left foot   Won              \n",
       "4 2               0               Field goal Left foot   Won              \n",
       "5 1               0               Field goal Left foot   Draw             \n",
       "6 3               0               Field goal Left foot   Won              \n",
       "  day      n_day month     year\n",
       "1 Saturday 16    February  2019\n",
       "2 Sunday   13    January   2019\n",
       "3 Saturday 22    December  2018\n",
       "4 Saturday 20    October   2018\n",
       "5 Sunday   23    September 2018\n",
       "6 Saturday 18    August    2018"
      ]
     },
     "metadata": {},
     "output_type": "display_data"
    }
   ],
   "source": [
    "head(liga)"
   ]
  },
  {
   "cell_type": "markdown",
   "metadata": {},
   "source": [
    "### Goals scored to clubs "
   ]
  },
  {
   "cell_type": "code",
   "execution_count": 22,
   "metadata": {},
   "outputs": [],
   "source": [
    "clubs_laliga <- data.frame(sort(table(liga$Opponent),decreasing = T))\n",
    "colnames(clubs_laliga) <- c('Club','Goals')"
   ]
  },
  {
   "cell_type": "code",
   "execution_count": 23,
   "metadata": {},
   "outputs": [
    {
     "data": {},
     "metadata": {},
     "output_type": "display_data"
    },
    {
     "data": {
      "image/png": "[encoded data removed]",
      "text/plain": [
       "plot without title"
      ]
     },
     "metadata": {},
     "output_type": "display_data"
    }
   ],
   "source": [
    "ggplot(data=clubs_laliga) + geom_bar(aes(x=Club,y=Goals),stat='identity',fill='tan4') + \n",
    "scale_y_continuous(breaks=seq(5,25,5)) + coord_flip() + \n",
    "ggtitle('Goals scored to clubs') + theme_fivethirtyeight()"
   ]
  },
  {
   "cell_type": "markdown",
   "metadata": {},
   "source": [
    "### Number of goals per game"
   ]
  },
  {
   "cell_type": "code",
   "execution_count": 24,
   "metadata": {},
   "outputs": [],
   "source": [
    "groupingn_goals <- group_by(liga,year,month,n_day,Opponent)\n",
    "n_goals <- summarise(groupingn_goals,Goals=length(Final.Game.Result))\n",
    "n_goals_df <- data.frame(table(n_goals$Goals))\n",
    "colnames(n_goals_df) <- c('N_goals','N_times')"
   ]
  },
  {
   "cell_type": "code",
   "execution_count": 25,
   "metadata": {},
   "outputs": [
    {
     "data": {},
     "metadata": {},
     "output_type": "display_data"
    },
    {
     "data": {
      "image/png": "[encoded data removed]",
      "text/plain": [
       "plot without title"
      ]
     },
     "metadata": {},
     "output_type": "display_data"
    }
   ],
   "source": [
    "ggplot(n_goals_df)+ geom_bar(aes(x=N_goals,y=N_times),stat = 'identity',\n",
    "                             fill='lightpink',colour='lightpink4',width = 0.4)+\n",
    "scale_y_continuous(breaks=seq(10,150,10))+\n",
    "ggtitle('Number of goals per game') + theme_hc()"
   ]
  },
  {
   "cell_type": "markdown",
   "metadata": {},
   "source": [
    "### Number of times clubs received three or more goals per game"
   ]
  },
  {
   "cell_type": "code",
   "execution_count": 26,
   "metadata": {},
   "outputs": [],
   "source": [
    "clubs <- filter(n_goals,Goals>=3)\n",
    "clubs_df <- data.frame(sort(table(clubs$Opponent),decreasing=T))\n",
    "colnames(clubs_df)<- c('Club','N_times')"
   ]
  },
  {
   "cell_type": "code",
   "execution_count": 27,
   "metadata": {},
   "outputs": [
    {
     "data": {},
     "metadata": {},
     "output_type": "display_data"
    },
    {
     "data": {
      "image/png": "[encoded data removed]",
      "text/plain": [
       "plot without title"
      ]
     },
     "metadata": {},
     "output_type": "display_data"
    }
   ],
   "source": [
    "ggplot(data=clubs_df) + geom_bar(aes(x=Club,y=N_times),stat='identity',fill='khaki4') + \n",
    "scale_y_continuous(breaks=seq(1,3,1)) + coord_flip() + \n",
    "ggtitle('Number of times clubs received\\n  three or more goals per game') + \n",
    "theme_fivethirtyeight()"
   ]
  },
  {
   "cell_type": "markdown",
   "metadata": {},
   "source": [
    "### Goals per minute"
   ]
  },
  {
   "cell_type": "code",
   "execution_count": 28,
   "metadata": {},
   "outputs": [],
   "source": [
    "minutes_laliga <- data.frame(sort(table(liga$Minute),decreasing = T))\n",
    "colnames(minutes_laliga)<- c('Minute','Goals')"
   ]
  },
  {
   "cell_type": "code",
   "execution_count": 29,
   "metadata": {},
   "outputs": [
    {
     "data": {},
     "metadata": {},
     "output_type": "display_data"
    },
    {
     "data": {
      "image/png": "[encoded data removed]",
      "text/plain": [
       "plot without title"
      ]
     },
     "metadata": {},
     "output_type": "display_data"
    }
   ],
   "source": [
    "ggplot(data=minutes_laliga[1:20,]) + geom_bar(aes(x=Minute,y=Goals),stat='identity',\n",
    "                                              fill='springgreen4') + \n",
    "scale_y_continuous(breaks=seq(2,10,2))+\n",
    "labs(x='',title='Top-20 minutes with the most amount of goals') + theme_fivethirtyeight()"
   ]
  },
  {
   "cell_type": "markdown",
   "metadata": {},
   "source": [
    "### Non goal minute"
   ]
  },
  {
   "cell_type": "code",
   "execution_count": 30,
   "metadata": {},
   "outputs": [
    {
     "data": {
      "text/html": [
       "<ol>\n",
       "\t<li>1</li>\n",
       "\t<li>2</li>\n",
       "\t<li>34</li>\n",
       "\t<li>69</li>\n",
       "</ol>\n"
      ],
      "text/latex": [
       "\\begin{enumerate}\n",
       "\\item 1\n",
       "\\item 2\n",
       "\\item 34\n",
       "\\item 69\n",
       "\\end{enumerate}\n"
      ],
      "text/markdown": [
       "1. 1\n",
       "2. 2\n",
       "3. 34\n",
       "4. 69\n",
       "\n",
       "\n"
      ],
      "text/plain": [
       "[[1]]\n",
       "[1] 1\n",
       "\n",
       "[[2]]\n",
       "[1] 2\n",
       "\n",
       "[[3]]\n",
       "[1] 34\n",
       "\n",
       "[[4]]\n",
       "[1] 69\n"
      ]
     },
     "metadata": {},
     "output_type": "display_data"
    }
   ],
   "source": [
    "non_goal_minutes <- list()\n",
    "index <- 1\n",
    "for (min in 1:90){if(!min %in% liga$Minute){non_goal_minutes[index]<- min\n",
    "                                            index <- index +1 }} \n",
    "non_goal_minutes"
   ]
  },
  {
   "cell_type": "markdown",
   "metadata": {},
   "source": [
    "### Goals per period of game\n",
    "Goals per first, second half and additional time "
   ]
  },
  {
   "cell_type": "code",
   "execution_count": 31,
   "metadata": {},
   "outputs": [],
   "source": [
    "period <- rep(0,3)\n",
    "for (min in liga$Minute){if(min<45){ period[1] <- period[1]+1} \n",
    "                                   else {if(89 < min){period[3]<- period[3]+1}\n",
    "                                          else {period[2]<- period[2]+1} } }  \n",
    "goals_period <- data.frame('Period'=c('first half','second half','additional time'),'Goals'=period)\n",
    "goals_period = arrange(goals_period,desc(Period))\n",
    "goals_period$porcentage <- round(goals_period$Goals*100/sum(goals_period$Goals))\n",
    "goals_period$position = cumsum(goals_period$porcentage) - goals_period$porcentage/2\n",
    "goals_period$label <- paste(goals_period$porcentage,\"%\")"
   ]
  },
  {
   "cell_type": "code",
   "execution_count": 32,
   "metadata": {},
   "outputs": [
    {
     "data": {},
     "metadata": {},
     "output_type": "display_data"
    },
    {
     "data": {
      "image/png": "[encoded data removed]",
      "text/plain": [
       "plot without title"
      ]
     },
     "metadata": {},
     "output_type": "display_data"
    }
   ],
   "source": [
    "ggplot(goals_period) + geom_bar(aes(x=\"\",y=porcentage,fill=Period),col='white',\n",
    "                                stat = \"identity\") +\n",
    "coord_polar(theta=\"y\",start=0) + theme_void() + ggtitle('Goals per period of game') + \n",
    "theme(plot.title= element_text(hjust = 0.5,face = 'bold',family = 'Segoe Script'),\n",
    "      plot.margin = margin(1,1,1,1, \"cm\"),\n",
    "      text=element_text(size=15,family='MV Boli')) +\n",
    "geom_text(aes(x=1,y = position , label = label), col='white',size=3.5,fontface =2,\n",
    "          family='Calibri') +\n",
    "scale_fill_brewer(palette=\"Set1\")"
   ]
  },
  {
   "cell_type": "markdown",
   "metadata": {},
   "source": [
    "### Goals per month"
   ]
  },
  {
   "cell_type": "code",
   "execution_count": 33,
   "metadata": {},
   "outputs": [],
   "source": [
    "months <- table(liga$month)\n",
    "df_months <- data.frame(months)\n",
    "colnames(df_months) <- c('Month','Goals')\n",
    "#Setting the hierarchy by sequence order\n",
    "months_ord <- c('January','February','March','April','May','June',\n",
    "                'July','August','September','October','November','December')\n",
    "df_months$Month <- factor(df_months$Month,levels=months_ord)\n",
    "df_months <- rbind(df_months,c('July','0'))\n",
    "df_months$Goals <- as.numeric(df_months$Goals)"
   ]
  },
  {
   "cell_type": "code",
   "execution_count": 34,
   "metadata": {},
   "outputs": [
    {
     "data": {},
     "metadata": {},
     "output_type": "display_data"
    },
    {
     "data": {
      "image/png": "[encoded data removed]",
      "text/plain": [
       "plot without title"
      ]
     },
     "metadata": {},
     "output_type": "display_data"
    }
   ],
   "source": [
    "ggplot(df_months)+ geom_bar(aes(x=Month,y=Goals),stat='identity',\n",
    "                            fill='thistle',colour='thistle4')+ \n",
    "scale_y_continuous(breaks=seq(5,60,5))+ labs(x='',title='Goals per month') + theme_hc() +\n",
    "theme(plot.title= element_text(hjust = 0.5,face = 'bold',family = 'Segoe Script'),\n",
    "     plot.margin = margin(1,1,1,1, \"cm\"),\n",
    "     axis.text.x=element_text(size=6))"
   ]
  },
  {
   "cell_type": "markdown",
   "metadata": {},
   "source": [
    "## Goals per day of the week"
   ]
  },
  {
   "cell_type": "code",
   "execution_count": 35,
   "metadata": {},
   "outputs": [],
   "source": [
    "days <- table(liga$day)\n",
    "df_days <- data.frame(days)\n",
    "colnames(df_days) <- c('Day','Goals')\n",
    "#Setting the hierarchy by sequence order\n",
    "days_ord <- c('Monday','Thuesday','Wednesday','Thursday','Friday','Saturday',\n",
    "              'Sunday')\n",
    "df_days$Day <- factor(df_days$Day,levels=days_ord)\n",
    "df_days <- rbind(df_days,c('Friday','0'))\n",
    "df_days$Goals <- as.numeric(df_days$Goals)"
   ]
  },
  {
   "cell_type": "code",
   "execution_count": 36,
   "metadata": {},
   "outputs": [
    {
     "data": {},
     "metadata": {},
     "output_type": "display_data"
    },
    {
     "data": {
      "image/png": "[encoded data removed]",
      "text/plain": [
       "plot without title"
      ]
     },
     "metadata": {},
     "output_type": "display_data"
    }
   ],
   "source": [
    "ggplot(df_days)+ geom_bar(aes(x=Day,y=Goals),stat='identity',fill='lightcyan',\n",
    "                          colour='lightcyan4')+ \n",
    "scale_y_continuous(breaks=seq(20,200,20))+ \n",
    "labs(x='',title='Goals per day of the week') + theme_hc() +\n",
    "theme(plot.title= element_text(hjust = 0.5,face = 'bold',family = 'Segoe Script'),\n",
    "     plot.margin = margin(1,1,1,1, \"cm\"),\n",
    "     axis.text.x=element_text(size=8))"
   ]
  },
  {
   "cell_type": "markdown",
   "metadata": {},
   "source": [
    "### Type of goal"
   ]
  },
  {
   "cell_type": "code",
   "execution_count": 37,
   "metadata": {},
   "outputs": [],
   "source": [
    "type_goal <- table(liga$Goal.Type,exclude= NULL)\n",
    "rownames(type_goal)[6] <- \"Unknown\"\n",
    "type_goal <- data.frame(type_goal)\n",
    "colnames(type_goal) <- c('Type_of_goal','Goals')\n",
    "type_goal = arrange(type_goal,desc(Type_of_goal))\n",
    "type_goal$porcentage <- round(type_goal$Goals*100/sum(type_goal$Goals))\n",
    "type_goal$position = cumsum(type_goal$porcentage) - type_goal$porcentage/2\n",
    "type_goal$label <- paste(type_goal$porcentage,\"%\")"
   ]
  },
  {
   "cell_type": "code",
   "execution_count": 38,
   "metadata": {},
   "outputs": [
    {
     "data": {},
     "metadata": {},
     "output_type": "display_data"
    },
    {
     "data": {
      "image/png": "[encoded data removed]",
      "text/plain": [
       "plot without title"
      ]
     },
     "metadata": {},
     "output_type": "display_data"
    }
   ],
   "source": [
    "ggplot(type_goal) + geom_bar(aes(x=\"\",y=porcentage,fill=Type_of_goal),col='white',\n",
    "                             stat = \"identity\") +\n",
    "coord_polar(theta=\"y\",start=0) + theme_void() + ggtitle('Type of goal') + \n",
    "theme(plot.title= element_text(hjust = 0.5,face = 'bold',family = 'Segoe Script'),\n",
    "     plot.margin = margin(1,1,1,1, \"cm\"),\n",
    "     text=element_text(size=15,family='MV Boli')) +\n",
    "geom_text(aes(x=1.57,y = position , label = label), col='black',size=3.5,fontface =2,\n",
    "          family='Calibri') +\n",
    "geom_segment(aes(x = 1.445, y = position, xend = 1.47, yend = position))+\n",
    "scale_fill_brewer(palette=\"Set1\")"
   ]
  },
  {
   "cell_type": "markdown",
   "metadata": {},
   "source": [
    "### Global analysis"
   ]
  },
  {
   "cell_type": "code",
   "execution_count": 39,
   "metadata": {},
   "outputs": [],
   "source": [
    "#Changing to factors\n",
    "liga$Goal.Method <- as.factor(liga$Goal.Method)\n",
    "liga$day<- as.factor(liga$day)\n",
    "liga$month <- as.factor(liga$month)\n",
    "liga$Final.Game.Result<- as.factor(liga$Final.Game.Result)"
   ]
  },
  {
   "cell_type": "code",
   "execution_count": 40,
   "metadata": {},
   "outputs": [
    {
     "data": {
      "image/png": "[encoded data removed]",
      "text/plain": [
       "plot without title"
      ]
     },
     "metadata": {},
     "output_type": "display_data"
    }
   ],
   "source": [
    "dataset <- liga[,c(5,9,10,11,13)]\n",
    "tree <- ctree(Final.Game.Result ~.,data= dataset)\n",
    "plot(tree, main= \"Final-game-result Decision Tree\")"
   ]
  },
  {
   "cell_type": "markdown",
   "metadata": {},
   "source": [
    "- There is no a relationship between the victory of Barcelona F.C. and the rest of the attributes \n",
    "- His favourite day to score goals is on Saturdays\n",
    "- He fells more comfortable scoring on second halfs"
   ]
  },
  {
   "cell_type": "markdown",
   "metadata": {},
   "source": [
    "## Performance in The Champions League\n",
    "![](https://st1.uvnimg.com/dims4/default/e8b7e78/2147483647/thumbnail/400x225/quality/75/?url=http%3A%2F%2Fuvn-brightspot.s3.amazonaws.com%2F9c%2F50%2F8ed798a6425ea27f0fdcc34d2465%2Fresizes%2F500%2Fcover-nota-numbers.jpg)"
   ]
  },
  {
   "cell_type": "code",
   "execution_count": 41,
   "metadata": {},
   "outputs": [],
   "source": [
    "champion <- filter(data,Competition.Name == 'Champions League')"
   ]
  },
  {
   "cell_type": "markdown",
   "metadata": {},
   "source": [
    "### Goals scored to clubs"
   ]
  },
  {
   "cell_type": "code",
   "execution_count": 42,
   "metadata": {},
   "outputs": [],
   "source": [
    "clubs_lachampion <- data.frame(sort(table(champion$Opponent),decreasing = T))\n",
    "colnames(clubs_lachampion) <- c('Club','Goals')"
   ]
  },
  {
   "cell_type": "code",
   "execution_count": 43,
   "metadata": {},
   "outputs": [
    {
     "data": {},
     "metadata": {},
     "output_type": "display_data"
    },
    {
     "data": {
      "image/png": "[encoded data removed]",
      "text/plain": [
       "plot without title"
      ]
     },
     "metadata": {},
     "output_type": "display_data"
    }
   ],
   "source": [
    "ggplot(data=clubs_lachampion) + geom_bar(aes(x=Club,y=Goals),stat='identity',fill='tan4') + \n",
    "scale_y_continuous(breaks=seq(2,10,2)) + labs(title=\"Goals scored to clubs\",x=\"\") +\n",
    "coord_flip()  + theme_fivethirtyeight()"
   ]
  },
  {
   "cell_type": "markdown",
   "metadata": {},
   "source": [
    "### Number of goals per game"
   ]
  },
  {
   "cell_type": "code",
   "execution_count": 44,
   "metadata": {},
   "outputs": [],
   "source": [
    "groupingn_goals <- group_by(champion,year,month,n_day,Opponent)\n",
    "n_goals <- summarise(groupingn_goals,Goals=length(Final.Game.Result))\n",
    "n_goals_df <- data.frame(table(n_goals$Goals))\n",
    "colnames(n_goals_df) <- c('N_goals','N_times')"
   ]
  },
  {
   "cell_type": "code",
   "execution_count": 45,
   "metadata": {},
   "outputs": [
    {
     "data": {},
     "metadata": {},
     "output_type": "display_data"
    },
    {
     "data": {
      "image/png": "[encoded data removed]",
      "text/plain": [
       "plot without title"
      ]
     },
     "metadata": {},
     "output_type": "display_data"
    }
   ],
   "source": [
    "ggplot(n_goals_df)+ geom_bar(aes(x=N_goals,y=N_times),stat = 'identity',\n",
    "                             fill='lightpink',colour='lightpink4',width = 0.4)+\n",
    "scale_y_continuous(breaks=seq(10,150,10))+\n",
    "ggtitle('Number of goals per game') + theme_hc()"
   ]
  },
  {
   "cell_type": "markdown",
   "metadata": {},
   "source": [
    "### Number of times clubs received three or more goals per game"
   ]
  },
  {
   "cell_type": "code",
   "execution_count": 46,
   "metadata": {},
   "outputs": [],
   "source": [
    "clubs <- filter(n_goals,Goals>=3)\n",
    "clubs_df <- data.frame(sort(table(clubs$Opponent),decreasing=T))\n",
    "colnames(clubs_df)<- c('Club','N_times')"
   ]
  },
  {
   "cell_type": "code",
   "execution_count": 47,
   "metadata": {},
   "outputs": [
    {
     "data": {},
     "metadata": {},
     "output_type": "display_data"
    },
    {
     "data": {
      "image/png": "[encoded data removed]",
      "text/plain": [
       "plot without title"
      ]
     },
     "metadata": {},
     "output_type": "display_data"
    }
   ],
   "source": [
    "ggplot(data=clubs_df) + geom_bar(aes(x=Club,y=N_times),stat='identity',fill='khaki4') + \n",
    "scale_y_continuous(breaks=seq(1,3,1)) + coord_flip() + \n",
    "ggtitle('Number of times clubs received\\n  three or more goals per game') + \n",
    "theme_fivethirtyeight()"
   ]
  },
  {
   "cell_type": "markdown",
   "metadata": {},
   "source": [
    "### Goals per minute"
   ]
  },
  {
   "cell_type": "code",
   "execution_count": 48,
   "metadata": {},
   "outputs": [],
   "source": [
    "minutes_lachampion <- data.frame(sort(table(champion$Minute),decreasing = T))\n",
    "colnames(minutes_lachampion)<- c('Minute','Goals')"
   ]
  },
  {
   "cell_type": "code",
   "execution_count": 49,
   "metadata": {},
   "outputs": [
    {
     "data": {},
     "metadata": {},
     "output_type": "display_data"
    },
    {
     "data": {
      "image/png": "[encoded data removed]",
      "text/plain": [
       "plot without title"
      ]
     },
     "metadata": {},
     "output_type": "display_data"
    }
   ],
   "source": [
    "ggplot(data=minutes_lachampion[1:20,]) + geom_bar(aes(x=Minute,y=Goals),stat='identity',\n",
    "                                                  fill='springgreen4') + \n",
    "scale_y_continuous(breaks=seq(2,4,1))+\n",
    "labs(x='',title='Top-20 minutes with the most amount of goals') + theme_fivethirtyeight()"
   ]
  },
  {
   "cell_type": "markdown",
   "metadata": {},
   "source": [
    "### Non goal minutes"
   ]
  },
  {
   "cell_type": "code",
   "execution_count": 50,
   "metadata": {},
   "outputs": [
    {
     "data": {
      "text/html": [
       "<ol>\n",
       "\t<li>1</li>\n",
       "\t<li>2</li>\n",
       "\t<li>6</li>\n",
       "\t<li>7</li>\n",
       "\t<li>8</li>\n",
       "\t<li>10</li>\n",
       "\t<li>12</li>\n",
       "\t<li>14</li>\n",
       "\t<li>15</li>\n",
       "\t<li>28</li>\n",
       "\t<li>29</li>\n",
       "\t<li>33</li>\n",
       "\t<li>35</li>\n",
       "\t<li>44</li>\n",
       "\t<li>46</li>\n",
       "\t<li>47</li>\n",
       "\t<li>51</li>\n",
       "\t<li>52</li>\n",
       "\t<li>53</li>\n",
       "\t<li>57</li>\n",
       "\t<li>64</li>\n",
       "\t<li>65</li>\n",
       "\t<li>66</li>\n",
       "\t<li>68</li>\n",
       "\t<li>72</li>\n",
       "\t<li>73</li>\n",
       "\t<li>74</li>\n",
       "\t<li>78</li>\n",
       "\t<li>81</li>\n",
       "\t<li>82</li>\n",
       "\t<li>85</li>\n",
       "</ol>\n"
      ],
      "text/latex": [
       "\\begin{enumerate}\n",
       "\\item 1\n",
       "\\item 2\n",
       "\\item 6\n",
       "\\item 7\n",
       "\\item 8\n",
       "\\item 10\n",
       "\\item 12\n",
       "\\item 14\n",
       "\\item 15\n",
       "\\item 28\n",
       "\\item 29\n",
       "\\item 33\n",
       "\\item 35\n",
       "\\item 44\n",
       "\\item 46\n",
       "\\item 47\n",
       "\\item 51\n",
       "\\item 52\n",
       "\\item 53\n",
       "\\item 57\n",
       "\\item 64\n",
       "\\item 65\n",
       "\\item 66\n",
       "\\item 68\n",
       "\\item 72\n",
       "\\item 73\n",
       "\\item 74\n",
       "\\item 78\n",
       "\\item 81\n",
       "\\item 82\n",
       "\\item 85\n",
       "\\end{enumerate}\n"
      ],
      "text/markdown": [
       "1. 1\n",
       "2. 2\n",
       "3. 6\n",
       "4. 7\n",
       "5. 8\n",
       "6. 10\n",
       "7. 12\n",
       "8. 14\n",
       "9. 15\n",
       "10. 28\n",
       "11. 29\n",
       "12. 33\n",
       "13. 35\n",
       "14. 44\n",
       "15. 46\n",
       "16. 47\n",
       "17. 51\n",
       "18. 52\n",
       "19. 53\n",
       "20. 57\n",
       "21. 64\n",
       "22. 65\n",
       "23. 66\n",
       "24. 68\n",
       "25. 72\n",
       "26. 73\n",
       "27. 74\n",
       "28. 78\n",
       "29. 81\n",
       "30. 82\n",
       "31. 85\n",
       "\n",
       "\n"
      ],
      "text/plain": [
       "[[1]]\n",
       "[1] 1\n",
       "\n",
       "[[2]]\n",
       "[1] 2\n",
       "\n",
       "[[3]]\n",
       "[1] 6\n",
       "\n",
       "[[4]]\n",
       "[1] 7\n",
       "\n",
       "[[5]]\n",
       "[1] 8\n",
       "\n",
       "[[6]]\n",
       "[1] 10\n",
       "\n",
       "[[7]]\n",
       "[1] 12\n",
       "\n",
       "[[8]]\n",
       "[1] 14\n",
       "\n",
       "[[9]]\n",
       "[1] 15\n",
       "\n",
       "[[10]]\n",
       "[1] 28\n",
       "\n",
       "[[11]]\n",
       "[1] 29\n",
       "\n",
       "[[12]]\n",
       "[1] 33\n",
       "\n",
       "[[13]]\n",
       "[1] 35\n",
       "\n",
       "[[14]]\n",
       "[1] 44\n",
       "\n",
       "[[15]]\n",
       "[1] 46\n",
       "\n",
       "[[16]]\n",
       "[1] 47\n",
       "\n",
       "[[17]]\n",
       "[1] 51\n",
       "\n",
       "[[18]]\n",
       "[1] 52\n",
       "\n",
       "[[19]]\n",
       "[1] 53\n",
       "\n",
       "[[20]]\n",
       "[1] 57\n",
       "\n",
       "[[21]]\n",
       "[1] 64\n",
       "\n",
       "[[22]]\n",
       "[1] 65\n",
       "\n",
       "[[23]]\n",
       "[1] 66\n",
       "\n",
       "[[24]]\n",
       "[1] 68\n",
       "\n",
       "[[25]]\n",
       "[1] 72\n",
       "\n",
       "[[26]]\n",
       "[1] 73\n",
       "\n",
       "[[27]]\n",
       "[1] 74\n",
       "\n",
       "[[28]]\n",
       "[1] 78\n",
       "\n",
       "[[29]]\n",
       "[1] 81\n",
       "\n",
       "[[30]]\n",
       "[1] 82\n",
       "\n",
       "[[31]]\n",
       "[1] 85\n"
      ]
     },
     "metadata": {},
     "output_type": "display_data"
    }
   ],
   "source": [
    "non_goal_minutes <- list()\n",
    "index <- 1\n",
    "for (min in 1:90){if(!min %in% champion$Minute){non_goal_minutes[index]<- min\n",
    "                                            index <- index +1 }} \n",
    "non_goal_minutes"
   ]
  },
  {
   "cell_type": "markdown",
   "metadata": {},
   "source": [
    "### Goals per period of game\n",
    "Goals per first, second half and additional time"
   ]
  },
  {
   "cell_type": "code",
   "execution_count": 51,
   "metadata": {},
   "outputs": [],
   "source": [
    "period <- rep(0,3)\n",
    "for (min in champion$Minute){if(min<45){ period[1] <- period[1]+1} \n",
    "                                   else {if(89 < min){period[3]<- period[3]+1}\n",
    "                                          else {period[2]<- period[2]+1} } }  \n",
    "goals_period <- data.frame('Period'=c('first half','second half','additional time'),'Goals'=period)\n",
    "goals_period = arrange(goals_period,desc(Period))\n",
    "goals_period$porcentage <- round(goals_period$Goals*100/sum(goals_period$Goals))\n",
    "goals_period$position = cumsum(goals_period$porcentage) - goals_period$porcentage/2\n",
    "goals_period$label <- paste(goals_period$porcentage,\"%\")"
   ]
  },
  {
   "cell_type": "code",
   "execution_count": 52,
   "metadata": {},
   "outputs": [
    {
     "data": {},
     "metadata": {},
     "output_type": "display_data"
    },
    {
     "data": {
      "image/png": "[encoded data removed]",
      "text/plain": [
       "plot without title"
      ]
     },
     "metadata": {},
     "output_type": "display_data"
    }
   ],
   "source": [
    "ggplot(goals_period) + geom_bar(aes(x=\"\",y=porcentage,fill=Period),col='white',stat = \"identity\") +\n",
    "coord_polar(theta=\"y\",start=0) + theme_void() + ggtitle('Goals per period of game') + \n",
    "theme(plot.title= element_text(hjust = 0.5,face = 'bold',family = 'Segoe Script'),\n",
    "      plot.margin = margin(1,1,1,1, \"cm\"),\n",
    "      text=element_text(size=15,family='MV Boli')) +\n",
    "geom_text(aes(x=1,y = position , label = label), col='white',size=3.5,fontface =2,family='Calibri') +\n",
    "scale_fill_brewer(palette=\"Set1\")"
   ]
  },
  {
   "cell_type": "markdown",
   "metadata": {},
   "source": [
    "### Goals per month"
   ]
  },
  {
   "cell_type": "code",
   "execution_count": 53,
   "metadata": {},
   "outputs": [],
   "source": [
    "months <- table(champion$month)\n",
    "df_months <- data.frame(months)\n",
    "colnames(df_months) <- c('Month','Goals')\n",
    "df_months$Month <- factor(df_months$Month,levels=months_ord)\n",
    "df_months <- rbind(df_months,c('June','0'))\n",
    "df_months <- rbind(df_months,c('July','0'))\n",
    "df_months <- rbind(df_months,c('August','0'))\n",
    "df_months$Goals <- as.numeric(df_months$Goals)"
   ]
  },
  {
   "cell_type": "code",
   "execution_count": 54,
   "metadata": {},
   "outputs": [
    {
     "data": {},
     "metadata": {},
     "output_type": "display_data"
    },
    {
     "data": {
      "image/png": "[encoded data removed]",
      "text/plain": [
       "plot without title"
      ]
     },
     "metadata": {},
     "output_type": "display_data"
    }
   ],
   "source": [
    "ggplot(df_months)+ geom_bar(aes(x=Month,y=Goals),stat='identity',fill='thistle',\n",
    "                            colour='thistle4')+ \n",
    "scale_y_continuous(breaks=seq(5,30,5))+ labs(x='',title='Goals per month') + theme_hc() +\n",
    "theme(plot.title= element_text(hjust = 0.5,face = 'bold',family = 'Segoe Script'),\n",
    "     plot.margin = margin(1,1,1,1, \"cm\"),\n",
    "     axis.text.x=element_text(size=6))"
   ]
  },
  {
   "cell_type": "markdown",
   "metadata": {},
   "source": [
    "### Goals per day of the week"
   ]
  },
  {
   "cell_type": "code",
   "execution_count": 55,
   "metadata": {},
   "outputs": [],
   "source": [
    "days <- table(champion$day)\n",
    "df_days <- data.frame(days)\n",
    "colnames(df_days) <- c('Day','Goals')\n",
    "df_days$Day <- factor(df_days$Day,levels=days_ord)\n",
    "df_days <- rbind(df_days,c('Monday','0'))\n",
    "df_days <- rbind(df_days,c('Thursday','0'))\n",
    "df_days <- rbind(df_days,c('Friday','0'))\n",
    "df_days <- rbind(df_days,c('Sunday','0'))\n",
    "df_days$Goals <- as.numeric(df_days$Goals)"
   ]
  },
  {
   "cell_type": "code",
   "execution_count": 56,
   "metadata": {},
   "outputs": [
    {
     "data": {},
     "metadata": {},
     "output_type": "display_data"
    },
    {
     "data": {
      "image/png": "[encoded data removed]",
      "text/plain": [
       "plot without title"
      ]
     },
     "metadata": {},
     "output_type": "display_data"
    }
   ],
   "source": [
    "ggplot(df_days)+ geom_bar(aes(x=Day,y=Goals),stat='identity',fill='lightcyan',\n",
    "                          colour='lightcyan4')+ \n",
    "scale_y_continuous(breaks=seq(10,60,10))+ \n",
    "labs(x='',title='Goals per day of the week') + theme_hc() +\n",
    "theme(plot.title= element_text(hjust = 0.5,face = 'bold',family = 'Segoe Script'),\n",
    "     plot.margin = margin(1,1,1,1, \"cm\"),\n",
    "     axis.text.x=element_text(size=8))"
   ]
  },
  {
   "cell_type": "markdown",
   "metadata": {},
   "source": [
    "### Type of goal"
   ]
  },
  {
   "cell_type": "code",
   "execution_count": 57,
   "metadata": {},
   "outputs": [],
   "source": [
    "type_goal <- table(champion$Goal.Type,exclude= NULL)\n",
    "rownames(type_goal)[6] <- \"Unknown\"\n",
    "type_goal <- data.frame(type_goal)\n",
    "colnames(type_goal) <- c('Type_of_goal','Goals')\n",
    "type_goal = arrange(type_goal,desc(Type_of_goal))\n",
    "type_goal$porcentage <- round(type_goal$Goals*100/sum(type_goal$Goals))\n",
    "type_goal$position = cumsum(type_goal$porcentage) - type_goal$porcentage/2\n",
    "type_goal$label <- paste(type_goal$porcentage,\"%\")"
   ]
  },
  {
   "cell_type": "code",
   "execution_count": 58,
   "metadata": {},
   "outputs": [
    {
     "data": {},
     "metadata": {},
     "output_type": "display_data"
    },
    {
     "data": {
      "image/png": "[encoded data removed]",
      "text/plain": [
       "plot without title"
      ]
     },
     "metadata": {},
     "output_type": "display_data"
    }
   ],
   "source": [
    "ggplot(type_goal) + geom_bar(aes(x=\"\",y=porcentage,fill=Type_of_goal),col='white',\n",
    "                             stat = \"identity\") +\n",
    "coord_polar(theta=\"y\",start=0) + theme_void() + ggtitle('Type of goal') + \n",
    "theme(plot.title= element_text(hjust = 0.5,face = 'bold',family = 'Segoe Script'),\n",
    "     plot.margin = margin(1,1,1,1, \"cm\"),\n",
    "     text=element_text(size=15,family='MV Boli')) +\n",
    "geom_text(aes(x=1.56,y = position , label = label), col='black',size=3.5,fontface =2,\n",
    "          family='Calibri') +\n",
    "geom_segment(aes(x = 1.445, y = position, xend = 1.47, yend = position))+\n",
    "scale_fill_brewer(palette=\"Set1\")"
   ]
  },
  {
   "cell_type": "markdown",
   "metadata": {},
   "source": [
    "### Global analysis"
   ]
  },
  {
   "cell_type": "code",
   "execution_count": 59,
   "metadata": {},
   "outputs": [],
   "source": [
    "#Changing to factors\n",
    "champion$Goal.Method <- as.factor(champion$Goal.Method)\n",
    "champion$day<- as.factor(champion$day)\n",
    "champion$month <- as.factor(champion$month)\n",
    "champion$Final.Game.Result<- as.factor(champion$Final.Game.Result)"
   ]
  },
  {
   "cell_type": "code",
   "execution_count": 60,
   "metadata": {},
   "outputs": [
    {
     "data": {
      "image/png": "[encoded data removed]",
      "text/plain": [
       "plot without title"
      ]
     },
     "metadata": {},
     "output_type": "display_data"
    }
   ],
   "source": [
    "dataset <- champion[,c(5,9,10,11,13)]\n",
    "tree <- ctree(Final.Game.Result ~.,data= dataset)\n",
    "plot(tree, main= \"Final-game-result Decision Tree\")"
   ]
  },
  {
   "cell_type": "markdown",
   "metadata": {},
   "source": [
    "- On the same way regard to the competition in La Liga, there in no a relationship between the victory of Messi's team and the rest of the attributes.\n",
    "- There in no a clear dependency on scoring goals by the half of play"
   ]
  }
 ],
 "metadata": {
  "kernelspec": {
   "display_name": "R",
   "language": "R",
   "name": "ir"
  },
  "language_info": {
   "codemirror_mode": "r",
   "file_extension": ".r",
   "mimetype": "text/x-r-source",
   "name": "R",
   "pygments_lexer": "r",
   "version": "3.5.1"
  }
 },
 "nbformat": 4,
 "nbformat_minor": 2
}
